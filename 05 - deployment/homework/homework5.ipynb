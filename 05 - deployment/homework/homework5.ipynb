{
 "cells": [
  {
   "cell_type": "markdown",
   "id": "646e1db07bb35690",
   "metadata": {
    "collapsed": true,
    "jupyter": {
     "outputs_hidden": true
    }
   },
   "source": [
    "## Q1 Installing UV\n",
    "* *What is the version?* **uv 0.9.5 (d5f39331a 2025-10-21)**"
   ]
  },
  {
   "cell_type": "markdown",
   "id": "95e25cb0e356e2ca",
   "metadata": {},
   "source": [
    "## Q2 Installing scikit-learn\n",
    "* *What is the first hash?* **sha256:b4fc2525eca2c69a59260f583c56a7557c6ccdf8deafdba6e060f94c1c59738e**"
   ]
  },
  {
   "cell_type": "markdown",
   "id": "75ddfae12cb41869",
   "metadata": {},
   "source": [
    "## Q3 Using the provided model\n",
    "* *Probability this lead will convert=* **0.533**"
   ]
  },
  {
   "cell_type": "code",
   "execution_count": 13,
   "id": "ee55448afe3cd442",
   "metadata": {
    "ExecuteTime": {
     "end_time": "2025-10-27T04:42:34.308313Z",
     "start_time": "2025-10-27T04:42:34.275616Z"
    }
   },
   "outputs": [
    {
     "ename": "SyntaxError",
     "evalue": "invalid syntax (4118010041.py, line 2)",
     "output_type": "error",
     "traceback": [
      "  \u001b[36mCell\u001b[39m\u001b[36m \u001b[39m\u001b[32mIn[13]\u001b[39m\u001b[32m, line 2\u001b[39m\n\u001b[31m    \u001b[39m\u001b[31mimport scikit-learn\u001b[39m\n                 ^\n\u001b[31mSyntaxError\u001b[39m\u001b[31m:\u001b[39m invalid syntax\n"
     ]
    }
   ],
   "source": [
    "#Code is below, contained in a separate standalone Python file\n",
    "\n",
    "import pickle\n",
    "\n",
    "def main():\n",
    "    model_file = 'pipeline_v1.bin'\n",
    "\n",
    "    with open(model_file, 'rb') as f_in:\n",
    "        pipeline = pickle.load(f_in)\n",
    "\n",
    "    test = {\n",
    "        \"lead_source\": \"paid_ads\",\n",
    "        \"number_of_courses_viewed\": 2,\n",
    "        \"annual_income\": 79276.0\n",
    "    }\n",
    "\n",
    "    y_pred = pipeline.predict_proba(test)[0,1]\n",
    "\n",
    "    print(f'Probability of conversion = {y_pred}')\n",
    "\n",
    "if __name__ == \"__main__\":\n",
    "    main()"
   ]
  },
  {
   "cell_type": "markdown",
   "id": "385902cb-64ae-48c0-ad17-067da69ba727",
   "metadata": {},
   "source": [
    "## Q4 Serve the model as a web service\n",
    "* *What's the probability this client gets a subscription?* **0.534**"
   ]
  },
  {
   "cell_type": "code",
   "execution_count": 25,
   "id": "2b57a880-e551-4e89-bfac-2084db0f585b",
   "metadata": {},
   "outputs": [
    {
     "name": "stdout",
     "output_type": "stream",
     "text": [
      "{'probability': 0.5340417283801275}\n"
     ]
    }
   ],
   "source": [
    "import requests\n",
    "\n",
    "url = \"http://127.0.0.1:9696/predict\"\n",
    "\n",
    "client = {\n",
    "    \"lead_source\": \"organic_search\",\n",
    "    \"number_of_courses_viewed\": 4,\n",
    "    \"annual_income\": 80304.0\n",
    "}\n",
    "\n",
    "print(requests.post(url, json=client).json())"
   ]
  },
  {
   "cell_type": "markdown",
   "id": "c771675c-052b-4765-b011-e3d699711ed4",
   "metadata": {},
   "source": [
    "## Now using Docker"
   ]
  },
  {
   "cell_type": "markdown",
   "id": "4c36281f-f534-4027-87f4-a62669377b86",
   "metadata": {},
   "source": [
    "* *How big is the class' docker image?* **181MB, so the closest answer is 121MB** "
   ]
  },
  {
   "cell_type": "markdown",
   "id": "27afd75e-3527-487e-a8c5-6d146a020c7d",
   "metadata": {},
   "source": [
    "## Q6 Run the Container!\n",
    "* *What is the probability now?* **Probability is .99**"
   ]
  },
  {
   "cell_type": "code",
   "execution_count": 23,
   "id": "2ce705bb-86b9-4851-8932-50896179aca7",
   "metadata": {},
   "outputs": [
    {
     "name": "stdout",
     "output_type": "stream",
     "text": [
      "{'probability': 0.9933071490756734}\n"
     ]
    }
   ],
   "source": [
    "import requests\n",
    "\n",
    "url = \"http://127.0.0.1:9696/predict\"\n",
    "\n",
    "client = {\n",
    "    \"lead_source\": \"organic_search\",\n",
    "    \"number_of_courses_viewed\": 4,\n",
    "    \"annual_income\": 80304.0\n",
    "}\n",
    "\n",
    "print(requests.post(url, json=client).json())"
   ]
  },
  {
   "cell_type": "code",
   "execution_count": null,
   "id": "b4b29947-f650-48e7-bad4-ca52b1e0f808",
   "metadata": {},
   "outputs": [],
   "source": []
  }
 ],
 "metadata": {
  "kernelspec": {
   "display_name": "Python 3 (ipykernel)",
   "language": "python",
   "name": "python3"
  },
  "language_info": {
   "codemirror_mode": {
    "name": "ipython",
    "version": 3
   },
   "file_extension": ".py",
   "mimetype": "text/x-python",
   "name": "python",
   "nbconvert_exporter": "python",
   "pygments_lexer": "ipython3",
   "version": "3.13.7"
  }
 },
 "nbformat": 4,
 "nbformat_minor": 5
}
