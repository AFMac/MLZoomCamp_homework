{
 "cells": [
  {
   "cell_type": "markdown",
   "id": "e5423d97463bdb1d",
   "metadata": {
    "ExecuteTime": {
     "end_time": "2025-10-20T05:08:54.788946Z",
     "start_time": "2025-10-20T05:08:54.783398Z"
    },
    "collapsed": true,
    "jupyter": {
     "outputs_hidden": true
    }
   },
   "source": [
    "Previous lessons created a model for predicting churn.  This recycles key code and consolidates into a single place."
   ]
  },
  {
   "cell_type": "code",
   "execution_count": 1,
   "id": "3872d34abb1d13ce",
   "metadata": {
    "ExecuteTime": {
     "end_time": "2025-10-26T00:27:54.476426Z",
     "start_time": "2025-10-26T00:27:40.719128Z"
    }
   },
   "outputs": [],
   "source": [
    "import pandas as pd\n",
    "import numpy as np\n",
    "\n",
    "from sklearn.model_selection import train_test_split\n",
    "from sklearn.model_selection import KFold\n",
    "\n",
    "from sklearn.feature_extraction import DictVectorizer\n",
    "from sklearn.linear_model import LogisticRegression\n",
    "from sklearn.metrics import roc_auc_score"
   ]
  },
  {
   "cell_type": "code",
   "execution_count": 2,
   "id": "531fe51075a17712",
   "metadata": {
    "ExecuteTime": {
     "end_time": "2025-10-26T00:27:57.550288Z",
     "start_time": "2025-10-26T00:27:56.892578Z"
    }
   },
   "outputs": [],
   "source": [
    "data_url = 'https://raw.githubusercontent.com/alexeygrigorev/mlbookcamp-code/master/chapter-03-churn-prediction/WA_Fn-UseC_-Telco-Customer-Churn.csv'\n",
    "\n",
    "df = pd.read_csv(data_url)\n",
    "\n",
    "df.columns = df.columns.str.lower().str.replace(' ', '_')\n",
    "\n",
    "categorical_columns = list(df.dtypes[df.dtypes == 'object'].index)\n",
    "\n",
    "for c in categorical_columns:\n",
    "    df[c] = df[c].str.lower().str.replace(' ', '_')\n",
    "\n",
    "df.totalcharges = pd.to_numeric(df.totalcharges, errors='coerce')\n",
    "df.totalcharges = df.totalcharges.fillna(0)\n",
    "\n",
    "df.churn = (df.churn == 'yes').astype(int)"
   ]
  },
  {
   "cell_type": "code",
   "execution_count": 3,
   "id": "571379639ede5198",
   "metadata": {
    "ExecuteTime": {
     "end_time": "2025-10-26T00:28:02.998701Z",
     "start_time": "2025-10-26T00:28:02.971154Z"
    }
   },
   "outputs": [],
   "source": [
    "df_full_train, df_test = train_test_split(df, test_size=0.2, random_state=1)"
   ]
  },
  {
   "cell_type": "code",
   "execution_count": 4,
   "id": "ee1b6d6ca6304278",
   "metadata": {
    "ExecuteTime": {
     "end_time": "2025-10-26T00:28:03.472350Z",
     "start_time": "2025-10-26T00:28:03.465770Z"
    }
   },
   "outputs": [],
   "source": [
    "numerical = ['tenure', 'monthlycharges', 'totalcharges']\n",
    "\n",
    "categorical = [\n",
    "    'gender',\n",
    "    'seniorcitizen',\n",
    "    'partner',\n",
    "    'dependents',\n",
    "    'phoneservice',\n",
    "    'multiplelines',\n",
    "    'internetservice',\n",
    "    'onlinesecurity',\n",
    "    'onlinebackup',\n",
    "    'deviceprotection',\n",
    "    'techsupport',\n",
    "    'streamingtv',\n",
    "    'streamingmovies',\n",
    "    'contract',\n",
    "    'paperlessbilling',\n",
    "    'paymentmethod',\n",
    "]"
   ]
  },
  {
   "cell_type": "code",
   "execution_count": 5,
   "id": "ce49ff38865773f5",
   "metadata": {
    "ExecuteTime": {
     "end_time": "2025-10-26T00:28:07.476317Z",
     "start_time": "2025-10-26T00:28:07.469905Z"
    }
   },
   "outputs": [],
   "source": [
    "def train(df_train, y_train, C=1.0):\n",
    "    dicts = df_train[categorical + numerical].to_dict(orient='records')\n",
    "\n",
    "    dv = DictVectorizer(sparse=False)\n",
    "    X_train = dv.fit_transform(dicts)\n",
    "\n",
    "    model = LogisticRegression(C=C, max_iter=10000)\n",
    "    model.fit(X_train, y_train)\n",
    "\n",
    "    return dv, model"
   ]
  },
  {
   "cell_type": "code",
   "execution_count": 6,
   "id": "269292ac1323a903",
   "metadata": {
    "ExecuteTime": {
     "end_time": "2025-10-26T00:28:10.125670Z",
     "start_time": "2025-10-26T00:28:10.118831Z"
    }
   },
   "outputs": [],
   "source": [
    "def predict(df, dv, model):\n",
    "    dicts = df[categorical + numerical].to_dict(orient='records')\n",
    "\n",
    "    X = dv.transform(dicts)\n",
    "    y_pred = model.predict_proba(X)[:, 1]\n",
    "\n",
    "    return y_pred"
   ]
  },
  {
   "cell_type": "code",
   "execution_count": 7,
   "id": "ba64a7649e945ff6",
   "metadata": {
    "ExecuteTime": {
     "end_time": "2025-10-26T00:28:11.943262Z",
     "start_time": "2025-10-26T00:28:11.938123Z"
    }
   },
   "outputs": [],
   "source": [
    "C = 1.0\n",
    "n_splits = 5"
   ]
  },
  {
   "cell_type": "code",
   "execution_count": 8,
   "id": "15c4c3c378ba4bea",
   "metadata": {
    "ExecuteTime": {
     "end_time": "2025-10-26T00:28:20.805771Z",
     "start_time": "2025-10-26T00:28:13.415124Z"
    }
   },
   "outputs": [
    {
     "name": "stdout",
     "output_type": "stream",
     "text": [
      "C=1.0 0.842 +- 0.007\n"
     ]
    }
   ],
   "source": [
    "kfold = KFold(n_splits=n_splits, shuffle=True, random_state=1)\n",
    "\n",
    "scores = []\n",
    "\n",
    "for train_idx, val_idx in kfold.split(df_full_train):\n",
    "    df_train = df_full_train.iloc[train_idx]\n",
    "    df_val = df_full_train.iloc[val_idx]\n",
    "\n",
    "    y_train = df_train.churn.values\n",
    "    y_val = df_val.churn.values\n",
    "\n",
    "    dv, model = train(df_train, y_train, C=C)\n",
    "    y_pred = predict(df_val, dv, model)\n",
    "\n",
    "    auc = roc_auc_score(y_val, y_pred)\n",
    "    scores.append(auc)\n",
    "\n",
    "print('C=%s %.3f +- %.3f' % (C, np.mean(scores), np.std(scores)))"
   ]
  },
  {
   "cell_type": "code",
   "execution_count": 9,
   "id": "2244bab79d5c793",
   "metadata": {
    "ExecuteTime": {
     "end_time": "2025-10-26T00:31:53.188517Z",
     "start_time": "2025-10-26T00:31:53.179935Z"
    }
   },
   "outputs": [],
   "source": [
    "import pickle\n",
    "output_file = 'model_C=%s.bin' % C\n",
    "with open(output_file, 'wb') as f_out: # 'wb' means write-binary\n",
    "    pickle.dump((dv, model), f_out)"
   ]
  },
  {
   "cell_type": "code",
   "execution_count": 11,
   "id": "b437b62a73bf4f5f",
   "metadata": {
    "ExecuteTime": {
     "end_time": "2025-10-26T00:34:15.438189Z",
     "start_time": "2025-10-26T00:34:13.890804Z"
    }
   },
   "outputs": [
    {
     "name": "stdout",
     "output_type": "stream",
     "text": [
      " * Serving Flask app 'ping'\n",
      " * Debug mode: on\n"
     ]
    },
    {
     "name": "stderr",
     "output_type": "stream",
     "text": [
      "WARNING: This is a development server. Do not use it in a production deployment. Use a production WSGI server instead.\n",
      " * Running on all addresses (0.0.0.0)\n",
      " * Running on http://127.0.0.1:9696\n",
      " * Running on http://10.0.0.237:9696\n",
      "Press CTRL+C to quit\n",
      " * Restarting with stat\n"
     ]
    },
    {
     "ename": "SystemExit",
     "evalue": "1",
     "output_type": "error",
     "traceback": [
      "An exception has occurred, use %tb to see the full traceback.\n",
      "\u001b[31mSystemExit\u001b[39m\u001b[31m:\u001b[39m 1\n"
     ]
    }
   ],
   "source": [
    "from flask import Flask\n",
    "\n",
    "app = Flask('ping') # give an identity to your web service\n",
    "\n",
    "@app.route('/ping', methods=['GET']) # use decorator to add Flask's functionality to our function\n",
    "def ping():\n",
    "    return 'PONG'\n",
    "\n",
    "if __name__ == '__main__':\n",
    "   app.run(debug=True, host='0.0.0.0', port=9696) # run the code in local machine with the debugging mode true and port 9696"
   ]
  },
  {
   "cell_type": "code",
   "execution_count": 12,
   "id": "e7a71757d808d3d5",
   "metadata": {
    "ExecuteTime": {
     "end_time": "2025-10-26T00:35:43.824965Z",
     "start_time": "2025-10-26T00:35:43.744820Z"
    }
   },
   "outputs": [
    {
     "ename": "SystemExit",
     "evalue": "1",
     "output_type": "error",
     "traceback": [
      "\u001b[31m---------------------------------------------------------------------------\u001b[39m",
      "\u001b[31mSystemExit\u001b[39m                                Traceback (most recent call last)",
      "\u001b[36mCell\u001b[39m\u001b[36m \u001b[39m\u001b[32mIn[11]\u001b[39m\u001b[32m, line 10\u001b[39m\n\u001b[32m      7\u001b[39m     \u001b[38;5;28;01mreturn\u001b[39;00m \u001b[33m'\u001b[39m\u001b[33mPONG\u001b[39m\u001b[33m'\u001b[39m\n\u001b[32m      9\u001b[39m \u001b[38;5;28;01mif\u001b[39;00m \u001b[34m__name__\u001b[39m == \u001b[33m'\u001b[39m\u001b[33m__main__\u001b[39m\u001b[33m'\u001b[39m:\n\u001b[32m---> \u001b[39m\u001b[32m10\u001b[39m    \u001b[43mapp\u001b[49m\u001b[43m.\u001b[49m\u001b[43mrun\u001b[49m\u001b[43m(\u001b[49m\u001b[43mdebug\u001b[49m\u001b[43m=\u001b[49m\u001b[38;5;28;43;01mTrue\u001b[39;49;00m\u001b[43m,\u001b[49m\u001b[43m \u001b[49m\u001b[43mhost\u001b[49m\u001b[43m=\u001b[49m\u001b[33;43m'\u001b[39;49m\u001b[33;43m0.0.0.0\u001b[39;49m\u001b[33;43m'\u001b[39;49m\u001b[43m,\u001b[49m\u001b[43m \u001b[49m\u001b[43mport\u001b[49m\u001b[43m=\u001b[49m\u001b[32;43m9696\u001b[39;49m\u001b[43m)\u001b[49m \u001b[38;5;66;03m# run the code in local machine with the debugging mode true and port 9696\u001b[39;00m\n",
      "\u001b[36mFile \u001b[39m\u001b[32m~\\PycharmProjects\\MLZoomCamp_homework\\.venv\\Lib\\site-packages\\flask\\app.py:662\u001b[39m, in \u001b[36mFlask.run\u001b[39m\u001b[34m(self, host, port, debug, load_dotenv, **options)\u001b[39m\n\u001b[32m    659\u001b[39m \u001b[38;5;28;01mfrom\u001b[39;00m\u001b[38;5;250m \u001b[39m\u001b[34;01mwerkzeug\u001b[39;00m\u001b[34;01m.\u001b[39;00m\u001b[34;01mserving\u001b[39;00m\u001b[38;5;250m \u001b[39m\u001b[38;5;28;01mimport\u001b[39;00m run_simple\n\u001b[32m    661\u001b[39m \u001b[38;5;28;01mtry\u001b[39;00m:\n\u001b[32m--> \u001b[39m\u001b[32m662\u001b[39m     \u001b[43mrun_simple\u001b[49m\u001b[43m(\u001b[49m\u001b[43mt\u001b[49m\u001b[43m.\u001b[49m\u001b[43mcast\u001b[49m\u001b[43m(\u001b[49m\u001b[38;5;28;43mstr\u001b[39;49m\u001b[43m,\u001b[49m\u001b[43m \u001b[49m\u001b[43mhost\u001b[49m\u001b[43m)\u001b[49m\u001b[43m,\u001b[49m\u001b[43m \u001b[49m\u001b[43mport\u001b[49m\u001b[43m,\u001b[49m\u001b[43m \u001b[49m\u001b[38;5;28;43mself\u001b[39;49m\u001b[43m,\u001b[49m\u001b[43m \u001b[49m\u001b[43m*\u001b[49m\u001b[43m*\u001b[49m\u001b[43moptions\u001b[49m\u001b[43m)\u001b[49m\n\u001b[32m    663\u001b[39m \u001b[38;5;28;01mfinally\u001b[39;00m:\n\u001b[32m    664\u001b[39m     \u001b[38;5;66;03m# reset the first request information if the development server\u001b[39;00m\n\u001b[32m    665\u001b[39m     \u001b[38;5;66;03m# reset normally.  This makes it possible to restart the server\u001b[39;00m\n\u001b[32m    666\u001b[39m     \u001b[38;5;66;03m# without reloader and that stuff from an interactive shell.\u001b[39;00m\n\u001b[32m    667\u001b[39m     \u001b[38;5;28mself\u001b[39m._got_first_request = \u001b[38;5;28;01mFalse\u001b[39;00m\n",
      "\u001b[36mFile \u001b[39m\u001b[32m~\\PycharmProjects\\MLZoomCamp_homework\\.venv\\Lib\\site-packages\\werkzeug\\serving.py:1115\u001b[39m, in \u001b[36mrun_simple\u001b[39m\u001b[34m(hostname, port, application, use_reloader, use_debugger, use_evalex, extra_files, exclude_patterns, reloader_interval, reloader_type, threaded, processes, request_handler, static_files, passthrough_errors, ssl_context)\u001b[39m\n\u001b[32m   1112\u001b[39m \u001b[38;5;28;01mfrom\u001b[39;00m\u001b[38;5;250m \u001b[39m\u001b[34;01m.\u001b[39;00m\u001b[34;01m_reloader\u001b[39;00m\u001b[38;5;250m \u001b[39m\u001b[38;5;28;01mimport\u001b[39;00m run_with_reloader\n\u001b[32m   1114\u001b[39m \u001b[38;5;28;01mtry\u001b[39;00m:\n\u001b[32m-> \u001b[39m\u001b[32m1115\u001b[39m     \u001b[43mrun_with_reloader\u001b[49m\u001b[43m(\u001b[49m\n\u001b[32m   1116\u001b[39m \u001b[43m        \u001b[49m\u001b[43msrv\u001b[49m\u001b[43m.\u001b[49m\u001b[43mserve_forever\u001b[49m\u001b[43m,\u001b[49m\n\u001b[32m   1117\u001b[39m \u001b[43m        \u001b[49m\u001b[43mextra_files\u001b[49m\u001b[43m=\u001b[49m\u001b[43mextra_files\u001b[49m\u001b[43m,\u001b[49m\n\u001b[32m   1118\u001b[39m \u001b[43m        \u001b[49m\u001b[43mexclude_patterns\u001b[49m\u001b[43m=\u001b[49m\u001b[43mexclude_patterns\u001b[49m\u001b[43m,\u001b[49m\n\u001b[32m   1119\u001b[39m \u001b[43m        \u001b[49m\u001b[43minterval\u001b[49m\u001b[43m=\u001b[49m\u001b[43mreloader_interval\u001b[49m\u001b[43m,\u001b[49m\n\u001b[32m   1120\u001b[39m \u001b[43m        \u001b[49m\u001b[43mreloader_type\u001b[49m\u001b[43m=\u001b[49m\u001b[43mreloader_type\u001b[49m\u001b[43m,\u001b[49m\n\u001b[32m   1121\u001b[39m \u001b[43m    \u001b[49m\u001b[43m)\u001b[49m\n\u001b[32m   1122\u001b[39m \u001b[38;5;28;01mfinally\u001b[39;00m:\n\u001b[32m   1123\u001b[39m     srv.server_close()\n",
      "\u001b[36mFile \u001b[39m\u001b[32m~\\PycharmProjects\\MLZoomCamp_homework\\.venv\\Lib\\site-packages\\werkzeug\\_reloader.py:469\u001b[39m, in \u001b[36mrun_with_reloader\u001b[39m\u001b[34m(main_func, extra_files, exclude_patterns, interval, reloader_type)\u001b[39m\n\u001b[32m    467\u001b[39m             reloader.run()\n\u001b[32m    468\u001b[39m     \u001b[38;5;28;01melse\u001b[39;00m:\n\u001b[32m--> \u001b[39m\u001b[32m469\u001b[39m         \u001b[43msys\u001b[49m\u001b[43m.\u001b[49m\u001b[43mexit\u001b[49m\u001b[43m(\u001b[49m\u001b[43mreloader\u001b[49m\u001b[43m.\u001b[49m\u001b[43mrestart_with_reloader\u001b[49m\u001b[43m(\u001b[49m\u001b[43m)\u001b[49m\u001b[43m)\u001b[49m\n\u001b[32m    470\u001b[39m \u001b[38;5;28;01mexcept\u001b[39;00m \u001b[38;5;167;01mKeyboardInterrupt\u001b[39;00m:\n\u001b[32m    471\u001b[39m     \u001b[38;5;28;01mpass\u001b[39;00m\n",
      "\u001b[31mSystemExit\u001b[39m: 1"
     ]
    }
   ],
   "source": [
    "%tb"
   ]
  },
  {
   "cell_type": "code",
   "execution_count": 14,
   "id": "7e88cd5de1ba3523",
   "metadata": {
    "ExecuteTime": {
     "end_time": "2025-10-23T03:36:35.604936Z",
     "start_time": "2025-10-23T03:36:35.592857Z"
    }
   },
   "outputs": [
    {
     "data": {
      "text/plain": [
       "[0.8444003108539849,\n",
       " 0.8451633061846113,\n",
       " 0.8336343568131648,\n",
       " 0.8347728944170877,\n",
       " 0.8518363088701327]"
      ]
     },
     "execution_count": 14,
     "metadata": {},
     "output_type": "execute_result"
    }
   ],
   "source": [
    "\n",
    "scores"
   ]
  },
  {
   "cell_type": "code",
   "execution_count": 15,
   "id": "9219c529037f0229",
   "metadata": {
    "ExecuteTime": {
     "end_time": "2025-10-23T03:36:45.052475Z",
     "start_time": "2025-10-23T03:36:42.420452Z"
    }
   },
   "outputs": [
    {
     "data": {
      "text/plain": [
       "0.8584573759303195"
      ]
     },
     "execution_count": 15,
     "metadata": {},
     "output_type": "execute_result"
    }
   ],
   "source": [
    "dv, model = train(df_full_train, df_full_train.churn.values, C=1.0)\n",
    "y_pred = predict(df_test, dv, model)\n",
    "\n",
    "y_test = df_test.churn.values\n",
    "auc = roc_auc_score(y_test, y_pred)\n",
    "auc"
   ]
  },
  {
   "cell_type": "markdown",
   "id": "f6da465a64fb1ca6",
   "metadata": {},
   "source": [
    "*How to go about saving a model we've created*"
   ]
  },
  {
   "cell_type": "code",
   "execution_count": 16,
   "id": "97d8755ad34e3629",
   "metadata": {
    "ExecuteTime": {
     "end_time": "2025-10-23T03:38:54.513865Z",
     "start_time": "2025-10-23T03:38:54.508325Z"
    }
   },
   "outputs": [],
   "source": [
    "import pickle"
   ]
  },
  {
   "cell_type": "code",
   "execution_count": 18,
   "id": "11e08bc117467cfb",
   "metadata": {
    "ExecuteTime": {
     "end_time": "2025-10-23T03:39:41.110801Z",
     "start_time": "2025-10-23T03:39:41.103937Z"
    }
   },
   "outputs": [
    {
     "data": {
      "text/plain": [
       "'model_C=1.0.bin'"
      ]
     },
     "execution_count": 18,
     "metadata": {},
     "output_type": "execute_result"
    }
   ],
   "source": [
    "output_file = 'model_C=%s.bin' % C\n",
    "output_file"
   ]
  },
  {
   "cell_type": "code",
   "execution_count": 19,
   "id": "bb8a8d5ef0aca9e",
   "metadata": {
    "ExecuteTime": {
     "end_time": "2025-10-23T03:41:18.772243Z",
     "start_time": "2025-10-23T03:41:18.765362Z"
    }
   },
   "outputs": [],
   "source": [
    "f_out = open(output_file, 'wb')\n",
    "pickle.dump((dv,model), f_out)\n",
    "f_out.close()"
   ]
  },
  {
   "cell_type": "code",
   "execution_count": 20,
   "id": "3a9e6b639be89dc5",
   "metadata": {
    "ExecuteTime": {
     "end_time": "2025-10-23T03:42:04.022359Z",
     "start_time": "2025-10-23T03:42:04.015918Z"
    }
   },
   "outputs": [],
   "source": [
    "with open(output_file, 'wb') as f_out:\n",
    "    pickle.dump((dv, model), f_out)\n",
    "    #do other things"
   ]
  },
  {
   "cell_type": "markdown",
   "id": "3b1adc13b5ab368",
   "metadata": {},
   "source": [
    "*Let's practice loading the file now*"
   ]
  },
  {
   "cell_type": "code",
   "execution_count": 21,
   "id": "962e8b78492cbb5",
   "metadata": {
    "ExecuteTime": {
     "end_time": "2025-10-23T03:44:49.509230Z",
     "start_time": "2025-10-23T03:44:49.504293Z"
    }
   },
   "outputs": [],
   "source": [
    "with open(output_file, 'rb') as f_in:\n",
    "    (dv_in, model_in) = pickle.load(f_in)"
   ]
  },
  {
   "cell_type": "code",
   "execution_count": 24,
   "id": "85f2cb942ef21fd",
   "metadata": {
    "ExecuteTime": {
     "end_time": "2025-10-23T03:45:31.325926Z",
     "start_time": "2025-10-23T03:45:31.317902Z"
    }
   },
   "outputs": [
    {
     "data": {
      "text/plain": [
       "(DictVectorizer(sparse=False), LogisticRegression(max_iter=10000))"
      ]
     },
     "execution_count": 24,
     "metadata": {},
     "output_type": "execute_result"
    }
   ],
   "source": [
    "#to demonstrate the successful load...\n",
    "dv_in, model_in"
   ]
  },
  {
   "cell_type": "code",
   "execution_count": 25,
   "id": "64fe1b0dd11bcc4e",
   "metadata": {
    "ExecuteTime": {
     "end_time": "2025-10-23T03:47:03.918234Z",
     "start_time": "2025-10-23T03:47:03.911993Z"
    }
   },
   "outputs": [],
   "source": [
    "#let's try out our imported model with a sample individual\n",
    "\n",
    "customer = {\n",
    "    'gender': 'female',\n",
    "    'seniorcitizen': 0,\n",
    "    'partner': 'yes',\n",
    "    'dependents': 'no',\n",
    "    'phoneservice': 'no',\n",
    "    'multiplelines': 'no_phone_service',\n",
    "    'internetservice': 'dsl',\n",
    "    'onlinesecurity': 'no',\n",
    "    'onlinebackup': 'yes',\n",
    "    'deviceprotection': 'no',\n",
    "    'techsupport': 'no',\n",
    "    'streamingtv': 'no',\n",
    "    'streamingmovies': 'no',\n",
    "    'contract': 'month-to-month',\n",
    "    'paperlessbilling': 'yes',\n",
    "    'paymentmethod': 'electronic_check',\n",
    "    'tenure': 1,\n",
    "    'monthlycharges': 29.85,\n",
    "    'totalcharges': 29.85\n",
    "}"
   ]
  },
  {
   "cell_type": "code",
   "execution_count": 26,
   "id": "79454ffcea8537ab",
   "metadata": {
    "ExecuteTime": {
     "end_time": "2025-10-23T03:47:47.007998Z",
     "start_time": "2025-10-23T03:47:47.002641Z"
    }
   },
   "outputs": [],
   "source": [
    "X = dv_in.transform([customer])"
   ]
  },
  {
   "cell_type": "code",
   "execution_count": 27,
   "id": "5e9a7af1e804ec98",
   "metadata": {
    "ExecuteTime": {
     "end_time": "2025-10-23T03:48:03.055006Z",
     "start_time": "2025-10-23T03:48:03.048149Z"
    }
   },
   "outputs": [
    {
     "data": {
      "text/plain": [
       "np.float64(0.6278927307895446)"
      ]
     },
     "execution_count": 27,
     "metadata": {},
     "output_type": "execute_result"
    }
   ],
   "source": [
    "model_in.predict_proba(X)[0,1]"
   ]
  },
  {
   "cell_type": "code",
   "execution_count": null,
   "id": "d598e649993f466c",
   "metadata": {},
   "outputs": [],
   "source": []
  }
 ],
 "metadata": {
  "kernelspec": {
   "display_name": "Python 3 (ipykernel)",
   "language": "python",
   "name": "python3"
  },
  "language_info": {
   "codemirror_mode": {
    "name": "ipython",
    "version": 3
   },
   "file_extension": ".py",
   "mimetype": "text/x-python",
   "name": "python",
   "nbconvert_exporter": "python",
   "pygments_lexer": "ipython3",
   "version": "3.13.7"
  }
 },
 "nbformat": 4,
 "nbformat_minor": 5
}
