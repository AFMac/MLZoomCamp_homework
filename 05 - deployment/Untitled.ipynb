{
 "cells": [
  {
   "cell_type": "code",
   "id": "caf3f190-8a92-4370-ab95-c3a65c755c08",
   "metadata": {
    "ExecuteTime": {
     "end_time": "2025-10-27T03:52:10.895131Z",
     "start_time": "2025-10-27T03:52:10.889430Z"
    }
   },
   "source": [
    "import requests"
   ],
   "outputs": [],
   "execution_count": 34
  },
  {
   "cell_type": "code",
   "id": "28dadd89-b8cd-4255-91d3-627c1ddcff87",
   "metadata": {
    "ExecuteTime": {
     "end_time": "2025-10-27T03:52:12.442262Z",
     "start_time": "2025-10-27T03:52:12.437649Z"
    }
   },
   "source": [
    "url = \"http://127.0.0.1:9696/predict\""
   ],
   "outputs": [],
   "execution_count": 35
  },
  {
   "cell_type": "code",
   "id": "56f98be2-fc83-4c64-9047-e866673d1fbc",
   "metadata": {
    "ExecuteTime": {
     "end_time": "2025-10-27T03:52:43.408249Z",
     "start_time": "2025-10-27T03:52:43.402314Z"
    }
   },
   "source": [
    "customer = {\n",
    "    \"gender\": \"female\",\n",
    "    \"seniorcitizen\": 0,\n",
    "    \"partner\": \"yes\",\n",
    "    \"dependents\": \"no\",\n",
    "    \"phoneservice\": \"no\",\n",
    "    \"multiplelines\": \"no_phone_service\",\n",
    "    \"internetservice\": \"dsl\",\n",
    "    \"onlinesecurity\": \"no\",\n",
    "    \"onlinebackup\": \"yes\",\n",
    "    \"deviceprotection\": \"no\",\n",
    "    \"techsupport\": \"no\",\n",
    "    \"streamingtv\": \"no\",\n",
    "    \"streamingmovies\": \"no\",\n",
    "    \"contract\": \"month-to-month\",\n",
    "    \"paperlessbilling\": \"yes\",\n",
    "    \"paymentmethod\": \"electronic_check\",\n",
    "    \"tenure\": 24,\n",
    "    \"monthlycharges\": 29.85,\n",
    "    \"totalcharges\": 29.85\n",
    "}"
   ],
   "outputs": [],
   "execution_count": 40
  },
  {
   "cell_type": "code",
   "id": "5594be7f-4956-44c4-a0dc-f01c5aeb9b2e",
   "metadata": {
    "ExecuteTime": {
     "end_time": "2025-10-27T03:55:45.769281Z",
     "start_time": "2025-10-27T03:55:45.753372Z"
    }
   },
   "source": "print(requests.post(url, json = customer).json())",
   "outputs": [
    {
     "name": "stdout",
     "output_type": "stream",
     "text": [
      "{'churn_decision': False, 'churn_probability': 0.28852276543141847}\n"
     ]
    }
   ],
   "execution_count": 43
  },
  {
   "cell_type": "code",
   "execution_count": null,
   "id": "2b576e28-7819-4295-85e5-708ce8c98701",
   "metadata": {},
   "outputs": [],
   "source": []
  }
 ],
 "metadata": {
  "kernelspec": {
   "display_name": "Python 3 (ipykernel)",
   "language": "python",
   "name": "python3"
  },
  "language_info": {
   "codemirror_mode": {
    "name": "ipython",
    "version": 3
   },
   "file_extension": ".py",
   "mimetype": "text/x-python",
   "name": "python",
   "nbconvert_exporter": "python",
   "pygments_lexer": "ipython3",
   "version": "3.13.7"
  }
 },
 "nbformat": 4,
 "nbformat_minor": 5
}
