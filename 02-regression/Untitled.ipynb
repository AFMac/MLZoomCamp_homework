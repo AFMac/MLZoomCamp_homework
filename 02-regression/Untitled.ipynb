{
 "cells": [
  {
   "cell_type": "code",
   "execution_count": 1,
   "id": "0edcaa8d-d3cd-4720-b503-42401078b0a7",
   "metadata": {},
   "outputs": [],
   "source": [
    "import pandas as pd\n",
    "import numpy as np"
   ]
  },
  {
   "cell_type": "code",
   "execution_count": 2,
   "id": "489ca337-1c18-4ef7-8f52-e5e88dfac16c",
   "metadata": {},
   "outputs": [],
   "source": [
    "data = \"/workspaces/MLZoomCamp_homework/02-regression/data.csv\""
   ]
  },
  {
   "cell_type": "code",
   "execution_count": 3,
   "id": "1ac3f592-7aed-4685-893c-3da28beb913e",
   "metadata": {},
   "outputs": [],
   "source": [
    "df = pd.read_csv(data)"
   ]
  },
  {
   "cell_type": "code",
   "execution_count": 4,
   "id": "f92b9d9c-7982-44db-afc1-09cad7f8a404",
   "metadata": {},
   "outputs": [
    {
     "data": {
      "text/html": [
       "<div>\n",
       "<style scoped>\n",
       "    .dataframe tbody tr th:only-of-type {\n",
       "        vertical-align: middle;\n",
       "    }\n",
       "\n",
       "    .dataframe tbody tr th {\n",
       "        vertical-align: top;\n",
       "    }\n",
       "\n",
       "    .dataframe thead th {\n",
       "        text-align: right;\n",
       "    }\n",
       "</style>\n",
       "<table border=\"1\" class=\"dataframe\">\n",
       "  <thead>\n",
       "    <tr style=\"text-align: right;\">\n",
       "      <th></th>\n",
       "      <th>Make</th>\n",
       "      <th>Model</th>\n",
       "      <th>Year</th>\n",
       "      <th>Engine Fuel Type</th>\n",
       "      <th>Engine HP</th>\n",
       "      <th>Engine Cylinders</th>\n",
       "      <th>Transmission Type</th>\n",
       "      <th>Driven_Wheels</th>\n",
       "      <th>Number of Doors</th>\n",
       "      <th>Market Category</th>\n",
       "      <th>Vehicle Size</th>\n",
       "      <th>Vehicle Style</th>\n",
       "      <th>highway MPG</th>\n",
       "      <th>city mpg</th>\n",
       "      <th>Popularity</th>\n",
       "      <th>MSRP</th>\n",
       "    </tr>\n",
       "  </thead>\n",
       "  <tbody>\n",
       "    <tr>\n",
       "      <th>0</th>\n",
       "      <td>BMW</td>\n",
       "      <td>1 Series M</td>\n",
       "      <td>2011</td>\n",
       "      <td>premium unleaded (required)</td>\n",
       "      <td>335.0</td>\n",
       "      <td>6.0</td>\n",
       "      <td>MANUAL</td>\n",
       "      <td>rear wheel drive</td>\n",
       "      <td>2.0</td>\n",
       "      <td>Factory Tuner,Luxury,High-Performance</td>\n",
       "      <td>Compact</td>\n",
       "      <td>Coupe</td>\n",
       "      <td>26</td>\n",
       "      <td>19</td>\n",
       "      <td>3916</td>\n",
       "      <td>46135</td>\n",
       "    </tr>\n",
       "    <tr>\n",
       "      <th>1</th>\n",
       "      <td>BMW</td>\n",
       "      <td>1 Series</td>\n",
       "      <td>2011</td>\n",
       "      <td>premium unleaded (required)</td>\n",
       "      <td>300.0</td>\n",
       "      <td>6.0</td>\n",
       "      <td>MANUAL</td>\n",
       "      <td>rear wheel drive</td>\n",
       "      <td>2.0</td>\n",
       "      <td>Luxury,Performance</td>\n",
       "      <td>Compact</td>\n",
       "      <td>Convertible</td>\n",
       "      <td>28</td>\n",
       "      <td>19</td>\n",
       "      <td>3916</td>\n",
       "      <td>40650</td>\n",
       "    </tr>\n",
       "    <tr>\n",
       "      <th>2</th>\n",
       "      <td>BMW</td>\n",
       "      <td>1 Series</td>\n",
       "      <td>2011</td>\n",
       "      <td>premium unleaded (required)</td>\n",
       "      <td>300.0</td>\n",
       "      <td>6.0</td>\n",
       "      <td>MANUAL</td>\n",
       "      <td>rear wheel drive</td>\n",
       "      <td>2.0</td>\n",
       "      <td>Luxury,High-Performance</td>\n",
       "      <td>Compact</td>\n",
       "      <td>Coupe</td>\n",
       "      <td>28</td>\n",
       "      <td>20</td>\n",
       "      <td>3916</td>\n",
       "      <td>36350</td>\n",
       "    </tr>\n",
       "    <tr>\n",
       "      <th>3</th>\n",
       "      <td>BMW</td>\n",
       "      <td>1 Series</td>\n",
       "      <td>2011</td>\n",
       "      <td>premium unleaded (required)</td>\n",
       "      <td>230.0</td>\n",
       "      <td>6.0</td>\n",
       "      <td>MANUAL</td>\n",
       "      <td>rear wheel drive</td>\n",
       "      <td>2.0</td>\n",
       "      <td>Luxury,Performance</td>\n",
       "      <td>Compact</td>\n",
       "      <td>Coupe</td>\n",
       "      <td>28</td>\n",
       "      <td>18</td>\n",
       "      <td>3916</td>\n",
       "      <td>29450</td>\n",
       "    </tr>\n",
       "    <tr>\n",
       "      <th>4</th>\n",
       "      <td>BMW</td>\n",
       "      <td>1 Series</td>\n",
       "      <td>2011</td>\n",
       "      <td>premium unleaded (required)</td>\n",
       "      <td>230.0</td>\n",
       "      <td>6.0</td>\n",
       "      <td>MANUAL</td>\n",
       "      <td>rear wheel drive</td>\n",
       "      <td>2.0</td>\n",
       "      <td>Luxury</td>\n",
       "      <td>Compact</td>\n",
       "      <td>Convertible</td>\n",
       "      <td>28</td>\n",
       "      <td>18</td>\n",
       "      <td>3916</td>\n",
       "      <td>34500</td>\n",
       "    </tr>\n",
       "  </tbody>\n",
       "</table>\n",
       "</div>"
      ],
      "text/plain": [
       "  Make       Model  Year             Engine Fuel Type  Engine HP  \\\n",
       "0  BMW  1 Series M  2011  premium unleaded (required)      335.0   \n",
       "1  BMW    1 Series  2011  premium unleaded (required)      300.0   \n",
       "2  BMW    1 Series  2011  premium unleaded (required)      300.0   \n",
       "3  BMW    1 Series  2011  premium unleaded (required)      230.0   \n",
       "4  BMW    1 Series  2011  premium unleaded (required)      230.0   \n",
       "\n",
       "   Engine Cylinders Transmission Type     Driven_Wheels  Number of Doors  \\\n",
       "0               6.0            MANUAL  rear wheel drive              2.0   \n",
       "1               6.0            MANUAL  rear wheel drive              2.0   \n",
       "2               6.0            MANUAL  rear wheel drive              2.0   \n",
       "3               6.0            MANUAL  rear wheel drive              2.0   \n",
       "4               6.0            MANUAL  rear wheel drive              2.0   \n",
       "\n",
       "                         Market Category Vehicle Size Vehicle Style  \\\n",
       "0  Factory Tuner,Luxury,High-Performance      Compact         Coupe   \n",
       "1                     Luxury,Performance      Compact   Convertible   \n",
       "2                Luxury,High-Performance      Compact         Coupe   \n",
       "3                     Luxury,Performance      Compact         Coupe   \n",
       "4                                 Luxury      Compact   Convertible   \n",
       "\n",
       "   highway MPG  city mpg  Popularity   MSRP  \n",
       "0           26        19        3916  46135  \n",
       "1           28        19        3916  40650  \n",
       "2           28        20        3916  36350  \n",
       "3           28        18        3916  29450  \n",
       "4           28        18        3916  34500  "
      ]
     },
     "execution_count": 4,
     "metadata": {},
     "output_type": "execute_result"
    }
   ],
   "source": [
    "df.head()"
   ]
  },
  {
   "cell_type": "code",
   "execution_count": 5,
   "id": "35b2c88b-a0af-4c92-997a-cc7ac40f4319",
   "metadata": {},
   "outputs": [
    {
     "data": {
      "text/plain": [
       "Index(['Make', 'Model', 'Year', 'Engine Fuel Type', 'Engine HP',\n",
       "       'Engine Cylinders', 'Transmission Type', 'Driven_Wheels',\n",
       "       'Number of Doors', 'Market Category', 'Vehicle Size', 'Vehicle Style',\n",
       "       'highway MPG', 'city mpg', 'Popularity', 'MSRP'],\n",
       "      dtype='object')"
      ]
     },
     "execution_count": 5,
     "metadata": {},
     "output_type": "execute_result"
    }
   ],
   "source": [
    "df.columns"
   ]
  },
  {
   "cell_type": "code",
   "execution_count": 6,
   "id": "c34d4431-51ba-496c-94ff-23f1ca435092",
   "metadata": {},
   "outputs": [],
   "source": [
    "df.columns = df.columns.str.lower().str.replace(\" \",\"_\")"
   ]
  },
  {
   "cell_type": "code",
   "execution_count": 7,
   "id": "3dc5981c-f8d4-4aa1-bc61-1583e4c2bfc9",
   "metadata": {},
   "outputs": [
    {
     "data": {
      "text/plain": [
       "make                  object\n",
       "model                 object\n",
       "year                   int64\n",
       "engine_fuel_type      object\n",
       "engine_hp            float64\n",
       "engine_cylinders     float64\n",
       "transmission_type     object\n",
       "driven_wheels         object\n",
       "number_of_doors      float64\n",
       "market_category       object\n",
       "vehicle_size          object\n",
       "vehicle_style         object\n",
       "highway_mpg            int64\n",
       "city_mpg               int64\n",
       "popularity             int64\n",
       "msrp                   int64\n",
       "dtype: object"
      ]
     },
     "execution_count": 7,
     "metadata": {},
     "output_type": "execute_result"
    }
   ],
   "source": [
    "df.dtypes"
   ]
  },
  {
   "cell_type": "code",
   "execution_count": 8,
   "id": "31fe7423-6712-462b-938d-9ae1a8c8bf90",
   "metadata": {},
   "outputs": [
    {
     "data": {
      "text/plain": [
       "['make',\n",
       " 'model',\n",
       " 'engine_fuel_type',\n",
       " 'transmission_type',\n",
       " 'driven_wheels',\n",
       " 'market_category',\n",
       " 'vehicle_size',\n",
       " 'vehicle_style']"
      ]
     },
     "execution_count": 8,
     "metadata": {},
     "output_type": "execute_result"
    }
   ],
   "source": [
    "strings = list(df.dtypes [df.dtypes == 'object'].index)\n",
    "strings"
   ]
  },
  {
   "cell_type": "code",
   "execution_count": 9,
   "id": "aaadd127-eb78-434f-973b-17f952baa4bb",
   "metadata": {},
   "outputs": [],
   "source": [
    "for col in strings:\n",
    "    df[col] = df[col].str.lower().str.replace(\" \",\"_\")\n"
   ]
  },
  {
   "cell_type": "code",
   "execution_count": 10,
   "id": "d93e5206-86dc-4c75-87fc-53059bd2faef",
   "metadata": {},
   "outputs": [
    {
     "data": {
      "text/plain": [
       "make                  object\n",
       "model                 object\n",
       "year                   int64\n",
       "engine_fuel_type      object\n",
       "engine_hp            float64\n",
       "engine_cylinders     float64\n",
       "transmission_type     object\n",
       "driven_wheels         object\n",
       "number_of_doors      float64\n",
       "market_category       object\n",
       "vehicle_size          object\n",
       "vehicle_style         object\n",
       "highway_mpg            int64\n",
       "city_mpg               int64\n",
       "popularity             int64\n",
       "msrp                   int64\n",
       "dtype: object"
      ]
     },
     "execution_count": 10,
     "metadata": {},
     "output_type": "execute_result"
    }
   ],
   "source": [
    "df.dtypes"
   ]
  },
  {
   "cell_type": "code",
   "execution_count": 11,
   "id": "3d63190d-80a6-4c7b-994d-4c26e8256f39",
   "metadata": {},
   "outputs": [
    {
     "data": {
      "text/html": [
       "<div>\n",
       "<style scoped>\n",
       "    .dataframe tbody tr th:only-of-type {\n",
       "        vertical-align: middle;\n",
       "    }\n",
       "\n",
       "    .dataframe tbody tr th {\n",
       "        vertical-align: top;\n",
       "    }\n",
       "\n",
       "    .dataframe thead th {\n",
       "        text-align: right;\n",
       "    }\n",
       "</style>\n",
       "<table border=\"1\" class=\"dataframe\">\n",
       "  <thead>\n",
       "    <tr style=\"text-align: right;\">\n",
       "      <th></th>\n",
       "      <th>make</th>\n",
       "      <th>model</th>\n",
       "      <th>year</th>\n",
       "      <th>engine_fuel_type</th>\n",
       "      <th>engine_hp</th>\n",
       "      <th>engine_cylinders</th>\n",
       "      <th>transmission_type</th>\n",
       "      <th>driven_wheels</th>\n",
       "      <th>number_of_doors</th>\n",
       "      <th>market_category</th>\n",
       "      <th>vehicle_size</th>\n",
       "      <th>vehicle_style</th>\n",
       "      <th>highway_mpg</th>\n",
       "      <th>city_mpg</th>\n",
       "      <th>popularity</th>\n",
       "      <th>msrp</th>\n",
       "    </tr>\n",
       "  </thead>\n",
       "  <tbody>\n",
       "    <tr>\n",
       "      <th>0</th>\n",
       "      <td>bmw</td>\n",
       "      <td>1_series_m</td>\n",
       "      <td>2011</td>\n",
       "      <td>premium_unleaded_(required)</td>\n",
       "      <td>335.0</td>\n",
       "      <td>6.0</td>\n",
       "      <td>manual</td>\n",
       "      <td>rear_wheel_drive</td>\n",
       "      <td>2.0</td>\n",
       "      <td>factory_tuner,luxury,high-performance</td>\n",
       "      <td>compact</td>\n",
       "      <td>coupe</td>\n",
       "      <td>26</td>\n",
       "      <td>19</td>\n",
       "      <td>3916</td>\n",
       "      <td>46135</td>\n",
       "    </tr>\n",
       "    <tr>\n",
       "      <th>1</th>\n",
       "      <td>bmw</td>\n",
       "      <td>1_series</td>\n",
       "      <td>2011</td>\n",
       "      <td>premium_unleaded_(required)</td>\n",
       "      <td>300.0</td>\n",
       "      <td>6.0</td>\n",
       "      <td>manual</td>\n",
       "      <td>rear_wheel_drive</td>\n",
       "      <td>2.0</td>\n",
       "      <td>luxury,performance</td>\n",
       "      <td>compact</td>\n",
       "      <td>convertible</td>\n",
       "      <td>28</td>\n",
       "      <td>19</td>\n",
       "      <td>3916</td>\n",
       "      <td>40650</td>\n",
       "    </tr>\n",
       "    <tr>\n",
       "      <th>2</th>\n",
       "      <td>bmw</td>\n",
       "      <td>1_series</td>\n",
       "      <td>2011</td>\n",
       "      <td>premium_unleaded_(required)</td>\n",
       "      <td>300.0</td>\n",
       "      <td>6.0</td>\n",
       "      <td>manual</td>\n",
       "      <td>rear_wheel_drive</td>\n",
       "      <td>2.0</td>\n",
       "      <td>luxury,high-performance</td>\n",
       "      <td>compact</td>\n",
       "      <td>coupe</td>\n",
       "      <td>28</td>\n",
       "      <td>20</td>\n",
       "      <td>3916</td>\n",
       "      <td>36350</td>\n",
       "    </tr>\n",
       "    <tr>\n",
       "      <th>3</th>\n",
       "      <td>bmw</td>\n",
       "      <td>1_series</td>\n",
       "      <td>2011</td>\n",
       "      <td>premium_unleaded_(required)</td>\n",
       "      <td>230.0</td>\n",
       "      <td>6.0</td>\n",
       "      <td>manual</td>\n",
       "      <td>rear_wheel_drive</td>\n",
       "      <td>2.0</td>\n",
       "      <td>luxury,performance</td>\n",
       "      <td>compact</td>\n",
       "      <td>coupe</td>\n",
       "      <td>28</td>\n",
       "      <td>18</td>\n",
       "      <td>3916</td>\n",
       "      <td>29450</td>\n",
       "    </tr>\n",
       "    <tr>\n",
       "      <th>4</th>\n",
       "      <td>bmw</td>\n",
       "      <td>1_series</td>\n",
       "      <td>2011</td>\n",
       "      <td>premium_unleaded_(required)</td>\n",
       "      <td>230.0</td>\n",
       "      <td>6.0</td>\n",
       "      <td>manual</td>\n",
       "      <td>rear_wheel_drive</td>\n",
       "      <td>2.0</td>\n",
       "      <td>luxury</td>\n",
       "      <td>compact</td>\n",
       "      <td>convertible</td>\n",
       "      <td>28</td>\n",
       "      <td>18</td>\n",
       "      <td>3916</td>\n",
       "      <td>34500</td>\n",
       "    </tr>\n",
       "  </tbody>\n",
       "</table>\n",
       "</div>"
      ],
      "text/plain": [
       "  make       model  year             engine_fuel_type  engine_hp  \\\n",
       "0  bmw  1_series_m  2011  premium_unleaded_(required)      335.0   \n",
       "1  bmw    1_series  2011  premium_unleaded_(required)      300.0   \n",
       "2  bmw    1_series  2011  premium_unleaded_(required)      300.0   \n",
       "3  bmw    1_series  2011  premium_unleaded_(required)      230.0   \n",
       "4  bmw    1_series  2011  premium_unleaded_(required)      230.0   \n",
       "\n",
       "   engine_cylinders transmission_type     driven_wheels  number_of_doors  \\\n",
       "0               6.0            manual  rear_wheel_drive              2.0   \n",
       "1               6.0            manual  rear_wheel_drive              2.0   \n",
       "2               6.0            manual  rear_wheel_drive              2.0   \n",
       "3               6.0            manual  rear_wheel_drive              2.0   \n",
       "4               6.0            manual  rear_wheel_drive              2.0   \n",
       "\n",
       "                         market_category vehicle_size vehicle_style  \\\n",
       "0  factory_tuner,luxury,high-performance      compact         coupe   \n",
       "1                     luxury,performance      compact   convertible   \n",
       "2                luxury,high-performance      compact         coupe   \n",
       "3                     luxury,performance      compact         coupe   \n",
       "4                                 luxury      compact   convertible   \n",
       "\n",
       "   highway_mpg  city_mpg  popularity   msrp  \n",
       "0           26        19        3916  46135  \n",
       "1           28        19        3916  40650  \n",
       "2           28        20        3916  36350  \n",
       "3           28        18        3916  29450  \n",
       "4           28        18        3916  34500  "
      ]
     },
     "execution_count": 11,
     "metadata": {},
     "output_type": "execute_result"
    }
   ],
   "source": [
    "df.head()"
   ]
  },
  {
   "cell_type": "markdown",
   "id": "d2148d3f-07f0-4c29-8b94-fc0aa3179641",
   "metadata": {},
   "source": [
    "# Exploratory Data Analysis"
   ]
  },
  {
   "cell_type": "code",
   "execution_count": 12,
   "id": "8f3a1f89-7f4e-4b62-91ac-8171fe340153",
   "metadata": {},
   "outputs": [
    {
     "name": "stdout",
     "output_type": "stream",
     "text": [
      "make\n",
      "['bmw' 'audi' 'fiat' 'mercedes-benz' 'chrysler' 'nissan' 'volvo' 'mazda'\n",
      " 'mitsubishi' 'ferrari' 'alfa_romeo' 'toyota' 'mclaren' 'maybach'\n",
      " 'pontiac' 'porsche' 'saab' 'gmc' 'hyundai' 'plymouth' 'honda'\n",
      " 'oldsmobile' 'suzuki' 'ford' 'cadillac' 'kia' 'bentley' 'chevrolet'\n",
      " 'dodge' 'lamborghini' 'lincoln' 'subaru' 'volkswagen' 'spyker' 'buick'\n",
      " 'acura' 'rolls-royce' 'maserati' 'lexus' 'aston_martin' 'land_rover'\n",
      " 'lotus' 'infiniti' 'scion' 'genesis' 'hummer' 'tesla' 'bugatti']\n",
      "\n",
      "model\n",
      "['1_series_m' '1_series' '100' '124_spider' '190-class' '2_series' '200'\n",
      " '200sx' '240sx' '240' '2' '3_series_gran_turismo' '3_series' '300-class'\n",
      " '3000gt' '300' '300m' '300zx' '323' '350-class' '350z' '360' '370z' '3'\n",
      " '4_series_gran_coupe' '4_series' '400-class' '420-class' '456m'\n",
      " '458_italia' '4c' '4runner' '5_series_gran_turismo' '5_series'\n",
      " '500-class' '500e' '500' '500l' '500x' '550' '560-class' '570s' '575m'\n",
      " '57' '599' '5' '6_series_gran_coupe' '6_series' '600-class' '6000'\n",
      " '612_scaglietti' '626' '62' '650s_coupe' '650s_spider' '6' '7_series'\n",
      " '718_cayman' '740' '760' '780' '8_series' '80' '850' '86' '9-2x'\n",
      " '9-3_griffin' '9-3' '9-4x' '9-5' '9-7x' '9000' '900' '90' '911' '928'\n",
      " '929' '940' '944' '960' '968' 'a3' 'a4_allroad' 'a4' 'a5' 'a6' 'a7' 'a8'\n",
      " 'acadia_limited' 'acadia' 'accent' 'acclaim' 'accord_crosstour'\n",
      " 'accord_hybrid' 'accord_plug-in_hybrid' 'accord' 'achieva'\n",
      " 'activehybrid_5' 'activehybrid_7' 'activehybrid_x6' 'aerio' 'aerostar'\n",
      " 'alero' 'allante' 'allroad_quattro' 'allroad' 'alpina_b6_gran_coupe'\n",
      " 'alpina_b7' 'alpina' 'altima_hybrid' 'altima' 'amanti' 'amg_gt' 'armada'\n",
      " 'arnage' 'aspen' 'aspire' 'astro_cargo' 'astro' 'ats_coupe' 'ats-v' 'ats'\n",
      " 'aurora' 'avalanche' 'avalon_hybrid' 'avalon' 'avenger' 'aventador'\n",
      " 'aveo' 'aviator' 'axxess' 'azera' 'aztek' 'azure_t' 'azure'\n",
      " 'b-class_electric_drive' 'b-series_pickup' 'b-series_truck' 'b-series'\n",
      " 'b9_tribeca' 'baja' 'beetle_convertible' 'beetle' 'beretta'\n",
      " 'black_diamond_avalanche' 'blackwood' 'blazer' 'bolt_ev' 'bonneville'\n",
      " 'borrego' 'boxster' 'bravada' 'breeze' 'bronco_ii' 'bronco' 'brooklands'\n",
      " 'brougham' 'brz' 'c-class' 'c-max_hybrid' 'c30' 'c36_amg' 'c43_amg' 'c70'\n",
      " 'c8' 'cabriolet' 'cabrio' 'cadenza' 'caliber' 'california_t' 'california'\n",
      " 'camaro' 'camry_hybrid' 'camry_solara' 'camry' 'canyon' 'caprice'\n",
      " 'captiva_sport' 'caravan' 'carrera_gt' 'cascada' 'catera' 'cavalier'\n",
      " 'cayenne' 'cayman_s' 'cayman' 'cc' 'celebrity' 'celica' 'century'\n",
      " 'challenger' 'charger' 'chevy_van' 'ciera' 'cirrus' 'city_express'\n",
      " 'civic_crx' 'civic_del_sol' 'civic' 'c/k_1500_series' 'c/k_2500_series'\n",
      " 'cl-class' 'cla-class' 'cl' 'classic' 'clk-class' 'cls-class' 'cobalt'\n",
      " 'colorado' 'colt' 'concorde' 'continental_flying_spur_speed'\n",
      " 'continental_flying_spur' 'continental_gt_speed_convertible'\n",
      " 'continental_gt_speed' 'continental_gt3-r' 'continental_gt'\n",
      " 'continental_gtc_speed' 'continental_gtc'\n",
      " 'continental_supersports_convertible' 'continental_supersports'\n",
      " 'continental' 'contour_svt' 'contour' 'corniche' 'corolla_im' 'corolla'\n",
      " 'corrado' 'corsica' 'corvette_stingray' 'corvette' 'coupe' 'cr-v' 'cr-z'\n",
      " 'cressida' 'crossfire' 'crosstour' 'crosstrek' 'crown_victoria'\n",
      " 'cruze_limited' 'cruze' 'ct_200h' 'ct6' 'cts_coupe' 'cts-v_coupe'\n",
      " 'cts-v_wagon' 'cts-v' 'cts_wagon' 'cts' 'cube' 'custom_cruiser'\n",
      " 'cutlass_calais' 'cutlass_ciera' 'cutlass_supreme' 'cutlass' 'cx-3'\n",
      " 'cx-5' 'cx-7' 'cx-9' 'dakota' 'dart' 'dawn' 'daytona' 'db7' 'db9_gt'\n",
      " 'db9' 'dbs' 'defender' 'deville' 'diablo' 'diamante'\n",
      " 'discovery_series_ii' 'discovery_sport' 'discovery' 'dts' 'durango'\n",
      " 'dynasty' 'e-150' 'e-250' 'e-class' 'e-golf' 'e-series_van'\n",
      " 'e-series_wagon' 'e55_amg' 'echo' 'eclipse_spyder' 'eclipse' 'edge'\n",
      " 'eighty-eight_royale' 'eighty-eight' 'elantra_coupe' 'elantra_gt'\n",
      " 'elantra_touring' 'elantra' 'eldorado' 'electra' 'element' 'elise'\n",
      " 'enclave' 'encore' 'endeavor' 'entourage' 'envision' 'envoy_xl'\n",
      " 'envoy_xuv' 'envoy' 'enzo' 'eos' 'equator' 'equinox' 'equus' 'es_250'\n",
      " 'es_300h' 'es_300' 'es_330' 'es_350' 'escalade_esv' 'escalade_ext'\n",
      " 'escalade_hybrid' 'escalade' 'escape_hybrid' 'escape' 'escort' 'esprit'\n",
      " 'estate_wagon' 'esteem' 'eurovan' 'evora_400' 'evora' 'ex35' 'excel'\n",
      " 'exige' 'ex' 'expedition' 'explorer_sport_trac' 'explorer_sport'\n",
      " 'explorer' 'expo' 'express_cargo' 'express' 'f-150_heritage'\n",
      " 'f-150_svt_lightning' 'f-150' 'f-250' 'f12_berlinetta' 'f430' 'festiva'\n",
      " 'ff' 'fiesta' 'firebird' 'fit_ev' 'fit' 'five_hundred' 'fj_cruiser'\n",
      " 'fleetwood' 'flex' 'flying_spur' 'focus_rs' 'focus_st' 'focus' 'forenza'\n",
      " 'forester' 'forte' 'fox' 'fr-s' 'freelander' 'freestar' 'freestyle'\n",
      " 'frontier' 'fusion_hybrid' 'fusion' 'fx35' 'fx45' 'fx50' 'fx' 'g-class'\n",
      " 'g_convertible' 'g_coupe' 'g_sedan' 'g20' 'g35' 'g37_convertible'\n",
      " 'g37_coupe' 'g37_sedan' 'g37' 'g3' 'g5' 'g6' 'g80' 'g8' 'galant'\n",
      " 'gallardo' 'genesis_coupe' 'genesis' 'ghibli' 'ghost_series_ii' 'ghost'\n",
      " 'gl-class' 'gla-class' 'glc-class' 'gle-class_coupe' 'gle-class' 'gli'\n",
      " 'glk-class' 'gls-class' 'golf_alltrack' 'golf_gti' 'golf_r'\n",
      " 'golf_sportwagen' 'golf' 'grand_am' 'grand_caravan' 'grand_prix'\n",
      " 'grand_vitara' 'grand_voyager' 'gransport' 'granturismo_convertible'\n",
      " 'granturismo' 'gs_200t' 'gs_300' 'gs_350' 'gs_400' 'gs_430' 'gs_450h'\n",
      " 'gs_460' 'gs_f' 'gt-r' 'gt' 'gti' 'gto' 'gx_460' 'gx_470' 'h3' 'h3t'\n",
      " 'hhr' 'highlander_hybrid' 'highlander' 'horizon' 'hr-v' 'hs_250h'\n",
      " 'huracan' 'i-miev' 'i30' 'i35' 'i3' 'ia' 'ilx_hybrid' 'ilx'\n",
      " 'impala_limited' 'impala' 'imperial' 'impreza_wrx' 'impreza' 'im'\n",
      " 'insight' 'integra' 'intrepid' 'intrigue' 'iq' 'is_200t' 'is_250_c'\n",
      " 'is_250' 'is_300' 'is_350_c' 'is_350' 'is_f' 'j30' 'jetta_gli'\n",
      " 'jetta_hybrid' 'jetta_sportwagen' 'jetta' 'jimmy' 'journey' 'juke'\n",
      " 'justy' 'jx' 'k900' 'kizashi' 'lacrosse' 'lancer_evolution'\n",
      " 'lancer_sportback' 'lancer' 'land_cruiser' 'landaulet' 'laser' 'le_baron'\n",
      " 'le_mans' 'leaf' 'legacy' 'legend' 'lesabre' 'levante' 'lfa' 'lhs'\n",
      " 'loyale' 'lr2' 'lr3' 'lr4' 'ls_400' 'ls_430' 'ls_460' 'ls_600h_l' 'ls'\n",
      " 'lss' 'ltd_crown_victoria' 'lucerne' 'lumina_minivan' 'lumina' 'lx_450'\n",
      " 'lx_470' 'lx_570' 'm-class' 'm2' 'm30' 'm35' 'm37' 'm3' 'm4_gts' 'm45'\n",
      " 'm4' 'm56' 'm5' 'm6_gran_coupe' 'm6' 'macan' 'magnum' 'malibu_classic'\n",
      " 'malibu_hybrid' 'malibu_limited' 'malibu_maxx' 'malibu' 'mark_lt'\n",
      " 'mark_viii' 'mark_vii' 'matrix' 'maxima' 'maybach' 'mazdaspeed_3'\n",
      " 'mazdaspeed_6' 'mazdaspeed_mx-5_miata' 'mazdaspeed_protege' 'm' 'mdx'\n",
      " 'metris' 'metro' 'mighty_max_pickup' 'millenia' 'mirage_g4' 'mirage'\n",
      " 'mkc' 'mks' 'mkt' 'mkx' 'mkz_hybrid' 'mkz' 'ml55_amg' 'model_s' 'monaco'\n",
      " 'montana_sv6' 'montana' 'monte_carlo' 'montero_sport' 'montero' 'mp4-12c'\n",
      " 'mpv' 'mr2_spyder' 'mr2' 'mulsanne' 'murano_crosscabriolet' 'murano'\n",
      " 'murcielago' 'mustang_svt_cobra' 'mustang' 'mx-3' 'mx-5_miata' 'mx-6'\n",
      " 'navajo' 'navigator' 'neon' 'new_beetle' 'new_yorker' 'ninety-eight'\n",
      " 'nitro' 'nsx' 'nv200' 'nx_200t' 'nx_300h' 'nx' 'odyssey' 'omni'\n",
      " 'optima_hybrid' 'optima' 'outback' 'outlander_sport' 'outlander'\n",
      " 'pacifica' 'panamera' 'park_avenue' 'park_ward' 'paseo' 'passat'\n",
      " 'passport' 'pathfinder' 'phaeton' 'phantom_coupe'\n",
      " 'phantom_drophead_coupe' 'phantom' 'pickup' 'pilot' 'precis' 'prelude'\n",
      " 'previa' 'prius_c' 'prius_prime' 'prius_v' 'prius' 'prizm' 'probe'\n",
      " 'protege5' 'protege' 'prowler' 'pt_cruiser' 'pulsar' 'q3' 'q40' 'q45'\n",
      " 'q50' 'q5' 'q60_convertible' 'q60_coupe' 'q70' 'q7' 'quattroporte'\n",
      " 'quest' 'qx4' 'qx50' 'qx56' 'qx60' 'qx70' 'qx80' 'qx' 'r-class' 'r32'\n",
      " 'r8' 'rabbit' 'raider' 'rainier' 'rally_wagon' 'ram_150' 'ram_250'\n",
      " 'ram_50_pickup' 'ram_cargo' 'ram_pickup_1500' 'ram_van' 'ram_wagon'\n",
      " 'ramcharger' 'range_rover_evoque' 'range_rover_sport' 'range_rover'\n",
      " 'ranger' 'rapide_s' 'rapide' 'rav4_ev' 'rav4_hybrid' 'rav4' 'rc_200t'\n",
      " 'rc_300' 'rc_350' 'rc_f' 'rdx' 'reatta' 'regal' 'regency' 'rendezvous'\n",
      " 'reno' 'reventon' 'ridgeline' 'rio' 'riviera' 'rl' 'rlx' 'roadmaster'\n",
      " 'rogue_select' 'rogue' 'rondo' 'routan' 'rs_4' 'rs_5' 'rs_6' 'rs_7' 'rsx'\n",
      " 'rx_300' 'rx_330' 'rx_350' 'rx_400h' 'rx_450h' 'rx-7' 'rx-8'\n",
      " 's-10_blazer' 's-10' 's-15_jimmy' 's-15' 's-class' 's2000' 's3' 's40'\n",
      " 's4' 's5' 's60_cross_country' 's60' 's6' 's70' 's7' 's80' 's8' 's90'\n",
      " 'safari_cargo' 'safari' 'samurai' 'santa_fe_sport' 'santa_fe'\n",
      " 'savana_cargo' 'savana' 'sc_300' 'sc_400' 'sc_430' 'scoupe' 'sebring'\n",
      " 'sedona' 'sentra' 'sephia' 'sequoia' 'seville' 'shadow' 'shelby_gt350'\n",
      " 'shelby_gt500' 'sidekick' 'sienna' 'sierra_1500_classic'\n",
      " 'sierra_1500_hybrid' 'sierra_1500' 'sierra_1500hd' 'sierra_c3'\n",
      " 'sierra_classic_1500' 'sigma' 'silhouette' 'silver_seraph'\n",
      " 'silverado_1500_classic' 'silverado_1500_hybrid' 'silverado_1500'\n",
      " 'sixty_special' 'skylark' 'sl-class' 'slc-class' 'slk-class'\n",
      " 'slr_mclaren' 'sls_amg_gt_final_edition' 'sls_amg_gt' 'sls_amg' 'slx'\n",
      " 'solstice' 'sonata_hybrid' 'sonata' 'sonic' 'sonoma' 'sorento' 'soul_ev'\n",
      " 'soul' 'spark_ev' 'spark' 'spectra' 'spirit' 'sportage' 'sportvan'\n",
      " 'spyder' 'sq5' 'srt_viper' 'srx' 'ss' 'ssr' 'stanza' 'stealth' 'stratus'\n",
      " 'sts-v' 'sts' 'suburban' 'sunbird' 'sundance' 'sunfire' 'superamerica'\n",
      " 'supersports_convertible_isr' 'supra' 'svx' 'swift' 'sx4' 'syclone'\n",
      " 't100' 'tacoma' 'tahoe_hybrid' 'tahoe_limited/z71' 'tahoe' 'taurus_x'\n",
      " 'taurus' 'tc' 'tempo' 'tercel' 'terrain' 'terraza' 'thunderbird'\n",
      " 'tiburon' 'tiguan' 'titan' 'tl' 'tlx' 'toronado' 'torrent' 'touareg_2'\n",
      " 'touareg' 'town_and_country' 'town_car' 'tracker' 'trailblazer_ext'\n",
      " 'trailblazer' 'trans_sport' 'transit_connect' 'transit_wagon' 'traverse'\n",
      " 'trax' 'tribeca' 'tribute_hybrid' 'tribute' 'truck' 'tsx_sport_wagon'\n",
      " 'tsx' 'tt_rs' 'tt' 'tts' 'tucson' 'tundra' 'typhoon' 'uplander'\n",
      " 'v12_vanquish' 'v12_vantage_s' 'v12_vantage' 'v40' 'v50'\n",
      " 'v60_cross_country' 'v60' 'v70' 'v8_vantage' 'v8' 'v90' 'vanagon'\n",
      " 'vandura' 'van' 'vanquish' 'vanwagon' 'veloster' 'venture' 'venza'\n",
      " 'veracruz' 'verano' 'verona' 'versa_note' 'versa' 'veyron_16.4' 'vibe'\n",
      " 'vigor' 'viper' 'virage' 'vitara' 'voyager' 'windstar_cargo' 'windstar'\n",
      " 'wraith' 'wrx' 'x-90' 'x1' 'x3' 'x4' 'x5_m' 'x5' 'x6_m' 'x6' 'xa' 'xb'\n",
      " 'xc60' 'xc70' 'xc90' 'xc' 'xd' 'xg300' 'xg350' 'xl-7' 'xl7' 'xlr-v' 'xlr'\n",
      " 'xt5' 'xterra' 'xts' 'xt' 'xv_crosstrek' 'yaris_ia' 'yaris'\n",
      " 'yukon_denali' 'yukon_hybrid' 'yukon_xl' 'yukon' 'z3' 'z4_m' 'z4' 'z8'\n",
      " 'zdx' 'zephyr']\n",
      "\n",
      "year\n",
      "[2011 2012 2013 1992 1993 1994 2017 1991 2016 1990 2015 1996 1997 1998\n",
      " 2014 1999 2002 2003 2004 1995 2007 2008 2009 2001 2010 2000 2005 2006]\n",
      "\n",
      "engine_fuel_type\n",
      "['premium_unleaded_(required)' 'regular_unleaded'\n",
      " 'premium_unleaded_(recommended)' 'flex-fuel_(unleaded/e85)' 'diesel'\n",
      " 'electric' 'flex-fuel_(premium_unleaded_recommended/e85)' 'natural_gas'\n",
      " 'flex-fuel_(premium_unleaded_required/e85)'\n",
      " 'flex-fuel_(unleaded/natural_gas)' nan]\n",
      "\n",
      "engine_hp\n",
      "[ 335.  300.  230.  320.  172.  160.  130.  158.  240.  248.  162.  217.\n",
      "  184.  295.  115.  140.  155.  114.  100.  241.  180.  177.  228.  121.\n",
      "  148.  194.  218.  161.  292.  250.  255.  222.   82.  134.  306.  400.\n",
      "  425.  350.  332.  268.  282.  275.  201.  442.  562.  597.  237.  270.\n",
      "  445.  443.  302.  322.  315.   nan  101.  135.  485.  238.  515.  543.\n",
      "  631.  604.  620.  611.  661.  157.  402.  389.  110.  532.  170.  165.\n",
      "  125.  641.  535.  153.  144.  188.  372.  108.  168.  190.  205.  200.\n",
      "  227.  173.  220.  210.  280.  207.  265.  260.  290.  285.  390.  225.\n",
      "  185.  150.  430.  520.  560.  475.  500.  540.  370.  580.  420.  345.\n",
      "  195.  193.  208.  181.  236.  186.  252.  310.  333.  340.  450.  281.\n",
      "  288.  138.  137.  106.  271.  196.  212.  278.  189.  480.  152.  600.\n",
      "  375.  198.  182.  179.  264.  503.  456.  317.  235.  385.  303.   63.\n",
      "  321.  272.  464.  202.  215.  283.  700.  720.  750.  107.  293.  119.\n",
      "  143.  245.  120.  337.  276.  330.  132.  199.  530.  451.  329.  469.\n",
      "  362.   94.  553.  453.  483.  323.  426.  505.  455.  650.  178.  242.\n",
      "  305.  605.  440.  570.  325.  175.  707.  131.   62.   92.  102.  127.\n",
      "  174.  621.  510.  429.  536.  355.  382.  577.  113.  136.  234.  552.\n",
      "  626.  616.  572.  521.  567.  582.  460.  164.  192.  224.  239.  404.\n",
      "  318.  556.  640.  122.  146.  244.  273.  563.  141.  435.  550.  360.\n",
      "  145.  349.  166.  147.  128.  197.  291.  660.  261.  156.  403.   95.\n",
      "  297.   81.  257.  365.  203.  231.  731.  651.  287.  123.  126.  416.\n",
      "  343.  348.  328.  298.  171.  219.  221.  311.  361.  256.  415.  274.\n",
      "  449.  395.  401.  454.  444.  338.  342.  467.  545.  565.  301.  263.\n",
      "   93.  187.  610.   66.  111.   98.  204.  211.   73.  304.  381.  142.\n",
      "   74.  424.  253.   90.  386.  359.  438.  232.  383.  518.  493.  259.\n",
      "  523.   55.   79.  116.  151.   78.  191.  592.  632.  670.   88.  167.\n",
      "  118.  380.  214.  573.  284.   99.  103.  525.  254.  470.  154.  176.\n",
      "  279.  377.  251.  223.  308.  105.  316.  124.  526.  662.  266.  296.\n",
      "  557.  617.  583.  622.   84.  163.  354.  159.   96.  206.  169.  133.\n",
      "  568.  109. 1001.  645.  490.  624.  410.   97.  394.]\n",
      "\n",
      "engine_cylinders\n",
      "[ 6.  4.  5.  8. 12.  0. nan 10.  3. 16.]\n",
      "\n",
      "transmission_type\n",
      "['manual' 'automatic' 'automated_manual' 'direct_drive' 'unknown']\n",
      "\n",
      "driven_wheels\n",
      "['rear_wheel_drive' 'front_wheel_drive' 'all_wheel_drive'\n",
      " 'four_wheel_drive']\n",
      "\n",
      "number_of_doors\n",
      "[ 2.  4.  3. nan]\n",
      "\n",
      "market_category\n",
      "['factory_tuner,luxury,high-performance' 'luxury,performance'\n",
      " 'luxury,high-performance' 'luxury' 'performance' 'flex_fuel'\n",
      " 'flex_fuel,performance' nan 'hatchback' 'hatchback,luxury,performance'\n",
      " 'hatchback,luxury' 'luxury,high-performance,hybrid' 'diesel,luxury'\n",
      " 'hatchback,performance' 'hatchback,factory_tuner,performance'\n",
      " 'high-performance' 'factory_tuner,high-performance'\n",
      " 'exotic,high-performance' 'exotic,factory_tuner,high-performance'\n",
      " 'factory_tuner,performance' 'crossover' 'exotic,luxury'\n",
      " 'exotic,luxury,high-performance' 'exotic,luxury,performance'\n",
      " 'factory_tuner,luxury,performance' 'flex_fuel,luxury' 'crossover,luxury'\n",
      " 'hatchback,factory_tuner,luxury,performance' 'crossover,hatchback'\n",
      " 'hybrid' 'luxury,performance,hybrid'\n",
      " 'crossover,luxury,performance,hybrid' 'crossover,luxury,performance'\n",
      " 'exotic,factory_tuner,luxury,high-performance'\n",
      " 'flex_fuel,luxury,high-performance' 'crossover,flex_fuel' 'diesel'\n",
      " 'hatchback,diesel' 'crossover,luxury,diesel'\n",
      " 'crossover,luxury,high-performance'\n",
      " 'exotic,flex_fuel,factory_tuner,luxury,high-performance'\n",
      " 'exotic,flex_fuel,luxury,high-performance'\n",
      " 'exotic,factory_tuner,luxury,performance' 'hatchback,hybrid'\n",
      " 'crossover,hybrid' 'hatchback,luxury,hybrid'\n",
      " 'flex_fuel,luxury,performance' 'crossover,performance' 'luxury,hybrid'\n",
      " 'crossover,flex_fuel,luxury,performance' 'crossover,flex_fuel,luxury'\n",
      " 'crossover,flex_fuel,performance'\n",
      " 'hatchback,factory_tuner,high-performance' 'hatchback,flex_fuel'\n",
      " 'factory_tuner,luxury' 'crossover,factory_tuner,luxury,high-performance'\n",
      " 'crossover,factory_tuner,luxury,performance'\n",
      " 'crossover,hatchback,factory_tuner,performance'\n",
      " 'crossover,hatchback,performance' 'flex_fuel,hybrid'\n",
      " 'flex_fuel,performance,hybrid' 'crossover,exotic,luxury,high-performance'\n",
      " 'crossover,exotic,luxury,performance' 'exotic,performance'\n",
      " 'exotic,luxury,high-performance,hybrid' 'crossover,luxury,hybrid'\n",
      " 'flex_fuel,factory_tuner,luxury,high-performance' 'performance,hybrid'\n",
      " 'crossover,factory_tuner,performance' 'crossover,diesel'\n",
      " 'flex_fuel,diesel' 'crossover,hatchback,luxury']\n",
      "\n",
      "vehicle_size\n",
      "['compact' 'midsize' 'large']\n",
      "\n",
      "vehicle_style\n",
      "['coupe' 'convertible' 'sedan' 'wagon' '4dr_hatchback' '2dr_hatchback'\n",
      " '4dr_suv' 'passenger_minivan' 'cargo_minivan' 'crew_cab_pickup'\n",
      " 'regular_cab_pickup' 'extended_cab_pickup' '2dr_suv' 'cargo_van'\n",
      " 'convertible_suv' 'passenger_van']\n",
      "\n",
      "highway_mpg\n",
      "[ 26  28  27  25  24  20  21  22  35  34  31  30  32  33  23  36  29  45\n",
      "  43  40  42  19  18  17  15  37  39  41  16  14  38 108 103  12 354  47\n",
      "  46  82 110  44  13 105  99 102 111 106  48 101  90  97  94  98 100 107\n",
      "  53  50  74  92 109]\n",
      "\n",
      "city_mpg\n",
      "[ 19  20  18  17  16  26  23  22  21  24  15  25  29  28  32  31  30  14\n",
      "  10  27  12  13   9  11 122 121   8  50  49  47  35  33  40  85 128  42\n",
      "  43  36  44 126   7  34 132 110 137 129  39  41 124  37  88  94  86 101\n",
      "  95  89 102  98  92  97  91  53  55  51  54  58  78  38 120]\n",
      "\n",
      "popularity\n",
      "[3916 3105  819  617 1013 2009  870  586  436 2774  113 2031  416   67\n",
      "  210 1715  376  549 1439  535 2202   26  481 5657 1624 1720  520 1385\n",
      " 1851 1158   61  640  873    2  155  204   86  238  454  259  258  613\n",
      "  190  105   21  130 1391  820]\n",
      "\n",
      "msrp\n",
      "[46135 40650 36350 ... 46120 50620 50920]\n",
      "\n"
     ]
    }
   ],
   "source": [
    "for col in df.columns:\n",
    "    print (col)\n",
    "    print (df[col].unique())\n",
    "    print ()"
   ]
  },
  {
   "cell_type": "markdown",
   "id": "3c2aa6f2-350e-48f9-997a-92444aca7099",
   "metadata": {},
   "source": [
    "# Distribution of Price"
   ]
  },
  {
   "cell_type": "code",
   "execution_count": 13,
   "id": "235752a0-a1ba-495d-b1ea-f37ae1278dce",
   "metadata": {},
   "outputs": [],
   "source": [
    "import matplotlib.pyplot as plt\n",
    "import seaborn as sns\n",
    "\n",
    "%matplotlib inline"
   ]
  },
  {
   "cell_type": "code",
   "execution_count": 14,
   "id": "4a6e164a-72ae-4bd3-a0e5-4d24f55dcb7b",
   "metadata": {},
   "outputs": [
    {
     "data": {
      "text/plain": [
       "<Axes: xlabel='msrp', ylabel='Count'>"
      ]
     },
     "execution_count": 14,
     "metadata": {},
     "output_type": "execute_result"
    },
    {
     "data": {
      "image/png": "[encoded data removed]",
      "text/plain": [
       "<Figure size 640x480 with 1 Axes>"
      ]
     },
     "metadata": {},
     "output_type": "display_data"
    }
   ],
   "source": [
    "sns.histplot(df.msrp[df.msrp < 100000], bins=50)"
   ]
  },
  {
   "cell_type": "code",
   "execution_count": 15,
   "id": "f96bf196-a0f0-40dd-8ce4-abd566290ee6",
   "metadata": {},
   "outputs": [],
   "source": [
    "price_logs = np.log1p(df.msrp)"
   ]
  },
  {
   "cell_type": "code",
   "execution_count": 16,
   "id": "03791720-78e8-4913-9f6f-8bd391b276c7",
   "metadata": {},
   "outputs": [
    {
     "data": {
      "text/plain": [
       "<Axes: xlabel='msrp', ylabel='Count'>"
      ]
     },
     "execution_count": 16,
     "metadata": {},
     "output_type": "execute_result"
    },
    {
     "data": {
      "image/png": "[encoded data removed]",
      "text/plain": [
       "<Figure size 640x480 with 1 Axes>"
      ]
     },
     "metadata": {},
     "output_type": "display_data"
    }
   ],
   "source": [
    "sns.histplot(price_logs, bins=50)"
   ]
  },
  {
   "cell_type": "markdown",
   "id": "f6256dff-0a66-4c2b-aa39-508636b3445f",
   "metadata": {},
   "source": [
    "*How to deal with missing values*"
   ]
  },
  {
   "cell_type": "code",
   "execution_count": 17,
   "id": "7a7d8a81-d680-4f0c-88d6-c3bb6a747ce9",
   "metadata": {},
   "outputs": [
    {
     "data": {
      "text/plain": [
       "make                    0\n",
       "model                   0\n",
       "year                    0\n",
       "engine_fuel_type        3\n",
       "engine_hp              69\n",
       "engine_cylinders       30\n",
       "transmission_type       0\n",
       "driven_wheels           0\n",
       "number_of_doors         6\n",
       "market_category      3742\n",
       "vehicle_size            0\n",
       "vehicle_style           0\n",
       "highway_mpg             0\n",
       "city_mpg                0\n",
       "popularity              0\n",
       "msrp                    0\n",
       "dtype: int64"
      ]
     },
     "execution_count": 17,
     "metadata": {},
     "output_type": "execute_result"
    }
   ],
   "source": [
    "df.isnull().sum()"
   ]
  },
  {
   "cell_type": "markdown",
   "id": "3a8ffbc9-11e1-4340-b160-73e2cd6fca7f",
   "metadata": {},
   "source": [
    "# 2.4 Setting up the Validation Framework"
   ]
  },
  {
   "cell_type": "markdown",
   "id": "db124474-5f0e-4276-b19c-b895a7daeb0d",
   "metadata": {},
   "source": [
    "*Train/Test/Validation mix: 60/20/20*"
   ]
  },
  {
   "cell_type": "code",
   "execution_count": 18,
   "id": "a47d6372-fc88-452c-9e9e-b69ae37c4484",
   "metadata": {},
   "outputs": [],
   "source": [
    "n = len(df)\n",
    "\n",
    "n_val = int(n*.2)\n",
    "n_test = int(n*.2)\n",
    "n_train = n - n_val - n_test"
   ]
  },
  {
   "cell_type": "code",
   "execution_count": 19,
   "id": "92986e1a-3749-4af6-9753-d8e1552464d1",
   "metadata": {},
   "outputs": [
    {
     "data": {
      "text/plain": [
       "(2382, 2382, 7150)"
      ]
     },
     "execution_count": 19,
     "metadata": {},
     "output_type": "execute_result"
    }
   ],
   "source": [
    "n_val,n_test,n_train"
   ]
  },
  {
   "cell_type": "markdown",
   "id": "aee970cf-e99e-4e93-8dce-9cebf1d0524a",
   "metadata": {},
   "source": [
    "*Must randomize to ensure mix of data across each bin*"
   ]
  },
  {
   "cell_type": "code",
   "execution_count": 20,
   "id": "d696e68f-12b1-4c6d-a7e0-b4a7c55e3863",
   "metadata": {},
   "outputs": [],
   "source": [
    "idx = np.arange(n)"
   ]
  },
  {
   "cell_type": "code",
   "execution_count": 21,
   "id": "c52c6ad4-ee06-4f11-8cca-db1ee9a5ccff",
   "metadata": {},
   "outputs": [],
   "source": [
    "np.random.seed(2)\n",
    "np.random.shuffle(idx)"
   ]
  },
  {
   "cell_type": "code",
   "execution_count": 22,
   "id": "edc3005f-bc8e-4a88-98ca-0eb25d920402",
   "metadata": {},
   "outputs": [
    {
     "data": {
      "text/plain": [
       "array([2735, 6720, 5878, ..., 6637, 2575, 7336], shape=(11914,))"
      ]
     },
     "execution_count": 22,
     "metadata": {},
     "output_type": "execute_result"
    }
   ],
   "source": [
    "idx"
   ]
  },
  {
   "cell_type": "code",
   "execution_count": 23,
   "id": "a68ceb40-64b6-42ca-850c-f98aae0a5f2b",
   "metadata": {},
   "outputs": [],
   "source": [
    "df_train = df.iloc[idx[:n_train]]\n",
    "df_val = df.iloc[idx[n_train:n_train + n_val]]\n",
    "df_test = df.iloc[idx[n_train + n_val:]]"
   ]
  },
  {
   "cell_type": "code",
   "execution_count": 24,
   "id": "e3227b6d-d2d4-4b0c-8d61-aa07ff3b6200",
   "metadata": {},
   "outputs": [
    {
     "data": {
      "text/plain": [
       "(7150, 2382, 2382)"
      ]
     },
     "execution_count": 24,
     "metadata": {},
     "output_type": "execute_result"
    }
   ],
   "source": [
    "len(df_train), len(df_test), len(df_val)"
   ]
  },
  {
   "cell_type": "code",
   "execution_count": 25,
   "id": "91caebf6-59c6-4d6e-b59b-0e2e88d7c9f3",
   "metadata": {},
   "outputs": [
    {
     "data": {
      "text/html": [
       "<div>\n",
       "<style scoped>\n",
       "    .dataframe tbody tr th:only-of-type {\n",
       "        vertical-align: middle;\n",
       "    }\n",
       "\n",
       "    .dataframe tbody tr th {\n",
       "        vertical-align: top;\n",
       "    }\n",
       "\n",
       "    .dataframe thead th {\n",
       "        text-align: right;\n",
       "    }\n",
       "</style>\n",
       "<table border=\"1\" class=\"dataframe\">\n",
       "  <thead>\n",
       "    <tr style=\"text-align: right;\">\n",
       "      <th></th>\n",
       "      <th>make</th>\n",
       "      <th>model</th>\n",
       "      <th>year</th>\n",
       "      <th>engine_fuel_type</th>\n",
       "      <th>engine_hp</th>\n",
       "      <th>engine_cylinders</th>\n",
       "      <th>transmission_type</th>\n",
       "      <th>driven_wheels</th>\n",
       "      <th>number_of_doors</th>\n",
       "      <th>market_category</th>\n",
       "      <th>vehicle_size</th>\n",
       "      <th>vehicle_style</th>\n",
       "      <th>highway_mpg</th>\n",
       "      <th>city_mpg</th>\n",
       "      <th>popularity</th>\n",
       "      <th>msrp</th>\n",
       "    </tr>\n",
       "  </thead>\n",
       "  <tbody>\n",
       "    <tr>\n",
       "      <th>2735</th>\n",
       "      <td>chevrolet</td>\n",
       "      <td>cobalt</td>\n",
       "      <td>2008</td>\n",
       "      <td>regular_unleaded</td>\n",
       "      <td>148.0</td>\n",
       "      <td>4.0</td>\n",
       "      <td>manual</td>\n",
       "      <td>front_wheel_drive</td>\n",
       "      <td>2.0</td>\n",
       "      <td>NaN</td>\n",
       "      <td>compact</td>\n",
       "      <td>coupe</td>\n",
       "      <td>33</td>\n",
       "      <td>24</td>\n",
       "      <td>1385</td>\n",
       "      <td>14410</td>\n",
       "    </tr>\n",
       "    <tr>\n",
       "      <th>6720</th>\n",
       "      <td>toyota</td>\n",
       "      <td>matrix</td>\n",
       "      <td>2012</td>\n",
       "      <td>regular_unleaded</td>\n",
       "      <td>132.0</td>\n",
       "      <td>4.0</td>\n",
       "      <td>automatic</td>\n",
       "      <td>front_wheel_drive</td>\n",
       "      <td>4.0</td>\n",
       "      <td>hatchback</td>\n",
       "      <td>compact</td>\n",
       "      <td>4dr_hatchback</td>\n",
       "      <td>32</td>\n",
       "      <td>25</td>\n",
       "      <td>2031</td>\n",
       "      <td>19685</td>\n",
       "    </tr>\n",
       "    <tr>\n",
       "      <th>5878</th>\n",
       "      <td>subaru</td>\n",
       "      <td>impreza</td>\n",
       "      <td>2016</td>\n",
       "      <td>regular_unleaded</td>\n",
       "      <td>148.0</td>\n",
       "      <td>4.0</td>\n",
       "      <td>automatic</td>\n",
       "      <td>all_wheel_drive</td>\n",
       "      <td>4.0</td>\n",
       "      <td>hatchback</td>\n",
       "      <td>compact</td>\n",
       "      <td>4dr_hatchback</td>\n",
       "      <td>37</td>\n",
       "      <td>28</td>\n",
       "      <td>640</td>\n",
       "      <td>19795</td>\n",
       "    </tr>\n",
       "    <tr>\n",
       "      <th>11190</th>\n",
       "      <td>volkswagen</td>\n",
       "      <td>vanagon</td>\n",
       "      <td>1991</td>\n",
       "      <td>regular_unleaded</td>\n",
       "      <td>90.0</td>\n",
       "      <td>4.0</td>\n",
       "      <td>manual</td>\n",
       "      <td>rear_wheel_drive</td>\n",
       "      <td>3.0</td>\n",
       "      <td>NaN</td>\n",
       "      <td>large</td>\n",
       "      <td>passenger_minivan</td>\n",
       "      <td>18</td>\n",
       "      <td>16</td>\n",
       "      <td>873</td>\n",
       "      <td>2000</td>\n",
       "    </tr>\n",
       "    <tr>\n",
       "      <th>4554</th>\n",
       "      <td>ford</td>\n",
       "      <td>f-150</td>\n",
       "      <td>2017</td>\n",
       "      <td>flex-fuel_(unleaded/e85)</td>\n",
       "      <td>385.0</td>\n",
       "      <td>8.0</td>\n",
       "      <td>automatic</td>\n",
       "      <td>four_wheel_drive</td>\n",
       "      <td>4.0</td>\n",
       "      <td>flex_fuel</td>\n",
       "      <td>large</td>\n",
       "      <td>crew_cab_pickup</td>\n",
       "      <td>21</td>\n",
       "      <td>15</td>\n",
       "      <td>5657</td>\n",
       "      <td>56260</td>\n",
       "    </tr>\n",
       "  </tbody>\n",
       "</table>\n",
       "</div>"
      ],
      "text/plain": [
       "             make    model  year          engine_fuel_type  engine_hp  \\\n",
       "2735    chevrolet   cobalt  2008          regular_unleaded      148.0   \n",
       "6720       toyota   matrix  2012          regular_unleaded      132.0   \n",
       "5878       subaru  impreza  2016          regular_unleaded      148.0   \n",
       "11190  volkswagen  vanagon  1991          regular_unleaded       90.0   \n",
       "4554         ford    f-150  2017  flex-fuel_(unleaded/e85)      385.0   \n",
       "\n",
       "       engine_cylinders transmission_type      driven_wheels  number_of_doors  \\\n",
       "2735                4.0            manual  front_wheel_drive              2.0   \n",
       "6720                4.0         automatic  front_wheel_drive              4.0   \n",
       "5878                4.0         automatic    all_wheel_drive              4.0   \n",
       "11190               4.0            manual   rear_wheel_drive              3.0   \n",
       "4554                8.0         automatic   four_wheel_drive              4.0   \n",
       "\n",
       "      market_category vehicle_size      vehicle_style  highway_mpg  city_mpg  \\\n",
       "2735              NaN      compact              coupe           33        24   \n",
       "6720        hatchback      compact      4dr_hatchback           32        25   \n",
       "5878        hatchback      compact      4dr_hatchback           37        28   \n",
       "11190             NaN        large  passenger_minivan           18        16   \n",
       "4554        flex_fuel        large    crew_cab_pickup           21        15   \n",
       "\n",
       "       popularity   msrp  \n",
       "2735         1385  14410  \n",
       "6720         2031  19685  \n",
       "5878          640  19795  \n",
       "11190         873   2000  \n",
       "4554         5657  56260  "
      ]
     },
     "execution_count": 25,
     "metadata": {},
     "output_type": "execute_result"
    }
   ],
   "source": [
    "df_train.head()"
   ]
  },
  {
   "cell_type": "code",
   "execution_count": 26,
   "id": "23159a4e-74d0-4b0a-bd85-2f5303603d59",
   "metadata": {},
   "outputs": [],
   "source": [
    "df_train = df_train.reset_index(drop=True)\n",
    "df_test = df_test.reset_index(drop=True)\n",
    "df_val = df_val.reset_index(drop=True)"
   ]
  },
  {
   "cell_type": "code",
   "execution_count": 27,
   "id": "2787c44f-9bd5-4a11-94d9-b3b977f64b5a",
   "metadata": {},
   "outputs": [],
   "source": [
    "y_train = np.log1p(df_train.msrp.values)\n",
    "y_test = np.log1p(df_test.msrp.values)\n",
    "y_val = np.log1p(df_val.msrp.values)"
   ]
  },
  {
   "cell_type": "code",
   "execution_count": 28,
   "id": "8f19b56e-af88-424c-be2d-bc990911343e",
   "metadata": {},
   "outputs": [],
   "source": [
    "#must remove the feature of interest (msrp) from all data to ensure it doesn't bias the model we end up building\n",
    "del df_train['msrp']\n",
    "del df_test['msrp']\n",
    "del df_val['msrp']"
   ]
  },
  {
   "cell_type": "markdown",
   "id": "dfcaca8b-ca32-44a6-a513-c629e1658b2d",
   "metadata": {},
   "source": [
    "## 2.5 Linear Regression"
   ]
  },
  {
   "cell_type": "code",
   "execution_count": 29,
   "id": "941f452d-ab39-4581-b9f2-23c6e8665b4a",
   "metadata": {},
   "outputs": [],
   "source": [
    "#not a lot in the lession.  theoretical form of how a regression model is built/what it entails.\n",
    "#recall this is of the form g(X) ~ y. \n",
    "#  g is the \"function\" or model we're training\n",
    "#  X is our feature matrix\n",
    "#  y is what we're attempting to predict.  Note that this isn't an equivalance...it is an APPROXIMATION - we're trying to get as close as possible,\n",
    "#  as often as possible\n",
    "\n",
    "#generalizing, for linear regression, we're creating something along lines of g(x) = w0 + w1x1 + w2x2 + ... + wixi, where:\n",
    "#  W's are \"weights\"\n",
    "#  Xi's are individual data elements from our feature matrix.  imagine a row vector"
   ]
  },
  {
   "cell_type": "markdown",
   "id": "01148bed-a3d7-43a2-88fb-e6837eead2ce",
   "metadata": {},
   "source": [
    "## 2.6 Linear Regression Vector Form"
   ]
  },
  {
   "cell_type": "code",
   "execution_count": 30,
   "id": "9d28f976-08bc-47b0-86a9-830995fd07b1",
   "metadata": {},
   "outputs": [],
   "source": [
    "#similar...easiest to just reference the video."
   ]
  },
  {
   "cell_type": "markdown",
   "id": "e6a2fa03-e622-4948-887b-87a1f628d026",
   "metadata": {},
   "source": [
    "## 2.7 Training a Linear Regression Model"
   ]
  },
  {
   "cell_type": "code",
   "execution_count": 31,
   "id": "eeed7ac1-ea4b-41c8-899a-15bca37487c7",
   "metadata": {},
   "outputs": [],
   "source": [
    "y = [100, 200, 150, 250, 100, 200, 150, 250, 100]"
   ]
  },
  {
   "cell_type": "code",
   "execution_count": 32,
   "id": "f4d8e39e-e8c5-4474-a09a-15e885b873e0",
   "metadata": {},
   "outputs": [
    {
     "data": {
      "text/plain": [
       "array([[ 148,   24, 1385],\n",
       "       [ 132,   25, 2031],\n",
       "       [ 453,   11,   86],\n",
       "       [ 158,   24,  185],\n",
       "       [ 172,   25,  201],\n",
       "       [ 433,   11,   86],\n",
       "       [  38,   54,  185],\n",
       "       [ 142,   25,  431],\n",
       "       [ 453,   11,   86]])"
      ]
     },
     "execution_count": 32,
     "metadata": {},
     "output_type": "execute_result"
    }
   ],
   "source": [
    "\n",
    "X = [\n",
    "    [148, 24, 1385],\n",
    "    [132, 25, 2031],\n",
    "    [453, 11, 86],\n",
    "    [158, 24, 185],\n",
    "    [172, 25, 201],\n",
    "    [433, 11, 86],\n",
    "    [38, 54, 185],\n",
    "    [142, 25, 431],\n",
    "    [453, 11, 86]\n",
    "]\n",
    "X = np.array(X)\n",
    "X"
   ]
  },
  {
   "cell_type": "code",
   "execution_count": 33,
   "id": "2bdcc944-f8bd-4a6b-a2ae-20755ab63b1c",
   "metadata": {},
   "outputs": [
    {
     "data": {
      "text/plain": [
       "array([1., 1., 1., 1., 1., 1., 1., 1., 1.])"
      ]
     },
     "execution_count": 33,
     "metadata": {},
     "output_type": "execute_result"
    }
   ],
   "source": [
    "ones = np.ones(X.shape[0])\n",
    "ones"
   ]
  },
  {
   "cell_type": "code",
   "execution_count": 34,
   "id": "b47a6861-f48c-4044-b55c-ec391d46c347",
   "metadata": {},
   "outputs": [],
   "source": [
    "X = np.column_stack([ones,X])"
   ]
  },
  {
   "cell_type": "code",
   "execution_count": 35,
   "id": "d0d8b2f6-31d1-4b06-8e0d-ceca17bc0c0a",
   "metadata": {},
   "outputs": [],
   "source": [
    "XTX = X.T.dot(X)"
   ]
  },
  {
   "cell_type": "code",
   "execution_count": 36,
   "id": "ac2345cf-5b13-4724-8d66-923795681969",
   "metadata": {},
   "outputs": [],
   "source": [
    "XTX_inv = np.linalg.inv(XTX)"
   ]
  },
  {
   "cell_type": "code",
   "execution_count": 37,
   "id": "5f72b40c-8762-4666-b18a-87c3b8f74780",
   "metadata": {},
   "outputs": [],
   "source": [
    "w_full = XTX_inv.dot(X.T).dot(y)"
   ]
  },
  {
   "cell_type": "code",
   "execution_count": 38,
   "id": "53448389-9da2-4888-a45b-0a99105683ac",
   "metadata": {},
   "outputs": [
    {
     "data": {
      "text/plain": [
       "(np.float64(340.0333601531692), array([-0.35021257, -3.29642328, -0.02618666]))"
      ]
     },
     "execution_count": 38,
     "metadata": {},
     "output_type": "execute_result"
    }
   ],
   "source": [
    "w0 = w_full[0]\n",
    "w = w_full[1:]\n",
    "w0, w"
   ]
  },
  {
   "cell_type": "code",
   "execution_count": 39,
   "id": "46b0abdc-fe0b-48f7-89ca-5b8bd3d51a90",
   "metadata": {},
   "outputs": [],
   "source": [
    "def train_linear_regression(X, y):\n",
    "    ones = np.ones(X.shape[0])\n",
    "    X = np.column_stack([ones,X])\n",
    "    XTX = X.T.dot(X)\n",
    "    XTX_inv = np.linalg.inv(XTX)\n",
    "    w_full = XTX_inv.dot(X.T).dot(y)\n",
    "\n",
    "    return w_full[0], w_full[1:]\n"
   ]
  },
  {
   "cell_type": "code",
   "execution_count": 40,
   "id": "b99df1a8-d880-4aa3-b839-a5ecaab8dd36",
   "metadata": {},
   "outputs": [
    {
     "ename": "LinAlgError",
     "evalue": "Singular matrix",
     "output_type": "error",
     "traceback": [
      "\u001b[31m---------------------------------------------------------------------------\u001b[39m",
      "\u001b[31mLinAlgError\u001b[39m                               Traceback (most recent call last)",
      "\u001b[36mCell\u001b[39m\u001b[36m \u001b[39m\u001b[32mIn[40]\u001b[39m\u001b[32m, line 1\u001b[39m\n\u001b[32m----> \u001b[39m\u001b[32m1\u001b[39m \u001b[43mtrain_linear_regression\u001b[49m\u001b[43m(\u001b[49m\u001b[43mX\u001b[49m\u001b[43m,\u001b[49m\u001b[43my\u001b[49m\u001b[43m)\u001b[49m\n",
      "\u001b[36mCell\u001b[39m\u001b[36m \u001b[39m\u001b[32mIn[39]\u001b[39m\u001b[32m, line 5\u001b[39m, in \u001b[36mtrain_linear_regression\u001b[39m\u001b[34m(X, y)\u001b[39m\n\u001b[32m      3\u001b[39m X = np.column_stack([ones,X])\n\u001b[32m      4\u001b[39m XTX = X.T.dot(X)\n\u001b[32m----> \u001b[39m\u001b[32m5\u001b[39m XTX_inv = \u001b[43mnp\u001b[49m\u001b[43m.\u001b[49m\u001b[43mlinalg\u001b[49m\u001b[43m.\u001b[49m\u001b[43minv\u001b[49m\u001b[43m(\u001b[49m\u001b[43mXTX\u001b[49m\u001b[43m)\u001b[49m\n\u001b[32m      6\u001b[39m w_full = XTX_inv.dot(X.T).dot(y)\n\u001b[32m      8\u001b[39m \u001b[38;5;28;01mreturn\u001b[39;00m w_full[\u001b[32m0\u001b[39m], w_full[\u001b[32m1\u001b[39m:]\n",
      "\u001b[36mFile \u001b[39m\u001b[32m~/.local/lib/python3.12/site-packages/numpy/linalg/_linalg.py:669\u001b[39m, in \u001b[36minv\u001b[39m\u001b[34m(a)\u001b[39m\n\u001b[32m    666\u001b[39m signature = \u001b[33m'\u001b[39m\u001b[33mD->D\u001b[39m\u001b[33m'\u001b[39m \u001b[38;5;28;01mif\u001b[39;00m isComplexType(t) \u001b[38;5;28;01melse\u001b[39;00m \u001b[33m'\u001b[39m\u001b[33md->d\u001b[39m\u001b[33m'\u001b[39m\n\u001b[32m    667\u001b[39m \u001b[38;5;28;01mwith\u001b[39;00m errstate(call=_raise_linalgerror_singular, invalid=\u001b[33m'\u001b[39m\u001b[33mcall\u001b[39m\u001b[33m'\u001b[39m,\n\u001b[32m    668\u001b[39m               over=\u001b[33m'\u001b[39m\u001b[33mignore\u001b[39m\u001b[33m'\u001b[39m, divide=\u001b[33m'\u001b[39m\u001b[33mignore\u001b[39m\u001b[33m'\u001b[39m, under=\u001b[33m'\u001b[39m\u001b[33mignore\u001b[39m\u001b[33m'\u001b[39m):\n\u001b[32m--> \u001b[39m\u001b[32m669\u001b[39m     ainv = \u001b[43m_umath_linalg\u001b[49m\u001b[43m.\u001b[49m\u001b[43minv\u001b[49m\u001b[43m(\u001b[49m\u001b[43ma\u001b[49m\u001b[43m,\u001b[49m\u001b[43m \u001b[49m\u001b[43msignature\u001b[49m\u001b[43m=\u001b[49m\u001b[43msignature\u001b[49m\u001b[43m)\u001b[49m\n\u001b[32m    670\u001b[39m \u001b[38;5;28;01mreturn\u001b[39;00m wrap(ainv.astype(result_t, copy=\u001b[38;5;28;01mFalse\u001b[39;00m))\n",
      "\u001b[36mFile \u001b[39m\u001b[32m~/.local/lib/python3.12/site-packages/numpy/linalg/_linalg.py:163\u001b[39m, in \u001b[36m_raise_linalgerror_singular\u001b[39m\u001b[34m(err, flag)\u001b[39m\n\u001b[32m    162\u001b[39m \u001b[38;5;28;01mdef\u001b[39;00m\u001b[38;5;250m \u001b[39m\u001b[34m_raise_linalgerror_singular\u001b[39m(err, flag):\n\u001b[32m--> \u001b[39m\u001b[32m163\u001b[39m     \u001b[38;5;28;01mraise\u001b[39;00m LinAlgError(\u001b[33m\"\u001b[39m\u001b[33mSingular matrix\u001b[39m\u001b[33m\"\u001b[39m)\n",
      "\u001b[31mLinAlgError\u001b[39m: Singular matrix"
     ]
    }
   ],
   "source": [
    "train_linear_regression(X,y)"
   ]
  },
  {
   "cell_type": "markdown",
   "id": "40cbffc1-896c-40d9-9e22-d03987c41a2e",
   "metadata": {},
   "source": [
    "## 2.8 Car price Baseline Model"
   ]
  },
  {
   "cell_type": "code",
   "execution_count": 41,
   "id": "7cfb3fa1-064c-4ce9-a581-9b0672cb59b9",
   "metadata": {},
   "outputs": [
    {
     "data": {
      "text/plain": [
       "make                  object\n",
       "model                 object\n",
       "year                   int64\n",
       "engine_fuel_type      object\n",
       "engine_hp            float64\n",
       "engine_cylinders     float64\n",
       "transmission_type     object\n",
       "driven_wheels         object\n",
       "number_of_doors      float64\n",
       "market_category       object\n",
       "vehicle_size          object\n",
       "vehicle_style         object\n",
       "highway_mpg            int64\n",
       "city_mpg               int64\n",
       "popularity             int64\n",
       "dtype: object"
      ]
     },
     "execution_count": 41,
     "metadata": {},
     "output_type": "execute_result"
    }
   ],
   "source": [
    "df_train.dtypes"
   ]
  },
  {
   "cell_type": "code",
   "execution_count": 42,
   "id": "a22a41a9-7021-44eb-827b-b75b9464de3b",
   "metadata": {},
   "outputs": [],
   "source": [
    "base = ['engine_hp', 'engine_cylinders', 'highway_mpg', 'city_mpg', 'popularity']\n",
    "X_train = df_train[base].values\n",
    "\n",
    "# there are some missing values - fill them with zeros\n",
    "X_train = df_train[base].fillna(0).values"
   ]
  },
  {
   "cell_type": "code",
   "execution_count": 43,
   "id": "5d4d1820-f170-4de5-bfc1-0b3bd1c66b3f",
   "metadata": {},
   "outputs": [],
   "source": [
    "w0, w = train_linear_regression(X_train,y_train)"
   ]
  },
  {
   "cell_type": "code",
   "execution_count": 44,
   "id": "38d130ce-ad2e-4f7f-bc26-ee7e3575c1d7",
   "metadata": {},
   "outputs": [],
   "source": [
    "y_pred = w0 + X_train.dot(w)"
   ]
  },
  {
   "cell_type": "code",
   "execution_count": 45,
   "id": "82bf6c15-bc07-44d9-821f-233bd580e4ec",
   "metadata": {},
   "outputs": [
    {
     "data": {
      "text/plain": [
       "<Axes: ylabel='Count'>"
      ]
     },
     "execution_count": 45,
     "metadata": {},
     "output_type": "execute_result"
    },
    {
     "data": {
      "image/png": "[encoded data removed]",
      "text/plain": [
       "<Figure size 640x480 with 1 Axes>"
      ]
     },
     "metadata": {},
     "output_type": "display_data"
    }
   ],
   "source": [
    "sns.histplot(y_pred, color = 'red', alpha = 0.5, bins = 50)\n",
    "sns.histplot(y_train, color = 'blue', alpha = 0.5, bins = 50)"
   ]
  },
  {
   "cell_type": "markdown",
   "id": "837f0ced-071a-401b-a5ca-0a7034ae1e3f",
   "metadata": {},
   "source": [
    "## 2.9 RMSE"
   ]
  },
  {
   "cell_type": "code",
   "execution_count": 46,
   "id": "3f7efa58-f157-4b5c-ba2b-04945ffdf429",
   "metadata": {},
   "outputs": [],
   "source": [
    "def rmse(y, y_pred):\n",
    "    error = y - y_pred\n",
    "    se = error ** 2\n",
    "    mse = se.mean()\n",
    "    return np.sqrt(mse)"
   ]
  },
  {
   "cell_type": "code",
   "execution_count": 47,
   "id": "2451d012-7452-4432-a604-23dda43fcc86",
   "metadata": {},
   "outputs": [
    {
     "data": {
      "text/plain": [
       "np.float64(0.7554192603920132)"
      ]
     },
     "execution_count": 47,
     "metadata": {},
     "output_type": "execute_result"
    }
   ],
   "source": [
    "rmse(y_train, y_pred)"
   ]
  },
  {
   "cell_type": "markdown",
   "id": "160b8c6e-3c76-42d9-b22b-8c69d0d28664",
   "metadata": {},
   "source": [
    "## 2.10 Validating the Model"
   ]
  },
  {
   "cell_type": "code",
   "execution_count": 48,
   "id": "d2d8518d-ce53-4d85-9e81-f733e678f496",
   "metadata": {},
   "outputs": [],
   "source": [
    "base = ['engine_hp', 'engine_cylinders', 'highway_mpg', 'city_mpg', 'popularity']\n",
    "X_train = df_train[base].values\n",
    "\n",
    "# there are some missing values - fill them with zeros\n",
    "X_train = df_train[base].fillna(0).values"
   ]
  },
  {
   "cell_type": "code",
   "execution_count": 49,
   "id": "5304e301-0984-48bb-86c4-7f5f2d6150ca",
   "metadata": {},
   "outputs": [],
   "source": [
    "def prepare_X(df):\n",
    "    df_num = df[base]\n",
    "    df_num = df_num.fillna(0)\n",
    "    X = df_num.values\n",
    "    return X"
   ]
  },
  {
   "cell_type": "code",
   "execution_count": 50,
   "id": "9f0dd433-7d0f-48fb-a57f-ae022220d9f8",
   "metadata": {},
   "outputs": [
    {
     "data": {
      "text/plain": [
       "np.float64(0.761653099130156)"
      ]
     },
     "execution_count": 50,
     "metadata": {},
     "output_type": "execute_result"
    }
   ],
   "source": [
    "# more precise means to encapsulate the portion of the data you're using\n",
    "# also leverages the training dataset to build the model\n",
    "X_train = prepare_X(df_train)\n",
    "w0, w = train_linear_regression(X_train, y_train)\n",
    "\n",
    "#that model is then used against the validation data (which itself has been shaped according to same process so its compatible)\n",
    "X_val = prepare_X(df_val)\n",
    "y_pred = w0 + X_val.dot(w)\n",
    "\n",
    "# RMSE of the trained model applied to the validation dataset is calculated\n",
    "rmse(y_val, y_pred)"
   ]
  },
  {
   "cell_type": "markdown",
   "id": "dbcbdce9-add4-44f8-8154-c02ad5423711",
   "metadata": {},
   "source": [
    "## 2.11 Feature Engineering"
   ]
  },
  {
   "cell_type": "code",
   "execution_count": 51,
   "id": "eee78fd4-5493-4793-bd5a-c9307ac96371",
   "metadata": {},
   "outputs": [
    {
     "data": {
      "text/plain": [
       "0        9\n",
       "1        5\n",
       "2        1\n",
       "3       26\n",
       "4        0\n",
       "        ..\n",
       "7145     2\n",
       "7146     2\n",
       "7147     2\n",
       "7148     3\n",
       "7149     0\n",
       "Name: year, Length: 7150, dtype: int64"
      ]
     },
     "execution_count": 51,
     "metadata": {},
     "output_type": "execute_result"
    }
   ],
   "source": [
    "2017-df_train.year"
   ]
  },
  {
   "cell_type": "code",
   "execution_count": 52,
   "id": "6e4a2abe-9332-4538-b3b7-9a3d6ca97b59",
   "metadata": {},
   "outputs": [],
   "source": [
    "def prepare_X(df):\n",
    "    df = df.copy()\n",
    "    \n",
    "    df['age'] = 2017 - df.year\n",
    "    features = base + ['age']\n",
    "    df_num = df[features]\n",
    "    df_num = df_num.fillna(0)\n",
    "    X = df_num.values\n",
    "    return X"
   ]
  },
  {
   "cell_type": "code",
   "execution_count": 53,
   "id": "30a8b7ae-820d-4ef4-89ef-3434a704196d",
   "metadata": {},
   "outputs": [],
   "source": [
    "X_train = prepare_X(df_train)"
   ]
  },
  {
   "cell_type": "code",
   "execution_count": 54,
   "id": "f778026f-9640-42cb-a8ca-a4bc7453ad14",
   "metadata": {},
   "outputs": [
    {
     "data": {
      "text/plain": [
       "array([[1.480e+02, 4.000e+00, 3.300e+01, 2.400e+01, 1.385e+03, 9.000e+00],\n",
       "       [1.320e+02, 4.000e+00, 3.200e+01, 2.500e+01, 2.031e+03, 5.000e+00],\n",
       "       [1.480e+02, 4.000e+00, 3.700e+01, 2.800e+01, 6.400e+02, 1.000e+00],\n",
       "       ...,\n",
       "       [2.850e+02, 6.000e+00, 2.200e+01, 1.700e+01, 5.490e+02, 2.000e+00],\n",
       "       [5.630e+02, 1.200e+01, 2.100e+01, 1.300e+01, 8.600e+01, 3.000e+00],\n",
       "       [2.000e+02, 4.000e+00, 3.100e+01, 2.200e+01, 8.730e+02, 0.000e+00]],\n",
       "      shape=(7150, 6))"
      ]
     },
     "execution_count": 54,
     "metadata": {},
     "output_type": "execute_result"
    }
   ],
   "source": [
    "X_train"
   ]
  },
  {
   "cell_type": "code",
   "execution_count": 55,
   "id": "daf06776-e9d6-4ac0-a8e0-61e45f4ea5e3",
   "metadata": {},
   "outputs": [
    {
     "data": {
      "text/plain": [
       "np.float64(0.5172055461058299)"
      ]
     },
     "execution_count": 55,
     "metadata": {},
     "output_type": "execute_result"
    }
   ],
   "source": [
    "w0, w = train_linear_regression(X_train, y_train)\n",
    "\n",
    "X_val = prepare_X(df_val)\n",
    "y_pred = w0 + X_val.dot(w)\n",
    "\n",
    "rmse(y_val, y_pred)"
   ]
  },
  {
   "cell_type": "code",
   "execution_count": 56,
   "id": "1b53ccc9-697f-411b-be04-3368a24af89d",
   "metadata": {},
   "outputs": [
    {
     "data": {
      "text/plain": [
       "<Axes: ylabel='Count'>"
      ]
     },
     "execution_count": 56,
     "metadata": {},
     "output_type": "execute_result"
    },
    {
     "data": {
      "image/png": "[encoded data removed]",
      "text/plain": [
       "<Figure size 640x480 with 1 Axes>"
      ]
     },
     "metadata": {},
     "output_type": "display_data"
    }
   ],
   "source": [
    "sns.histplot(y_pred, color = 'red', bins = 50)\n",
    "sns.histplot(y_val, color = 'blue', bins = 50)"
   ]
  },
  {
   "cell_type": "markdown",
   "id": "30a95d08-e115-430a-a43e-33e4a57af829",
   "metadata": {},
   "source": [
    "## 2.12 Categorical Values"
   ]
  },
  {
   "cell_type": "code",
   "execution_count": 57,
   "id": "3d47d914-7ddc-4ee7-9505-8092cf7074cb",
   "metadata": {},
   "outputs": [
    {
     "data": {
      "text/plain": [
       "make                  object\n",
       "model                 object\n",
       "year                   int64\n",
       "engine_fuel_type      object\n",
       "engine_hp            float64\n",
       "engine_cylinders     float64\n",
       "transmission_type     object\n",
       "driven_wheels         object\n",
       "number_of_doors      float64\n",
       "market_category       object\n",
       "vehicle_size          object\n",
       "vehicle_style         object\n",
       "highway_mpg            int64\n",
       "city_mpg               int64\n",
       "popularity             int64\n",
       "dtype: object"
      ]
     },
     "execution_count": 57,
     "metadata": {},
     "output_type": "execute_result"
    }
   ],
   "source": [
    "df_train.dtypes"
   ]
  },
  {
   "cell_type": "code",
   "execution_count": 58,
   "id": "da8dad72-e4e3-4f06-9624-709d40f075bd",
   "metadata": {},
   "outputs": [],
   "source": [
    "def prepare_X(df):\n",
    "    df = df.copy()\n",
    "    features = base.copy()\n",
    "    \n",
    "    df['age'] = 2017 - df.year\n",
    "    features.append('age')\n",
    "\n",
    "    for v in [2,3,4]:\n",
    "        df['num_doors_%s' % v] = (df.number_of_doors == v).astype('int')\n",
    "        features.append('num_doors_%s' %v)\n",
    "\n",
    "    df_num = df[features]\n",
    "    df_num = df_num.fillna(0)\n",
    "    X = df_num.values\n",
    "    return X"
   ]
  },
  {
   "cell_type": "code",
   "execution_count": 59,
   "id": "6c8a9091-d79b-4f2a-a7dd-b7afb7675f2a",
   "metadata": {},
   "outputs": [
    {
     "data": {
      "text/plain": [
       "np.float64(0.515799564150169)"
      ]
     },
     "execution_count": 59,
     "metadata": {},
     "output_type": "execute_result"
    }
   ],
   "source": [
    "X_train = prepare_X(df_train)\n",
    "w0, w = train_linear_regression(X_train, y_train)\n",
    "\n",
    "X_val = prepare_X(df_val)\n",
    "y_pred = w0 + X_val.dot(w)\n",
    "\n",
    "rmse(y_val, y_pred)"
   ]
  },
  {
   "cell_type": "code",
   "execution_count": 60,
   "id": "41278bc0-3a0e-480e-be3d-1e16dd001079",
   "metadata": {},
   "outputs": [],
   "source": [
    "df.make.value_counts().head()\n",
    "makes = list(df.make.value_counts().head().index)"
   ]
  },
  {
   "cell_type": "code",
   "execution_count": 61,
   "id": "bb74bab3-4979-4a62-b24f-0698178652cc",
   "metadata": {},
   "outputs": [],
   "source": [
    "def prepare_X(df):\n",
    "    df = df.copy()\n",
    "    features = base.copy()\n",
    "    \n",
    "    df['age'] = 2017 - df.year\n",
    "    features.append('age')\n",
    "\n",
    "    for v in [2,3,4]:\n",
    "        df['num_doors_%s' % v] = (df.number_of_doors == v).astype('int')\n",
    "        features.append('num_doors_%s' %v)\n",
    "\n",
    "    for v in makes:\n",
    "        df['make_%s' % v] = (df.make == v).astype('int')\n",
    "        features.append('make_%s' %v)\n",
    "\n",
    "    df_num = df[features]\n",
    "    df_num = df_num.fillna(0)\n",
    "    X = df_num.values\n",
    "    return X"
   ]
  },
  {
   "cell_type": "code",
   "execution_count": 62,
   "id": "16dcc7c6-b900-4268-9e8a-7e3eac72f521",
   "metadata": {},
   "outputs": [
    {
     "data": {
      "text/plain": [
       "np.float64(0.5076038849556795)"
      ]
     },
     "execution_count": 62,
     "metadata": {},
     "output_type": "execute_result"
    }
   ],
   "source": [
    "X_train = prepare_X(df_train)\n",
    "w0, w = train_linear_regression(X_train, y_train)\n",
    "\n",
    "X_val = prepare_X(df_val)\n",
    "y_pred = w0 + X_val.dot(w)\n",
    "\n",
    "rmse(y_val, y_pred)"
   ]
  },
  {
   "cell_type": "code",
   "execution_count": 63,
   "id": "dd13a3f5-280a-462d-a6f0-5b57f7014f60",
   "metadata": {},
   "outputs": [],
   "source": [
    "categorical_variables = [\n",
    "    'make', 'engine_fuel_type', 'transmission_type', 'driven_wheels',\n",
    "    'market_category', 'vehicle_size', 'vehicle_style'\n",
    "]"
   ]
  },
  {
   "cell_type": "code",
   "execution_count": 64,
   "id": "1088f93a-316a-434e-a18a-bd823b694e4f",
   "metadata": {},
   "outputs": [
    {
     "data": {
      "text/plain": [
       "{'make': ['chevrolet', 'ford', 'volkswagen', 'toyota', 'dodge'],\n",
       " 'engine_fuel_type': ['regular_unleaded',\n",
       "  'premium_unleaded_(required)',\n",
       "  'premium_unleaded_(recommended)',\n",
       "  'flex-fuel_(unleaded/e85)',\n",
       "  'diesel'],\n",
       " 'transmission_type': ['automatic',\n",
       "  'manual',\n",
       "  'automated_manual',\n",
       "  'direct_drive',\n",
       "  'unknown'],\n",
       " 'driven_wheels': ['front_wheel_drive',\n",
       "  'rear_wheel_drive',\n",
       "  'all_wheel_drive',\n",
       "  'four_wheel_drive'],\n",
       " 'market_category': ['crossover',\n",
       "  'flex_fuel',\n",
       "  'luxury',\n",
       "  'luxury,performance',\n",
       "  'hatchback'],\n",
       " 'vehicle_size': ['compact', 'midsize', 'large'],\n",
       " 'vehicle_style': ['sedan',\n",
       "  '4dr_suv',\n",
       "  'coupe',\n",
       "  'convertible',\n",
       "  '4dr_hatchback']}"
      ]
     },
     "execution_count": 64,
     "metadata": {},
     "output_type": "execute_result"
    }
   ],
   "source": [
    "categories = {}\n",
    "\n",
    "for c in categorical_variables:\n",
    "    categories[c] = list(df[c].value_counts().head().index)\n",
    "\n",
    "categories"
   ]
  },
  {
   "cell_type": "code",
   "execution_count": 65,
   "id": "a0d98a65-9444-45ec-9f79-e251262060ae",
   "metadata": {},
   "outputs": [],
   "source": [
    "def prepare_X(df):\n",
    "    df = df.copy()\n",
    "    features = base.copy()\n",
    "    \n",
    "    df['age'] = 2017 - df.year\n",
    "    features.append('age')\n",
    "\n",
    "    for v in [2,3,4]:\n",
    "        df['num_doors_%s' % v] = (df.number_of_doors == v).astype('int')\n",
    "        features.append('num_doors_%s' %v)\n",
    "\n",
    "    for c, values in categories.items():\n",
    "        for v in values:\n",
    "            df['%s_%s' % (c, v)] = (df[c] == v).astype('int')\n",
    "            features.append('%s_%s' % (c, v))\n",
    "            \n",
    "    df_num = df[features]\n",
    "    df_num = df_num.fillna(0)\n",
    "    X = df_num.values\n",
    "    return X"
   ]
  },
  {
   "cell_type": "code",
   "execution_count": 66,
   "id": "33dd2d22-c5e7-410e-8438-b7d91622c9be",
   "metadata": {},
   "outputs": [
    {
     "data": {
      "text/plain": [
       "dict_items([('make', ['chevrolet', 'ford', 'volkswagen', 'toyota', 'dodge']), ('engine_fuel_type', ['regular_unleaded', 'premium_unleaded_(required)', 'premium_unleaded_(recommended)', 'flex-fuel_(unleaded/e85)', 'diesel']), ('transmission_type', ['automatic', 'manual', 'automated_manual', 'direct_drive', 'unknown']), ('driven_wheels', ['front_wheel_drive', 'rear_wheel_drive', 'all_wheel_drive', 'four_wheel_drive']), ('market_category', ['crossover', 'flex_fuel', 'luxury', 'luxury,performance', 'hatchback']), ('vehicle_size', ['compact', 'midsize', 'large']), ('vehicle_style', ['sedan', '4dr_suv', 'coupe', 'convertible', '4dr_hatchback'])])"
      ]
     },
     "execution_count": 66,
     "metadata": {},
     "output_type": "execute_result"
    }
   ],
   "source": [
    "categories.items()"
   ]
  },
  {
   "cell_type": "code",
   "execution_count": 67,
   "id": "8f660913-f289-45d1-80db-71f0e17a0c61",
   "metadata": {},
   "outputs": [
    {
     "data": {
      "text/plain": [
       "np.float64(23.019020704791835)"
      ]
     },
     "execution_count": 67,
     "metadata": {},
     "output_type": "execute_result"
    }
   ],
   "source": [
    "X_train = prepare_X(df_train)\n",
    "w0, w = train_linear_regression(X_train, y_train)\n",
    "\n",
    "X_val = prepare_X(df_val)\n",
    "y_pred = w0 + X_val.dot(w)\n",
    "\n",
    "rmse(y_val, y_pred)"
   ]
  },
  {
   "cell_type": "code",
   "execution_count": 68,
   "id": "baed0a4f-b91d-47be-b239-ee91a25021e6",
   "metadata": {},
   "outputs": [
    {
     "data": {
      "text/plain": [
       "np.float64(4011091003551887.0)"
      ]
     },
     "execution_count": 68,
     "metadata": {},
     "output_type": "execute_result"
    }
   ],
   "source": [
    "w0"
   ]
  },
  {
   "cell_type": "markdown",
   "id": "08d3b69a-fbd4-4aef-a3c4-9a471f121263",
   "metadata": {},
   "source": [
    "## 2.13 Regularization"
   ]
  },
  {
   "cell_type": "code",
   "execution_count": 69,
   "id": "020cca7b-774a-410f-a93d-45a858a1d79e",
   "metadata": {},
   "outputs": [
    {
     "data": {
      "text/plain": [
       "array([[4, 4, 4],\n",
       "       [3, 5, 5],\n",
       "       [5, 1, 1],\n",
       "       [5, 4, 4],\n",
       "       [7, 5, 5],\n",
       "       [4, 5, 5]])"
      ]
     },
     "execution_count": 69,
     "metadata": {},
     "output_type": "execute_result"
    }
   ],
   "source": [
    "#issues can exist in formulating matrix inverses if some columns are identical.  As a toy example:\n",
    "\n",
    "X = [\n",
    "    [4,4,4],\n",
    "    [3,5,5],\n",
    "    [5,1,1],\n",
    "    [5,4,4],\n",
    "    [7,5,5],\n",
    "    [4,5,5]\n",
    "]\n",
    "\n",
    "X = np.array(X)\n",
    "X"
   ]
  },
  {
   "cell_type": "code",
   "execution_count": 70,
   "id": "065cf083-90e6-46f2-9f9b-ea12e0eb9242",
   "metadata": {},
   "outputs": [],
   "source": [
    "XTX = X.T.dot(X)"
   ]
  },
  {
   "cell_type": "code",
   "execution_count": 71,
   "id": "8208ccfe-711b-4cd8-80f7-afa703167687",
   "metadata": {},
   "outputs": [
    {
     "data": {
      "text/plain": [
       "array([[1.01, 2.  , 2.  ],\n",
       "       [2.  , 1.01, 1.  ],\n",
       "       [2.  , 1.  , 1.01]])"
      ]
     },
     "execution_count": 71,
     "metadata": {},
     "output_type": "execute_result"
    }
   ],
   "source": [
    "# np.linalg.inv(XTX) will now throw an error\n",
    "# one way to mitigate some of this is to add a small number on the diagnal\n",
    "XTX = [\n",
    "    [1, 2, 2],\n",
    "    [2, 1, 1],\n",
    "    [2, 1, 1]\n",
    "]\n",
    "\n",
    "XTX = XTX + .01 * np.eye(3)\n",
    "XTX"
   ]
  },
  {
   "cell_type": "code",
   "execution_count": 72,
   "id": "52afe4a6-e41b-4c73-9e69-ba80c0ab02df",
   "metadata": {},
   "outputs": [],
   "source": [
    "#now to integrate this into earlier algorithm\n",
    "def train_linear_regression_reg (X, y, r=0.001):\n",
    "    ones = np.ones(X.shape[0]) \n",
    "    X = np.column_stack([ones,X])\n",
    "    XTX = X.T.dot(X)\n",
    "    XTX = XTX + r * np.eye(XTX.shape[0])\n",
    "    \n",
    "    XTX_inv = np.linalg.inv(XTX)\n",
    "    w_full = XTX_inv.dot(X.T).dot(y)\n",
    "\n",
    "    return w_full[0], w_full[1:]"
   ]
  },
  {
   "cell_type": "code",
   "execution_count": 73,
   "id": "7e5bae6d-eb82-44fe-a050-5b7bd59510f5",
   "metadata": {},
   "outputs": [
    {
     "data": {
      "text/plain": [
       "np.float64(0.45652199012897743)"
      ]
     },
     "execution_count": 73,
     "metadata": {},
     "output_type": "execute_result"
    }
   ],
   "source": [
    "X_train = prepare_X(df_train)\n",
    "w0, w = train_linear_regression_reg(X_train, y_train, r= 0.01)\n",
    "\n",
    "X_val = prepare_X(df_val)\n",
    "y_pred = w0 + X_val.dot(w)\n",
    "\n",
    "rmse(y_val, y_pred)"
   ]
  },
  {
   "cell_type": "markdown",
   "id": "9d6b9005-ff77-4da2-bfc1-9b2eccadd8a0",
   "metadata": {},
   "source": [
    "## 2.14 Tuning the Model"
   ]
  },
  {
   "cell_type": "code",
   "execution_count": 74,
   "id": "41bcd194-3100-42e5-9005-ad7df829b71b",
   "metadata": {},
   "outputs": [
    {
     "name": "stdout",
     "output_type": "stream",
     "text": [
      "0 4011091003551887.0 23.019020704791835\n",
      "0.0001 6.317246071243372 0.4565170654323052\n",
      "0.001 6.285636717989048 0.45651750867781377\n",
      "0.01 6.2766071476973995 0.45652199012897743\n",
      "0.1 6.1912087238544915 0.4565692763007501\n",
      "1 5.634896668066369 0.45722043179930605\n",
      "10 4.283980108968471 0.4701456932099909\n"
     ]
    }
   ],
   "source": [
    "for r in [0, 0.0001, 0.001, 0.01, 0.1, 1, 10]:\n",
    "    X_train = prepare_X(df_train)\n",
    "    w0, w = train_linear_regression_reg(X_train, y_train, r=r)\n",
    "    X_val = prepare_X(df_val)\n",
    "    y_pred = w0 + X_val.dot(w)\n",
    "    score = rmse(y_val, y_pred)\n",
    "\n",
    "    print(r, w0, score)\n",
    "     "
   ]
  },
  {
   "cell_type": "code",
   "execution_count": 75,
   "id": "fa8ee534-b369-4df1-920a-fa33a257abdd",
   "metadata": {},
   "outputs": [
    {
     "data": {
      "text/plain": [
       "np.float64(0.45651750867781377)"
      ]
     },
     "execution_count": 75,
     "metadata": {},
     "output_type": "execute_result"
    }
   ],
   "source": [
    "# you can see from results above that .001 - .0001 provide the best RMSE (somewhat negligible, so go with .001).  Go ahead and retrain the model\n",
    "# with this value so you've got the \"best\"\n",
    "r = .001\n",
    "X_train = prepare_X(df_train)\n",
    "w0, w = train_linear_regression_reg(X_train, y_train, r=r)\n",
    "X_val = prepare_X(df_val)\n",
    "y_pred = w0 + X_val.dot(w)\n",
    "score = rmse(y_val, y_pred)\n",
    "score"
   ]
  },
  {
   "cell_type": "markdown",
   "id": "46684599-b6cb-4a74-bf29-f235d0da40ee",
   "metadata": {},
   "source": [
    "## 2.15 Using the Model"
   ]
  },
  {
   "cell_type": "code",
   "execution_count": 78,
   "id": "4eeaec46-cbd2-4f30-a58e-d8b06dbf6d3c",
   "metadata": {},
   "outputs": [],
   "source": [
    "#Remember we split Train/Validate/Test pieces of data, and have been training against Train to use against Validation.\n",
    "#Now, we're going to use ALL of the train + validate pieces of data to increase the data corpus and use against the test piece\n",
    "\n",
    "df_full_train = pd.concat([df_train, df_val])\n",
    "\n",
    "#note that this keeps the indices currently in each of the dataframes, so you need to reset the index\n",
    "\n",
    "df_full_train = df_full_train.reset_index(drop = True)"
   ]
  },
  {
   "cell_type": "code",
   "execution_count": 79,
   "id": "e35cc940-5690-40db-a6e4-7ed7cc4780be",
   "metadata": {},
   "outputs": [
    {
     "data": {
      "text/html": [
       "<div>\n",
       "<style scoped>\n",
       "    .dataframe tbody tr th:only-of-type {\n",
       "        vertical-align: middle;\n",
       "    }\n",
       "\n",
       "    .dataframe tbody tr th {\n",
       "        vertical-align: top;\n",
       "    }\n",
       "\n",
       "    .dataframe thead th {\n",
       "        text-align: right;\n",
       "    }\n",
       "</style>\n",
       "<table border=\"1\" class=\"dataframe\">\n",
       "  <thead>\n",
       "    <tr style=\"text-align: right;\">\n",
       "      <th></th>\n",
       "      <th>make</th>\n",
       "      <th>model</th>\n",
       "      <th>year</th>\n",
       "      <th>engine_fuel_type</th>\n",
       "      <th>engine_hp</th>\n",
       "      <th>engine_cylinders</th>\n",
       "      <th>transmission_type</th>\n",
       "      <th>driven_wheels</th>\n",
       "      <th>number_of_doors</th>\n",
       "      <th>market_category</th>\n",
       "      <th>vehicle_size</th>\n",
       "      <th>vehicle_style</th>\n",
       "      <th>highway_mpg</th>\n",
       "      <th>city_mpg</th>\n",
       "      <th>popularity</th>\n",
       "    </tr>\n",
       "  </thead>\n",
       "  <tbody>\n",
       "    <tr>\n",
       "      <th>0</th>\n",
       "      <td>chevrolet</td>\n",
       "      <td>cobalt</td>\n",
       "      <td>2008</td>\n",
       "      <td>regular_unleaded</td>\n",
       "      <td>148.0</td>\n",
       "      <td>4.0</td>\n",
       "      <td>manual</td>\n",
       "      <td>front_wheel_drive</td>\n",
       "      <td>2.0</td>\n",
       "      <td>NaN</td>\n",
       "      <td>compact</td>\n",
       "      <td>coupe</td>\n",
       "      <td>33</td>\n",
       "      <td>24</td>\n",
       "      <td>1385</td>\n",
       "    </tr>\n",
       "    <tr>\n",
       "      <th>1</th>\n",
       "      <td>toyota</td>\n",
       "      <td>matrix</td>\n",
       "      <td>2012</td>\n",
       "      <td>regular_unleaded</td>\n",
       "      <td>132.0</td>\n",
       "      <td>4.0</td>\n",
       "      <td>automatic</td>\n",
       "      <td>front_wheel_drive</td>\n",
       "      <td>4.0</td>\n",
       "      <td>hatchback</td>\n",
       "      <td>compact</td>\n",
       "      <td>4dr_hatchback</td>\n",
       "      <td>32</td>\n",
       "      <td>25</td>\n",
       "      <td>2031</td>\n",
       "    </tr>\n",
       "    <tr>\n",
       "      <th>2</th>\n",
       "      <td>subaru</td>\n",
       "      <td>impreza</td>\n",
       "      <td>2016</td>\n",
       "      <td>regular_unleaded</td>\n",
       "      <td>148.0</td>\n",
       "      <td>4.0</td>\n",
       "      <td>automatic</td>\n",
       "      <td>all_wheel_drive</td>\n",
       "      <td>4.0</td>\n",
       "      <td>hatchback</td>\n",
       "      <td>compact</td>\n",
       "      <td>4dr_hatchback</td>\n",
       "      <td>37</td>\n",
       "      <td>28</td>\n",
       "      <td>640</td>\n",
       "    </tr>\n",
       "    <tr>\n",
       "      <th>3</th>\n",
       "      <td>volkswagen</td>\n",
       "      <td>vanagon</td>\n",
       "      <td>1991</td>\n",
       "      <td>regular_unleaded</td>\n",
       "      <td>90.0</td>\n",
       "      <td>4.0</td>\n",
       "      <td>manual</td>\n",
       "      <td>rear_wheel_drive</td>\n",
       "      <td>3.0</td>\n",
       "      <td>NaN</td>\n",
       "      <td>large</td>\n",
       "      <td>passenger_minivan</td>\n",
       "      <td>18</td>\n",
       "      <td>16</td>\n",
       "      <td>873</td>\n",
       "    </tr>\n",
       "    <tr>\n",
       "      <th>4</th>\n",
       "      <td>ford</td>\n",
       "      <td>f-150</td>\n",
       "      <td>2017</td>\n",
       "      <td>flex-fuel_(unleaded/e85)</td>\n",
       "      <td>385.0</td>\n",
       "      <td>8.0</td>\n",
       "      <td>automatic</td>\n",
       "      <td>four_wheel_drive</td>\n",
       "      <td>4.0</td>\n",
       "      <td>flex_fuel</td>\n",
       "      <td>large</td>\n",
       "      <td>crew_cab_pickup</td>\n",
       "      <td>21</td>\n",
       "      <td>15</td>\n",
       "      <td>5657</td>\n",
       "    </tr>\n",
       "    <tr>\n",
       "      <th>...</th>\n",
       "      <td>...</td>\n",
       "      <td>...</td>\n",
       "      <td>...</td>\n",
       "      <td>...</td>\n",
       "      <td>...</td>\n",
       "      <td>...</td>\n",
       "      <td>...</td>\n",
       "      <td>...</td>\n",
       "      <td>...</td>\n",
       "      <td>...</td>\n",
       "      <td>...</td>\n",
       "      <td>...</td>\n",
       "      <td>...</td>\n",
       "      <td>...</td>\n",
       "      <td>...</td>\n",
       "    </tr>\n",
       "    <tr>\n",
       "      <th>9527</th>\n",
       "      <td>volvo</td>\n",
       "      <td>v60</td>\n",
       "      <td>2015</td>\n",
       "      <td>regular_unleaded</td>\n",
       "      <td>240.0</td>\n",
       "      <td>4.0</td>\n",
       "      <td>automatic</td>\n",
       "      <td>front_wheel_drive</td>\n",
       "      <td>4.0</td>\n",
       "      <td>luxury</td>\n",
       "      <td>midsize</td>\n",
       "      <td>wagon</td>\n",
       "      <td>37</td>\n",
       "      <td>25</td>\n",
       "      <td>870</td>\n",
       "    </tr>\n",
       "    <tr>\n",
       "      <th>9528</th>\n",
       "      <td>maserati</td>\n",
       "      <td>granturismo_convertible</td>\n",
       "      <td>2015</td>\n",
       "      <td>premium_unleaded_(required)</td>\n",
       "      <td>444.0</td>\n",
       "      <td>8.0</td>\n",
       "      <td>automatic</td>\n",
       "      <td>rear_wheel_drive</td>\n",
       "      <td>2.0</td>\n",
       "      <td>exotic,luxury,high-performance</td>\n",
       "      <td>midsize</td>\n",
       "      <td>convertible</td>\n",
       "      <td>20</td>\n",
       "      <td>13</td>\n",
       "      <td>238</td>\n",
       "    </tr>\n",
       "    <tr>\n",
       "      <th>9529</th>\n",
       "      <td>cadillac</td>\n",
       "      <td>escalade_hybrid</td>\n",
       "      <td>2013</td>\n",
       "      <td>regular_unleaded</td>\n",
       "      <td>332.0</td>\n",
       "      <td>8.0</td>\n",
       "      <td>automatic</td>\n",
       "      <td>rear_wheel_drive</td>\n",
       "      <td>4.0</td>\n",
       "      <td>luxury,hybrid</td>\n",
       "      <td>large</td>\n",
       "      <td>4dr_suv</td>\n",
       "      <td>23</td>\n",
       "      <td>20</td>\n",
       "      <td>1624</td>\n",
       "    </tr>\n",
       "    <tr>\n",
       "      <th>9530</th>\n",
       "      <td>mitsubishi</td>\n",
       "      <td>lancer</td>\n",
       "      <td>2016</td>\n",
       "      <td>regular_unleaded</td>\n",
       "      <td>148.0</td>\n",
       "      <td>4.0</td>\n",
       "      <td>manual</td>\n",
       "      <td>front_wheel_drive</td>\n",
       "      <td>4.0</td>\n",
       "      <td>NaN</td>\n",
       "      <td>compact</td>\n",
       "      <td>sedan</td>\n",
       "      <td>34</td>\n",
       "      <td>24</td>\n",
       "      <td>436</td>\n",
       "    </tr>\n",
       "    <tr>\n",
       "      <th>9531</th>\n",
       "      <td>kia</td>\n",
       "      <td>sorento</td>\n",
       "      <td>2015</td>\n",
       "      <td>regular_unleaded</td>\n",
       "      <td>290.0</td>\n",
       "      <td>6.0</td>\n",
       "      <td>automatic</td>\n",
       "      <td>front_wheel_drive</td>\n",
       "      <td>4.0</td>\n",
       "      <td>crossover</td>\n",
       "      <td>midsize</td>\n",
       "      <td>4dr_suv</td>\n",
       "      <td>25</td>\n",
       "      <td>18</td>\n",
       "      <td>1720</td>\n",
       "    </tr>\n",
       "  </tbody>\n",
       "</table>\n",
       "<p>9532 rows × 15 columns</p>\n",
       "</div>"
      ],
      "text/plain": [
       "            make                    model  year             engine_fuel_type  \\\n",
       "0      chevrolet                   cobalt  2008             regular_unleaded   \n",
       "1         toyota                   matrix  2012             regular_unleaded   \n",
       "2         subaru                  impreza  2016             regular_unleaded   \n",
       "3     volkswagen                  vanagon  1991             regular_unleaded   \n",
       "4           ford                    f-150  2017     flex-fuel_(unleaded/e85)   \n",
       "...          ...                      ...   ...                          ...   \n",
       "9527       volvo                      v60  2015             regular_unleaded   \n",
       "9528    maserati  granturismo_convertible  2015  premium_unleaded_(required)   \n",
       "9529    cadillac          escalade_hybrid  2013             regular_unleaded   \n",
       "9530  mitsubishi                   lancer  2016             regular_unleaded   \n",
       "9531         kia                  sorento  2015             regular_unleaded   \n",
       "\n",
       "      engine_hp  engine_cylinders transmission_type      driven_wheels  \\\n",
       "0         148.0               4.0            manual  front_wheel_drive   \n",
       "1         132.0               4.0         automatic  front_wheel_drive   \n",
       "2         148.0               4.0         automatic    all_wheel_drive   \n",
       "3          90.0               4.0            manual   rear_wheel_drive   \n",
       "4         385.0               8.0         automatic   four_wheel_drive   \n",
       "...         ...               ...               ...                ...   \n",
       "9527      240.0               4.0         automatic  front_wheel_drive   \n",
       "9528      444.0               8.0         automatic   rear_wheel_drive   \n",
       "9529      332.0               8.0         automatic   rear_wheel_drive   \n",
       "9530      148.0               4.0            manual  front_wheel_drive   \n",
       "9531      290.0               6.0         automatic  front_wheel_drive   \n",
       "\n",
       "      number_of_doors                 market_category vehicle_size  \\\n",
       "0                 2.0                             NaN      compact   \n",
       "1                 4.0                       hatchback      compact   \n",
       "2                 4.0                       hatchback      compact   \n",
       "3                 3.0                             NaN        large   \n",
       "4                 4.0                       flex_fuel        large   \n",
       "...               ...                             ...          ...   \n",
       "9527              4.0                          luxury      midsize   \n",
       "9528              2.0  exotic,luxury,high-performance      midsize   \n",
       "9529              4.0                   luxury,hybrid        large   \n",
       "9530              4.0                             NaN      compact   \n",
       "9531              4.0                       crossover      midsize   \n",
       "\n",
       "          vehicle_style  highway_mpg  city_mpg  popularity  \n",
       "0                 coupe           33        24        1385  \n",
       "1         4dr_hatchback           32        25        2031  \n",
       "2         4dr_hatchback           37        28         640  \n",
       "3     passenger_minivan           18        16         873  \n",
       "4       crew_cab_pickup           21        15        5657  \n",
       "...                 ...          ...       ...         ...  \n",
       "9527              wagon           37        25         870  \n",
       "9528        convertible           20        13         238  \n",
       "9529            4dr_suv           23        20        1624  \n",
       "9530              sedan           34        24         436  \n",
       "9531            4dr_suv           25        18        1720  \n",
       "\n",
       "[9532 rows x 15 columns]"
      ]
     },
     "execution_count": 79,
     "metadata": {},
     "output_type": "execute_result"
    }
   ],
   "source": [
    "df_full_train"
   ]
  },
  {
   "cell_type": "code",
   "execution_count": 80,
   "id": "57ba8b7a-9024-44e1-bb12-1b577f8bae13",
   "metadata": {},
   "outputs": [],
   "source": [
    "X_full_train = prepare_X(df_full_train)"
   ]
  },
  {
   "cell_type": "code",
   "execution_count": 81,
   "id": "388297eb-bb33-4e81-bf1e-3bd14e6cd59e",
   "metadata": {},
   "outputs": [
    {
     "data": {
      "text/plain": [
       "array([[148.,   4.,  33., ...,   1.,   0.,   0.],\n",
       "       [132.,   4.,  32., ...,   0.,   0.,   1.],\n",
       "       [148.,   4.,  37., ...,   0.,   0.,   1.],\n",
       "       ...,\n",
       "       [332.,   8.,  23., ...,   0.,   0.,   0.],\n",
       "       [148.,   4.,  34., ...,   0.,   0.,   0.],\n",
       "       [290.,   6.,  25., ...,   0.,   0.,   0.]], shape=(9532, 41))"
      ]
     },
     "execution_count": 81,
     "metadata": {},
     "output_type": "execute_result"
    }
   ],
   "source": [
    "X_full_train"
   ]
  },
  {
   "cell_type": "code",
   "execution_count": 82,
   "id": "f0ff4603-b7a6-47bc-8e07-7792b5c339b0",
   "metadata": {},
   "outputs": [],
   "source": [
    "#also need to have similarly sized y (target/results)\n",
    "y_full_train = np.concatenate([y_train, y_val])"
   ]
  },
  {
   "cell_type": "code",
   "execution_count": 83,
   "id": "521c1543-ef5d-4ccd-aea8-3561490cbecb",
   "metadata": {},
   "outputs": [],
   "source": [
    "w0, w = train_linear_regression_reg(X_full_train, y_full_train, r=r)"
   ]
  },
  {
   "cell_type": "code",
   "execution_count": 86,
   "id": "b10ed029-4904-4eaa-b77c-357fd8436722",
   "metadata": {},
   "outputs": [
    {
     "data": {
      "text/plain": [
       "np.float64(0.4517749310621406)"
      ]
     },
     "execution_count": 86,
     "metadata": {},
     "output_type": "execute_result"
    }
   ],
   "source": [
    "X_test = prepare_X(df_test)\n",
    "y_pred = w0 + X_test.dot(w)\n",
    "score = rmse(y_test, y_pred)\n",
    "score"
   ]
  },
  {
   "cell_type": "code",
   "execution_count": 88,
   "id": "9668e04d-fb64-4e2e-a437-2d1df314773b",
   "metadata": {},
   "outputs": [
    {
     "data": {
      "text/plain": [
       "{'make': 'toyota',\n",
       " 'model': 'sienna',\n",
       " 'year': 2015,\n",
       " 'engine_fuel_type': 'regular_unleaded',\n",
       " 'engine_hp': 266.0,\n",
       " 'engine_cylinders': 6.0,\n",
       " 'transmission_type': 'automatic',\n",
       " 'driven_wheels': 'front_wheel_drive',\n",
       " 'number_of_doors': 4.0,\n",
       " 'market_category': nan,\n",
       " 'vehicle_size': 'large',\n",
       " 'vehicle_style': 'passenger_minivan',\n",
       " 'highway_mpg': 25,\n",
       " 'city_mpg': 18,\n",
       " 'popularity': 2031}"
      ]
     },
     "execution_count": 88,
     "metadata": {},
     "output_type": "execute_result"
    }
   ],
   "source": [
    "# Now time to test with \"real\" data against some random car.  Below uses a single line item (representing a single car) and applies the model\n",
    "# we've trained.  This is effectively just plotting a point that would fall under the bins of the histogram we've previously plotted\n",
    "\n",
    "car = df_test.iloc[20].to_dict()\n",
    "car"
   ]
  },
  {
   "cell_type": "code",
   "execution_count": 89,
   "id": "568044f1-cf50-45ff-8413-e23b2e6d4dd3",
   "metadata": {},
   "outputs": [
    {
     "data": {
      "text/html": [
       "<div>\n",
       "<style scoped>\n",
       "    .dataframe tbody tr th:only-of-type {\n",
       "        vertical-align: middle;\n",
       "    }\n",
       "\n",
       "    .dataframe tbody tr th {\n",
       "        vertical-align: top;\n",
       "    }\n",
       "\n",
       "    .dataframe thead th {\n",
       "        text-align: right;\n",
       "    }\n",
       "</style>\n",
       "<table border=\"1\" class=\"dataframe\">\n",
       "  <thead>\n",
       "    <tr style=\"text-align: right;\">\n",
       "      <th></th>\n",
       "      <th>make</th>\n",
       "      <th>model</th>\n",
       "      <th>year</th>\n",
       "      <th>engine_fuel_type</th>\n",
       "      <th>engine_hp</th>\n",
       "      <th>engine_cylinders</th>\n",
       "      <th>transmission_type</th>\n",
       "      <th>driven_wheels</th>\n",
       "      <th>number_of_doors</th>\n",
       "      <th>market_category</th>\n",
       "      <th>vehicle_size</th>\n",
       "      <th>vehicle_style</th>\n",
       "      <th>highway_mpg</th>\n",
       "      <th>city_mpg</th>\n",
       "      <th>popularity</th>\n",
       "    </tr>\n",
       "  </thead>\n",
       "  <tbody>\n",
       "    <tr>\n",
       "      <th>0</th>\n",
       "      <td>toyota</td>\n",
       "      <td>sienna</td>\n",
       "      <td>2015</td>\n",
       "      <td>regular_unleaded</td>\n",
       "      <td>266.0</td>\n",
       "      <td>6.0</td>\n",
       "      <td>automatic</td>\n",
       "      <td>front_wheel_drive</td>\n",
       "      <td>4.0</td>\n",
       "      <td>NaN</td>\n",
       "      <td>large</td>\n",
       "      <td>passenger_minivan</td>\n",
       "      <td>25</td>\n",
       "      <td>18</td>\n",
       "      <td>2031</td>\n",
       "    </tr>\n",
       "  </tbody>\n",
       "</table>\n",
       "</div>"
      ],
      "text/plain": [
       "     make   model  year  engine_fuel_type  engine_hp  engine_cylinders  \\\n",
       "0  toyota  sienna  2015  regular_unleaded      266.0               6.0   \n",
       "\n",
       "  transmission_type      driven_wheels  number_of_doors  market_category  \\\n",
       "0         automatic  front_wheel_drive              4.0              NaN   \n",
       "\n",
       "  vehicle_size      vehicle_style  highway_mpg  city_mpg  popularity  \n",
       "0        large  passenger_minivan           25        18        2031  "
      ]
     },
     "execution_count": 89,
     "metadata": {},
     "output_type": "execute_result"
    }
   ],
   "source": [
    "# our matrix preparation function expects a DataFrame\n",
    "df_small = pd.DataFrame([car])\n",
    "df_small"
   ]
  },
  {
   "cell_type": "code",
   "execution_count": 91,
   "id": "8a5f0e9a-a149-4f15-a94c-4d709c0b4571",
   "metadata": {},
   "outputs": [
    {
     "data": {
      "text/plain": [
       "array([[2.660e+02, 6.000e+00, 2.500e+01, 1.800e+01, 2.031e+03, 2.000e+00,\n",
       "        0.000e+00, 0.000e+00, 1.000e+00, 0.000e+00, 0.000e+00, 0.000e+00,\n",
       "        1.000e+00, 0.000e+00, 1.000e+00, 0.000e+00, 0.000e+00, 0.000e+00,\n",
       "        0.000e+00, 1.000e+00, 0.000e+00, 0.000e+00, 0.000e+00, 0.000e+00,\n",
       "        1.000e+00, 0.000e+00, 0.000e+00, 0.000e+00, 0.000e+00, 0.000e+00,\n",
       "        0.000e+00, 0.000e+00, 0.000e+00, 0.000e+00, 0.000e+00, 1.000e+00,\n",
       "        0.000e+00, 0.000e+00, 0.000e+00, 0.000e+00, 0.000e+00]])"
      ]
     },
     "execution_count": 91,
     "metadata": {},
     "output_type": "execute_result"
    }
   ],
   "source": [
    "X_small = prepare_X(df_small)\n",
    "X_small"
   ]
  },
  {
   "cell_type": "code",
   "execution_count": 92,
   "id": "4e01cc6b-ca39-43fa-9abc-69345c4a9ac6",
   "metadata": {},
   "outputs": [
    {
     "data": {
      "text/plain": [
       "np.float64(10.462651700289744)"
      ]
     },
     "execution_count": 92,
     "metadata": {},
     "output_type": "execute_result"
    }
   ],
   "source": [
    "cost_pred = w0 + X_small.dot(w)   # this is using w0 and w that were previously built off the whole dataset\n",
    "cost_pred = cost_pred[0]  # returns a list, so we just need the single element\n",
    "cost_pred"
   ]
  },
  {
   "cell_type": "code",
   "execution_count": 93,
   "id": "bafedc0a-bce1-45c1-87b4-cf1aee2b97bf",
   "metadata": {},
   "outputs": [
    {
     "data": {
      "text/plain": [
       "np.float64(34983.19616272936)"
      ]
     },
     "execution_count": 93,
     "metadata": {},
     "output_type": "execute_result"
    }
   ],
   "source": [
    "np.expm1(cost_pred)  #this converts our log'd price data back to the actual $$"
   ]
  },
  {
   "cell_type": "code",
   "execution_count": 94,
   "id": "da0e2db8-6436-4e74-9c04-795a2c5c46fa",
   "metadata": {},
   "outputs": [
    {
     "data": {
      "text/plain": [
       "np.float64(35000.00000000001)"
      ]
     },
     "execution_count": 94,
     "metadata": {},
     "output_type": "execute_result"
    }
   ],
   "source": [
    "np.expm1(y_test[20])  # grab the *actual* cost to compare our result"
   ]
  },
  {
   "cell_type": "code",
   "execution_count": null,
   "id": "5fff37d2-5a29-43cd-bfaf-56b81b16e666",
   "metadata": {},
   "outputs": [],
   "source": []
  }
 ],
 "metadata": {
  "kernelspec": {
   "display_name": "Python 3 (ipykernel)",
   "language": "python",
   "name": "python3"
  },
  "language_info": {
   "codemirror_mode": {
    "name": "ipython",
    "version": 3
   },
   "file_extension": ".py",
   "mimetype": "text/x-python",
   "name": "python",
   "nbconvert_exporter": "python",
   "pygments_lexer": "ipython3",
   "version": "3.12.1"
  }
 },
 "nbformat": 4,
 "nbformat_minor": 5
}
