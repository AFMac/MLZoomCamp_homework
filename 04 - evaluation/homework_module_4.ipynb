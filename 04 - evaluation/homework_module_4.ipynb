{
 "cells": [
  {
   "cell_type": "code",
   "execution_count": 1,
   "id": "15035579-618d-4905-a582-8779a2a14879",
   "metadata": {},
   "outputs": [],
   "source": [
    "import pandas as pd\n",
    "import numpy as np\n",
    "import matplotlib.pyplot as plt\n",
    "from sklearn.model_selection import train_test_split\n",
    "from sklearn.feature_extraction import DictVectorizer\n",
    "from sklearn.linear_model import LogisticRegression"
   ]
  },
  {
   "cell_type": "code",
   "execution_count": 3,
   "id": "1c7546a4-579c-4512-ae1f-953d10df7579",
   "metadata": {},
   "outputs": [
    {
     "name": "stdout",
     "output_type": "stream",
     "text": [
      "--2025-10-16 19:19:56--  https://raw.githubusercontent.com/alexeygrigorev/datasets/master/course_lead_scoring.csv\n",
      "Resolving raw.githubusercontent.com (raw.githubusercontent.com)... 185.199.110.133, 185.199.111.133, 185.199.108.133, ...\n",
      "Connecting to raw.githubusercontent.com (raw.githubusercontent.com)|185.199.110.133|:443... connected.\n",
      "HTTP request sent, awaiting response... 200 OK\n",
      "Length: 80876 (79K) [text/plain]\n",
      "Saving to: ‘course_lead_scoring.csv’\n",
      "\n",
      "course_lead_scoring 100%[===================>]  78.98K  --.-KB/s    in 0.007s  \n",
      "\n",
      "2025-10-16 19:19:56 (10.4 MB/s) - ‘course_lead_scoring.csv’ saved [80876/80876]\n",
      "\n"
     ]
    }
   ],
   "source": [
    "data = 'https://raw.githubusercontent.com/alexeygrigorev/datasets/master/course_lead_scoring.csv'\n",
    "!wget $data"
   ]
  },
  {
   "cell_type": "code",
   "execution_count": 2,
   "id": "4091873e-3957-47e2-a198-73b80cc092db",
   "metadata": {},
   "outputs": [],
   "source": [
    "df = pd.read_csv('course_lead_scoring.csv')"
   ]
  },
  {
   "cell_type": "code",
   "execution_count": 3,
   "id": "d1f38592-0fb2-4f81-968b-a71b46e926cd",
   "metadata": {},
   "outputs": [
    {
     "data": {
      "text/html": [
       "<div>\n",
       "<style scoped>\n",
       "    .dataframe tbody tr th:only-of-type {\n",
       "        vertical-align: middle;\n",
       "    }\n",
       "\n",
       "    .dataframe tbody tr th {\n",
       "        vertical-align: top;\n",
       "    }\n",
       "\n",
       "    .dataframe thead th {\n",
       "        text-align: right;\n",
       "    }\n",
       "</style>\n",
       "<table border=\"1\" class=\"dataframe\">\n",
       "  <thead>\n",
       "    <tr style=\"text-align: right;\">\n",
       "      <th></th>\n",
       "      <th>lead_source</th>\n",
       "      <th>industry</th>\n",
       "      <th>number_of_courses_viewed</th>\n",
       "      <th>annual_income</th>\n",
       "      <th>employment_status</th>\n",
       "      <th>location</th>\n",
       "      <th>interaction_count</th>\n",
       "      <th>lead_score</th>\n",
       "      <th>converted</th>\n",
       "    </tr>\n",
       "  </thead>\n",
       "  <tbody>\n",
       "    <tr>\n",
       "      <th>0</th>\n",
       "      <td>paid_ads</td>\n",
       "      <td>NaN</td>\n",
       "      <td>1</td>\n",
       "      <td>79450.0</td>\n",
       "      <td>unemployed</td>\n",
       "      <td>south_america</td>\n",
       "      <td>4</td>\n",
       "      <td>0.94</td>\n",
       "      <td>1</td>\n",
       "    </tr>\n",
       "    <tr>\n",
       "      <th>1</th>\n",
       "      <td>social_media</td>\n",
       "      <td>retail</td>\n",
       "      <td>1</td>\n",
       "      <td>46992.0</td>\n",
       "      <td>employed</td>\n",
       "      <td>south_america</td>\n",
       "      <td>1</td>\n",
       "      <td>0.80</td>\n",
       "      <td>0</td>\n",
       "    </tr>\n",
       "    <tr>\n",
       "      <th>2</th>\n",
       "      <td>events</td>\n",
       "      <td>healthcare</td>\n",
       "      <td>5</td>\n",
       "      <td>78796.0</td>\n",
       "      <td>unemployed</td>\n",
       "      <td>australia</td>\n",
       "      <td>3</td>\n",
       "      <td>0.69</td>\n",
       "      <td>1</td>\n",
       "    </tr>\n",
       "    <tr>\n",
       "      <th>3</th>\n",
       "      <td>paid_ads</td>\n",
       "      <td>retail</td>\n",
       "      <td>2</td>\n",
       "      <td>83843.0</td>\n",
       "      <td>NaN</td>\n",
       "      <td>australia</td>\n",
       "      <td>1</td>\n",
       "      <td>0.87</td>\n",
       "      <td>0</td>\n",
       "    </tr>\n",
       "    <tr>\n",
       "      <th>4</th>\n",
       "      <td>referral</td>\n",
       "      <td>education</td>\n",
       "      <td>3</td>\n",
       "      <td>85012.0</td>\n",
       "      <td>self_employed</td>\n",
       "      <td>europe</td>\n",
       "      <td>3</td>\n",
       "      <td>0.62</td>\n",
       "      <td>1</td>\n",
       "    </tr>\n",
       "  </tbody>\n",
       "</table>\n",
       "</div>"
      ],
      "text/plain": [
       "    lead_source    industry  number_of_courses_viewed  annual_income  \\\n",
       "0      paid_ads         NaN                         1        79450.0   \n",
       "1  social_media      retail                         1        46992.0   \n",
       "2        events  healthcare                         5        78796.0   \n",
       "3      paid_ads      retail                         2        83843.0   \n",
       "4      referral   education                         3        85012.0   \n",
       "\n",
       "  employment_status       location  interaction_count  lead_score  converted  \n",
       "0        unemployed  south_america                  4        0.94          1  \n",
       "1          employed  south_america                  1        0.80          0  \n",
       "2        unemployed      australia                  3        0.69          1  \n",
       "3               NaN      australia                  1        0.87          0  \n",
       "4     self_employed         europe                  3        0.62          1  "
      ]
     },
     "execution_count": 3,
     "metadata": {},
     "output_type": "execute_result"
    }
   ],
   "source": [
    "df.head()"
   ]
  },
  {
   "cell_type": "markdown",
   "id": "9c77c41b-a85f-4aeb-9d0d-407340b3a78e",
   "metadata": {},
   "source": [
    "## Initial Data Evaluation/Shaping"
   ]
  },
  {
   "cell_type": "code",
   "execution_count": 4,
   "id": "34b22b1d-8e72-4582-9214-2fb91005eae2",
   "metadata": {},
   "outputs": [],
   "source": [
    "numeric = ['number_of_courses_viewed', 'annual_income', 'interaction_count', 'lead_score']\n",
    "categorical = ['lead_source', 'industry', 'employment_status', 'location']"
   ]
  },
  {
   "cell_type": "code",
   "execution_count": 5,
   "id": "d95097bf-c93e-4689-b36e-02fa58614bd2",
   "metadata": {},
   "outputs": [
    {
     "data": {
      "text/plain": [
       "lead_source                 128\n",
       "industry                    134\n",
       "number_of_courses_viewed      0\n",
       "annual_income               181\n",
       "employment_status           100\n",
       "location                     63\n",
       "interaction_count             0\n",
       "lead_score                    0\n",
       "converted                     0\n",
       "dtype: int64"
      ]
     },
     "execution_count": 5,
     "metadata": {},
     "output_type": "execute_result"
    }
   ],
   "source": [
    "df.isnull().sum()"
   ]
  },
  {
   "cell_type": "code",
   "execution_count": 6,
   "id": "ecac06db-5742-42a6-ba5d-ea9a1e2b83ac",
   "metadata": {},
   "outputs": [],
   "source": [
    "for c in numeric:\n",
    "    df[c] = df[c].fillna(0.0)\n",
    "\n",
    "for c in categorical:\n",
    "    df[c] = df[c].fillna('NA')"
   ]
  },
  {
   "cell_type": "code",
   "execution_count": 7,
   "id": "1ebe90c2-ab70-4bf7-808b-547f053db478",
   "metadata": {},
   "outputs": [
    {
     "data": {
      "text/plain": [
       "lead_source                 0\n",
       "industry                    0\n",
       "number_of_courses_viewed    0\n",
       "annual_income               0\n",
       "employment_status           0\n",
       "location                    0\n",
       "interaction_count           0\n",
       "lead_score                  0\n",
       "converted                   0\n",
       "dtype: int64"
      ]
     },
     "execution_count": 7,
     "metadata": {},
     "output_type": "execute_result"
    }
   ],
   "source": [
    "df.isnull().sum()"
   ]
  },
  {
   "cell_type": "code",
   "execution_count": 8,
   "id": "8f05aadd-b2de-4694-9e6b-4fbd006a3468",
   "metadata": {},
   "outputs": [],
   "source": [
    "df_full_train, df_test = train_test_split(df, test_size = 0.2, random_state = 1)\n",
    "df_train, df_val = train_test_split(df_full_train, test_size = 0.25, random_state = 1) \n",
    "\n",
    "df_train = df_train.reset_index(drop = True)\n",
    "df_val = df_val.reset_index(drop = True)\n",
    "df_test = df_test.reset_index(drop = True)\n",
    "\n",
    "y_train = df_train.converted.values\n",
    "y_val = df_val.converted.values\n",
    "y_test = df_test.converted.values\n",
    "\n",
    "del df_train['converted']\n",
    "del df_val['converted']\n",
    "del df_test['converted']"
   ]
  },
  {
   "cell_type": "markdown",
   "id": "3284b89b-c141-4326-af33-5036a19e463f",
   "metadata": {},
   "source": [
    "## Q1: ROC AUC Feature Importance\n",
    "* Which numerical feature has the highest AUC? **number_of_courses_viewed has the highest AUC**"
   ]
  },
  {
   "cell_type": "code",
   "execution_count": 9,
   "id": "329bca1b-7017-4246-8963-4daef7933e1b",
   "metadata": {},
   "outputs": [],
   "source": [
    "from sklearn.metrics import roc_auc_score"
   ]
  },
  {
   "cell_type": "code",
   "execution_count": 10,
   "id": "a2f418d4-517a-405e-9f69-3c54ac19ed45",
   "metadata": {},
   "outputs": [
    {
     "name": "stdout",
     "output_type": "stream",
     "text": [
      "number_of_courses_viewed: 0.764\n",
      "annual_income: 0.552\n",
      "interaction_count: 0.738\n",
      "lead_score: 0.614\n"
     ]
    }
   ],
   "source": [
    "for c in numeric:\n",
    "    print('%s: %.3f' % (c, roc_auc_score(y_train, df_train[c])))"
   ]
  },
  {
   "cell_type": "markdown",
   "id": "36db71ed-253b-4614-9d10-192e0507179b",
   "metadata": {},
   "source": [
    "## Q2: Training the model\n",
    "* What is the AUC of the model on the validation dataset (to 3 digits)?  **0.817, closest to 0.72**"
   ]
  },
  {
   "cell_type": "code",
   "execution_count": 14,
   "id": "bcefaf30-4900-4729-b775-01fdf1225a2d",
   "metadata": {},
   "outputs": [
    {
     "name": "stdout",
     "output_type": "stream",
     "text": [
      "AUC vs validation set is: 0.817\n",
      "AUC vs test set is: 0.820\n"
     ]
    }
   ],
   "source": [
    "dv = DictVectorizer(sparse=False)\n",
    "\n",
    "train_dict = df_train[categorical + numeric].to_dict(orient='records')\n",
    "X_train = dv.fit_transform(train_dict)\n",
    "\n",
    "val_dict = df_val[categorical + numeric].to_dict(orient='records')\n",
    "X_val = dv.transform(val_dict)\n",
    "\n",
    "test_dict = df_test[categorical + numeric].to_dict(orient='records')\n",
    "X_test = dv.transform(test_dict)\n",
    "\n",
    "model = LogisticRegression(solver='liblinear', C=1.0, max_iter=1000)\n",
    "model.fit(X_train, y_train)\n",
    "\n",
    "\n",
    "\n",
    "y_pred = model.predict_proba(X_val)[:,1]\n",
    "#y_pred = model.predict_proba(X_test)[:,1]\n",
    "print('AUC vs validation set is: %.3f' % (roc_auc_score(y_val, model.predict_proba(X_val)[:,1])))\n",
    "print('AUC vs test set is: %.3f' % (roc_auc_score(y_test, model.predict_proba(X_test)[:,1])))"
   ]
  },
  {
   "cell_type": "markdown",
   "id": "5cb846e5-5bc2-40d6-b415-d60037946836",
   "metadata": {},
   "source": [
    "## Q3: Precision and Recall\n",
    "* At which threshold do precision and recall curves intersect? **Closest is at 0.545**\n",
    "\n",
    "## Q4: F1 Score\n",
    "* At which threshold is F1 max'd? **Decreases as threshold increases.  Max is at 0.14**"
   ]
  },
  {
   "cell_type": "code",
   "execution_count": 15,
   "id": "9aae2c9e-5392-456d-8163-d3a001b2346f",
   "metadata": {},
   "outputs": [
    {
     "data": {
      "text/plain": [
       "array([0.  , 0.01, 0.02, 0.03, 0.04, 0.05, 0.06, 0.07, 0.08, 0.09, 0.1 ,\n",
       "       0.11, 0.12, 0.13, 0.14, 0.15, 0.16, 0.17, 0.18, 0.19, 0.2 , 0.21,\n",
       "       0.22, 0.23, 0.24, 0.25, 0.26, 0.27, 0.28, 0.29, 0.3 , 0.31, 0.32,\n",
       "       0.33, 0.34, 0.35, 0.36, 0.37, 0.38, 0.39, 0.4 , 0.41, 0.42, 0.43,\n",
       "       0.44, 0.45, 0.46, 0.47, 0.48, 0.49, 0.5 , 0.51, 0.52, 0.53, 0.54,\n",
       "       0.55, 0.56, 0.57, 0.58, 0.59, 0.6 , 0.61, 0.62, 0.63, 0.64, 0.65,\n",
       "       0.66, 0.67, 0.68, 0.69, 0.7 , 0.71, 0.72, 0.73, 0.74, 0.75, 0.76,\n",
       "       0.77, 0.78, 0.79, 0.8 , 0.81, 0.82, 0.83, 0.84, 0.85, 0.86, 0.87,\n",
       "       0.88, 0.89, 0.9 , 0.91, 0.92, 0.93, 0.94, 0.95, 0.96, 0.97, 0.98,\n",
       "       0.99, 1.  ])"
      ]
     },
     "execution_count": 15,
     "metadata": {},
     "output_type": "execute_result"
    }
   ],
   "source": [
    "np.linspace(0,1,101)"
   ]
  },
  {
   "cell_type": "code",
   "execution_count": 27,
   "id": "8a9955d7-0ffd-472f-a756-3548e43e1c96",
   "metadata": {},
   "outputs": [
    {
     "name": "stdout",
     "output_type": "stream",
     "text": [
      "0.00 F1 is: 0.76\n",
      "0.01 F1 is: 0.76\n",
      "0.02 F1 is: 0.76\n",
      "0.03 F1 is: 0.76\n",
      "0.04 F1 is: 0.76\n",
      "0.05 F1 is: 0.76\n",
      "0.06 F1 is: 0.76\n",
      "0.07 F1 is: 0.76\n",
      "0.08 F1 is: 0.76\n",
      "0.09 F1 is: 0.76\n",
      "0.10 F1 is: 0.76\n",
      "0.11 F1 is: 0.76\n",
      "0.12 F1 is: 0.76\n",
      "0.13 F1 is: 0.76\n",
      "0.14 F1 is: 0.76\n",
      "0.15 F1 is: 0.76\n",
      "0.16 F1 is: 0.76\n",
      "0.17 F1 is: 0.76\n",
      "0.18 F1 is: 0.76\n",
      "0.19 F1 is: 0.76\n",
      "0.20 F1 is: 0.76\n",
      "0.21 F1 is: 0.76\n",
      "0.22 F1 is: 0.76\n",
      "0.23 F1 is: 0.76\n",
      "0.24 F1 is: 0.76\n",
      "0.25 F1 is: 0.76\n",
      "0.26 F1 is: 0.77\n",
      "0.27 F1 is: 0.77\n",
      "0.28 F1 is: 0.77\n",
      "0.29 F1 is: 0.77\n",
      "0.30 F1 is: 0.77\n",
      "0.31 F1 is: 0.77\n",
      "0.32 F1 is: 0.77\n",
      "0.33 F1 is: 0.77\n",
      "0.34 F1 is: 0.77\n",
      "0.35 F1 is: 0.78\n",
      "0.36 F1 is: 0.78\n",
      "0.37 F1 is: 0.78\n",
      "0.38 F1 is: 0.78\n",
      "0.39 F1 is: 0.79\n",
      "0.40 F1 is: 0.79\n",
      "0.41 F1 is: 0.80\n",
      "0.42 F1 is: 0.80\n",
      "0.43 F1 is: 0.81\n",
      "0.44 F1 is: 0.81\n",
      "0.45 F1 is: 0.82\n",
      "0.46 F1 is: 0.82\n",
      "0.47 F1 is: 0.82\n",
      "0.48 F1 is: 0.82\n",
      "0.49 F1 is: 0.82\n",
      "0.50 F1 is: 0.82\n",
      "0.51 F1 is: 0.82\n",
      "0.52 F1 is: 0.82\n",
      "0.53 F1 is: 0.84\n",
      "0.54 F1 is: 0.84\n",
      "0.55 F1 is: 0.84\n",
      "0.56 F1 is: 0.85\n",
      "0.57 F1 is: 0.85\n",
      "0.58 F1 is: 0.85\n",
      "0.59 F1 is: 0.83\n",
      "0.60 F1 is: 0.82\n",
      "0.61 F1 is: 0.81\n",
      "0.62 F1 is: 0.80\n",
      "0.63 F1 is: 0.79\n",
      "0.64 F1 is: 0.77\n",
      "0.65 F1 is: 0.76\n",
      "0.66 F1 is: 0.76\n",
      "0.67 F1 is: 0.75\n",
      "0.68 F1 is: 0.75\n",
      "0.69 F1 is: 0.73\n",
      "0.70 F1 is: 0.71\n",
      "0.71 F1 is: 0.71\n",
      "0.72 F1 is: 0.71\n",
      "0.73 F1 is: 0.70\n",
      "0.74 F1 is: 0.68\n",
      "0.75 F1 is: 0.65\n",
      "0.76 F1 is: 0.62\n",
      "0.77 F1 is: 0.61\n",
      "0.78 F1 is: 0.58\n",
      "0.79 F1 is: 0.56\n",
      "0.80 F1 is: 0.55\n",
      "0.81 F1 is: 0.51\n",
      "0.82 F1 is: 0.48\n",
      "0.83 F1 is: 0.43\n",
      "0.84 F1 is: 0.39\n",
      "0.85 F1 is: 0.34\n",
      "0.86 F1 is: 0.30\n",
      "0.87 F1 is: 0.28\n",
      "0.88 F1 is: 0.27\n",
      "0.89 F1 is: 0.20\n",
      "0.90 F1 is: 0.20\n",
      "0.91 F1 is: 0.17\n",
      "0.92 F1 is: 0.14\n",
      "0.93 F1 is: 0.11\n",
      "0.94 F1 is: 0.05\n",
      "0.95 F1 is: 0.03\n",
      "0.96 F1 is: 0.01\n",
      "0.97 F1 is: nan\n",
      "0.98 F1 is: nan\n",
      "0.99 F1 is: nan\n",
      "1.00 F1 is: nan\n"
     ]
    },
    {
     "name": "stderr",
     "output_type": "stream",
     "text": [
      "/tmp/ipykernel_3665/2497757257.py:17: RuntimeWarning: invalid value encountered in scalar divide\n",
      "  p.append(tp / (tp + fp))\n"
     ]
    }
   ],
   "source": [
    "actual_positive = (y_val == 1)\n",
    "actual_negative = (y_val == 0)\n",
    "\n",
    "def f1(r,p):\n",
    "    return 2 * ((p * r)/(p+r))\n",
    "\n",
    "p = []\n",
    "r = []\n",
    "\n",
    "for t in list(np.linspace(0,1,101)):\n",
    "    predict_positive = (y_pred >= t)\n",
    "    predict_negative = (y_pred < t)\n",
    "    tp = (predict_positive & actual_positive).sum()\n",
    "    tn = (predict_negative & actual_negative).sum()\n",
    "    fp = (predict_positive & actual_negative).sum()\n",
    "    fn = (predict_negative & actual_positive).sum()\n",
    "    p.append(tp / (tp + fp))\n",
    "    r.append(tp / (fn + tp))\n",
    "    print('%.2f F1 is: %.2f' % (t,f1(r[-1],p[-1])))"
   ]
  },
  {
   "cell_type": "code",
   "execution_count": 46,
   "id": "7e49a516-c49c-416e-847d-03e9b518af23",
   "metadata": {},
   "outputs": [],
   "source": [
    "pdf = pd.DataFrame(p, index = np.linspace(0,1,101))\n",
    "rdf = pd.DataFrame(r, index = np.linspace(0,1,101))"
   ]
  },
  {
   "cell_type": "code",
   "execution_count": 65,
   "id": "d0e107d3-7d9e-4d9d-a6a3-c8308e5a89f8",
   "metadata": {},
   "outputs": [],
   "source": [
    "pdf['Recall'] = rdf"
   ]
  },
  {
   "cell_type": "code",
   "execution_count": 69,
   "id": "19e0437a-422a-48b9-ae1f-2310fbc10c89",
   "metadata": {},
   "outputs": [
    {
     "data": {
      "text/html": [
       "<div>\n",
       "<style scoped>\n",
       "    .dataframe tbody tr th:only-of-type {\n",
       "        vertical-align: middle;\n",
       "    }\n",
       "\n",
       "    .dataframe tbody tr th {\n",
       "        vertical-align: top;\n",
       "    }\n",
       "\n",
       "    .dataframe thead th {\n",
       "        text-align: right;\n",
       "    }\n",
       "</style>\n",
       "<table border=\"1\" class=\"dataframe\">\n",
       "  <thead>\n",
       "    <tr style=\"text-align: right;\">\n",
       "      <th></th>\n",
       "      <th>Precision</th>\n",
       "      <th>Recall</th>\n",
       "    </tr>\n",
       "  </thead>\n",
       "  <tbody>\n",
       "    <tr>\n",
       "      <th>0.54</th>\n",
       "      <td>0.790123</td>\n",
       "      <td>0.901408</td>\n",
       "    </tr>\n",
       "    <tr>\n",
       "      <th>0.55</th>\n",
       "      <td>0.797468</td>\n",
       "      <td>0.887324</td>\n",
       "    </tr>\n",
       "    <tr>\n",
       "      <th>0.56</th>\n",
       "      <td>0.807692</td>\n",
       "      <td>0.887324</td>\n",
       "    </tr>\n",
       "    <tr>\n",
       "      <th>0.57</th>\n",
       "      <td>0.818182</td>\n",
       "      <td>0.887324</td>\n",
       "    </tr>\n",
       "    <tr>\n",
       "      <th>0.58</th>\n",
       "      <td>0.827815</td>\n",
       "      <td>0.880282</td>\n",
       "    </tr>\n",
       "    <tr>\n",
       "      <th>0.59</th>\n",
       "      <td>0.820690</td>\n",
       "      <td>0.838028</td>\n",
       "    </tr>\n",
       "    <tr>\n",
       "      <th>0.60</th>\n",
       "      <td>0.821429</td>\n",
       "      <td>0.809859</td>\n",
       "    </tr>\n",
       "    <tr>\n",
       "      <th>0.61</th>\n",
       "      <td>0.824818</td>\n",
       "      <td>0.795775</td>\n",
       "    </tr>\n",
       "    <tr>\n",
       "      <th>0.62</th>\n",
       "      <td>0.828358</td>\n",
       "      <td>0.781690</td>\n",
       "    </tr>\n",
       "    <tr>\n",
       "      <th>0.63</th>\n",
       "      <td>0.828125</td>\n",
       "      <td>0.746479</td>\n",
       "    </tr>\n",
       "    <tr>\n",
       "      <th>0.64</th>\n",
       "      <td>0.827869</td>\n",
       "      <td>0.711268</td>\n",
       "    </tr>\n",
       "    <tr>\n",
       "      <th>0.65</th>\n",
       "      <td>0.837607</td>\n",
       "      <td>0.690141</td>\n",
       "    </tr>\n",
       "    <tr>\n",
       "      <th>0.66</th>\n",
       "      <td>0.872727</td>\n",
       "      <td>0.676056</td>\n",
       "    </tr>\n",
       "    <tr>\n",
       "      <th>0.67</th>\n",
       "      <td>0.869159</td>\n",
       "      <td>0.654930</td>\n",
       "    </tr>\n",
       "    <tr>\n",
       "      <th>0.68</th>\n",
       "      <td>0.884615</td>\n",
       "      <td>0.647887</td>\n",
       "    </tr>\n",
       "    <tr>\n",
       "      <th>0.69</th>\n",
       "      <td>0.880000</td>\n",
       "      <td>0.619718</td>\n",
       "    </tr>\n",
       "    <tr>\n",
       "      <th>0.70</th>\n",
       "      <td>0.893617</td>\n",
       "      <td>0.591549</td>\n",
       "    </tr>\n",
       "    <tr>\n",
       "      <th>0.71</th>\n",
       "      <td>0.892473</td>\n",
       "      <td>0.584507</td>\n",
       "    </tr>\n",
       "    <tr>\n",
       "      <th>0.72</th>\n",
       "      <td>0.911111</td>\n",
       "      <td>0.577465</td>\n",
       "    </tr>\n",
       "    <tr>\n",
       "      <th>0.73</th>\n",
       "      <td>0.929412</td>\n",
       "      <td>0.556338</td>\n",
       "    </tr>\n",
       "    <tr>\n",
       "      <th>0.74</th>\n",
       "      <td>0.926829</td>\n",
       "      <td>0.535211</td>\n",
       "    </tr>\n",
       "  </tbody>\n",
       "</table>\n",
       "</div>"
      ],
      "text/plain": [
       "      Precision    Recall\n",
       "0.54   0.790123  0.901408\n",
       "0.55   0.797468  0.887324\n",
       "0.56   0.807692  0.887324\n",
       "0.57   0.818182  0.887324\n",
       "0.58   0.827815  0.880282\n",
       "0.59   0.820690  0.838028\n",
       "0.60   0.821429  0.809859\n",
       "0.61   0.824818  0.795775\n",
       "0.62   0.828358  0.781690\n",
       "0.63   0.828125  0.746479\n",
       "0.64   0.827869  0.711268\n",
       "0.65   0.837607  0.690141\n",
       "0.66   0.872727  0.676056\n",
       "0.67   0.869159  0.654930\n",
       "0.68   0.884615  0.647887\n",
       "0.69   0.880000  0.619718\n",
       "0.70   0.893617  0.591549\n",
       "0.71   0.892473  0.584507\n",
       "0.72   0.911111  0.577465\n",
       "0.73   0.929412  0.556338\n",
       "0.74   0.926829  0.535211"
      ]
     },
     "execution_count": 69,
     "metadata": {},
     "output_type": "execute_result"
    }
   ],
   "source": [
    "pdf.loc['0.54':'0.74']"
   ]
  },
  {
   "cell_type": "code",
   "execution_count": 31,
   "id": "3aa1931c-29e3-4ca1-b09f-4488cf62e6fb",
   "metadata": {},
   "outputs": [
    {
     "data": {
      "text/plain": [
       "<matplotlib.legend.Legend at 0x78ff52a1f8c0>"
      ]
     },
     "execution_count": 31,
     "metadata": {},
     "output_type": "execute_result"
    },
    {
     "data": {
      "image/png": "[encoded data removed]",
      "text/plain": [
       "<Figure size 640x480 with 1 Axes>"
      ]
     },
     "metadata": {},
     "output_type": "display_data"
    }
   ],
   "source": [
    "plt.plot(np.linspace(0,1,101),p, label = 'Precision')\n",
    "plt.plot(np.linspace(0,1,101),r, label = 'Recall')\n",
    "plt.legend()"
   ]
  },
  {
   "cell_type": "code",
   "execution_count": null,
   "id": "a1ce515d-47c0-4fdf-9365-51e2ca3e6516",
   "metadata": {},
   "outputs": [],
   "source": []
  },
  {
   "cell_type": "markdown",
   "id": "89008160-5690-475d-b00f-03b29ec8a637",
   "metadata": {},
   "source": [
    "## Q5: 5-fold CV\n",
    "* How large is the standard deviation across folds? **.06 is the closest answer**"
   ]
  },
  {
   "cell_type": "code",
   "execution_count": 17,
   "id": "9eba6130-4d23-4605-9f57-f428d1b25faf",
   "metadata": {},
   "outputs": [],
   "source": [
    "from sklearn.model_selection import KFold\n",
    "kfold = KFold(n_splits=5, shuffle=True, random_state=1)"
   ]
  },
  {
   "cell_type": "code",
   "execution_count": 18,
   "id": "d17bbab7-f1c1-49fe-8b34-7fd0dafb555e",
   "metadata": {},
   "outputs": [
    {
     "name": "stdout",
     "output_type": "stream",
     "text": [
      "0.806 +/- 0.000\n",
      "0.839 +/- 0.033\n",
      "0.818 +/- 0.040\n",
      "0.814 +/- 0.035\n",
      "0.822 +/- 0.036\n"
     ]
    }
   ],
   "source": [
    "def train(df_train, y_train, C=1.0):\n",
    "    dicts = df_train[categorical + numeric].to_dict(orient='records')\n",
    "\n",
    "    dv = DictVectorizer(sparse=False)\n",
    "    X_train = dv.fit_transform(dicts)\n",
    "\n",
    "    model = LogisticRegression(solver = 'liblinear', C=C, max_iter=1000)\n",
    "    model.fit(X_train, y_train)\n",
    "    \n",
    "    return dv, model\n",
    "\n",
    "def predict(df, dv, model):\n",
    "    dicts = df[categorical + numeric].to_dict(orient = 'records')\n",
    "\n",
    "    X = dv.transform(dicts)\n",
    "    y_pred = model.predict_proba(X)[:,1]\n",
    "\n",
    "    return y_pred\n",
    "\n",
    "scores = []\n",
    "for train_idx, val_idx in kfold.split(df_full_train):\n",
    "    df_train = df_full_train.iloc[train_idx]\n",
    "    df_val = df_full_train.iloc[val_idx]\n",
    "\n",
    "    y_train = df_train.converted.values\n",
    "    y_val = df_val.converted.values\n",
    "\n",
    "    dv, model = train(df_train, y_train)\n",
    "    y_pred = predict(df_val, dv, model)\n",
    "\n",
    "    scores.append(roc_auc_score(y_val, y_pred))\n",
    "    print ('%.3f +/- %.3f' % (np.mean(scores), np.std(scores)))"
   ]
  },
  {
   "cell_type": "code",
   "execution_count": 19,
   "id": "6a057845-d1b8-4d8e-b55b-00da99394711",
   "metadata": {},
   "outputs": [
    {
     "data": {
      "text/plain": [
       "np.float64(0.01096175168483576)"
      ]
     },
     "execution_count": 19,
     "metadata": {},
     "output_type": "execute_result"
    }
   ],
   "source": [
    "np.std([.806, .839, .818, .814, .822])"
   ]
  },
  {
   "cell_type": "code",
   "execution_count": 20,
   "id": "5b1fa07a-aa42-4da6-bc72-9555b0118846",
   "metadata": {},
   "outputs": [
    {
     "data": {
      "text/plain": [
       "np.float64(0.03580711942905165)"
      ]
     },
     "execution_count": 20,
     "metadata": {},
     "output_type": "execute_result"
    }
   ],
   "source": [
    "np.std(scores)"
   ]
  },
  {
   "cell_type": "code",
   "execution_count": 21,
   "id": "1df24e00-ba0c-4fd4-8ee1-dc6de2f19fa4",
   "metadata": {},
   "outputs": [
    {
     "data": {
      "text/plain": [
       "0.03"
      ]
     },
     "execution_count": 21,
     "metadata": {},
     "output_type": "execute_result"
    }
   ],
   "source": [
    "abs(.006 - .036)"
   ]
  },
  {
   "cell_type": "code",
   "execution_count": 22,
   "id": "8782ee2e-7ae2-4e25-8498-6505a81644f6",
   "metadata": {},
   "outputs": [
    {
     "data": {
      "text/plain": [
       "0.024"
      ]
     },
     "execution_count": 22,
     "metadata": {},
     "output_type": "execute_result"
    }
   ],
   "source": [
    "abs(.06-.036)"
   ]
  },
  {
   "cell_type": "markdown",
   "id": "c4a13ad9-f72c-4362-bff1-3284dd90fbb2",
   "metadata": {},
   "source": [
    "## Q6: Hyperparameter Tuning\n",
    "* Which value of c leads to the best mean score? **c = .000001 is the best**"
   ]
  },
  {
   "cell_type": "code",
   "execution_count": 25,
   "id": "7f13ff42-b9fd-42e5-92f9-b86c5e50f1d6",
   "metadata": {},
   "outputs": [
    {
     "name": "stdout",
     "output_type": "stream",
     "text": [
      "C: 0.000001 --> 0.560 +/- 0.024\n",
      "C: 0.001000 --> 0.867 +/- 0.029\n",
      "C: 1.000000 --> 0.822 +/- 0.036\n"
     ]
    }
   ],
   "source": [
    "for c in [0.000001, 0.001, 1]:\n",
    "    scores = []\n",
    "    kfold = KFold(n_splits=5, shuffle=True, random_state=1)\n",
    "    for train_idx, val_idx in kfold.split(df_full_train):\n",
    "        df_train = df_full_train.iloc[train_idx]\n",
    "        df_val = df_full_train.iloc[val_idx]\n",
    "\n",
    "        y_train = df_train.converted.values\n",
    "        y_val = df_val.converted.values\n",
    "\n",
    "        dv, model = train(df_train, y_train, c)\n",
    "        y_pred = predict(df_val, dv, model)\n",
    "\n",
    "        scores.append(roc_auc_score(y_val, y_pred))\n",
    "    print ('C: %f --> %.3f +/- %.3f' % (c,np.mean(scores), np.std(scores)))"
   ]
  },
  {
   "cell_type": "code",
   "execution_count": null,
   "id": "275b3a4e-9720-4bfc-8e7b-2124e8b16103",
   "metadata": {},
   "outputs": [],
   "source": []
  }
 ],
 "metadata": {
  "kernelspec": {
   "display_name": "Python 3 (ipykernel)",
   "language": "python",
   "name": "python3"
  },
  "language_info": {
   "codemirror_mode": {
    "name": "ipython",
    "version": 3
   },
   "file_extension": ".py",
   "mimetype": "text/x-python",
   "name": "python",
   "nbconvert_exporter": "python",
   "pygments_lexer": "ipython3",
   "version": "3.12.1"
  }
 },
 "nbformat": 4,
 "nbformat_minor": 5
}
