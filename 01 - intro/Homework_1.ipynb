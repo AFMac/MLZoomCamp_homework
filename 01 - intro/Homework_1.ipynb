{
 "cells": [
  {
   "cell_type": "code",
   "execution_count": 1,
   "id": "d6d5951d-e082-47c3-b7d9-2f5a098797af",
   "metadata": {},
   "outputs": [],
   "source": [
    "import pandas as pd\n",
    "import numpy as np"
   ]
  },
  {
   "cell_type": "markdown",
   "id": "6cce3303-8350-490e-a021-59f1a040daa6",
   "metadata": {},
   "source": [
    "**Q1: What is version of Pandas?** *Answer: Installed version is 2.3.1*"
   ]
  },
  {
   "cell_type": "code",
   "execution_count": 2,
   "id": "95dba8d9-143e-4659-9c36-866b9805b7cb",
   "metadata": {},
   "outputs": [
    {
     "data": {
      "text/plain": [
       "'2.3.1'"
      ]
     },
     "execution_count": 2,
     "metadata": {},
     "output_type": "execute_result"
    }
   ],
   "source": [
    "pd.__version__"
   ]
  },
  {
   "cell_type": "markdown",
   "id": "a759ac8d-f6d8-4627-be24-dac681333d98",
   "metadata": {},
   "source": [
    "**Q2: How many records are in the downloaded dataset?** *Answer: there are 9704 records in the dataset*"
   ]
  },
  {
   "cell_type": "code",
   "execution_count": 3,
   "id": "e82a6d05-b244-4a3a-964d-1ebe67cc3d62",
   "metadata": {},
   "outputs": [],
   "source": [
    "df = pd.read_csv('car_fuel_efficiency.txt')"
   ]
  },
  {
   "cell_type": "code",
   "execution_count": 6,
   "id": "807029b8-88bc-412e-ad16-f9dd5e6c5170",
   "metadata": {},
   "outputs": [
    {
     "data": {
      "text/plain": [
       "(9704, 11)"
      ]
     },
     "execution_count": 6,
     "metadata": {},
     "output_type": "execute_result"
    }
   ],
   "source": [
    "df.shape"
   ]
  },
  {
   "cell_type": "markdown",
   "id": "69fe1665-314c-4c5d-ade3-72ec167dc85d",
   "metadata": {},
   "source": [
    "**Q3: How many fuel types??**  *Answer: there are 2 fuel types in the dataset*"
   ]
  },
  {
   "cell_type": "code",
   "execution_count": 8,
   "id": "79269929-7f02-430f-a584-066cfc332985",
   "metadata": {},
   "outputs": [
    {
     "data": {
      "text/plain": [
       "engine_displacement      36\n",
       "num_cylinders            14\n",
       "horsepower              192\n",
       "vehicle_weight         9704\n",
       "acceleration            162\n",
       "model_year               24\n",
       "origin                    3\n",
       "fuel_type                 2\n",
       "drivetrain                2\n",
       "num_doors                 9\n",
       "fuel_efficiency_mpg    9704\n",
       "dtype: int64"
      ]
     },
     "execution_count": 8,
     "metadata": {},
     "output_type": "execute_result"
    }
   ],
   "source": [
    "df.nunique()"
   ]
  },
  {
   "cell_type": "markdown",
   "id": "5a856fae-f95f-4e98-b31b-f3cc52d6afaf",
   "metadata": {},
   "source": [
    "**Q4: How many columns have missing values?**   *Answer: 4 columns have missing values*"
   ]
  },
  {
   "cell_type": "code",
   "execution_count": 12,
   "id": "df988587-2687-4f42-982e-4b6d397cf9ea",
   "metadata": {},
   "outputs": [
    {
     "data": {
      "text/plain": [
       "engine_displacement      0\n",
       "num_cylinders          482\n",
       "horsepower             708\n",
       "vehicle_weight           0\n",
       "acceleration           930\n",
       "model_year               0\n",
       "origin                   0\n",
       "fuel_type                0\n",
       "drivetrain               0\n",
       "num_doors              502\n",
       "fuel_efficiency_mpg      0\n",
       "dtype: int64"
      ]
     },
     "execution_count": 12,
     "metadata": {},
     "output_type": "execute_result"
    }
   ],
   "source": [
    "df.isnull().sum()"
   ]
  },
  {
   "cell_type": "markdown",
   "id": "37474e1b-ec0c-4927-b7a2-296442f729b3",
   "metadata": {},
   "source": [
    "**Q5: What is the max fuel efficiency of cars from Asia?** *Answer: the answer is 23.76 (23.75 since that is the closest option provided)*"
   ]
  },
  {
   "cell_type": "code",
   "execution_count": 16,
   "id": "8e6f04e9-e20c-4ca3-a1bd-63799a7eff02",
   "metadata": {},
   "outputs": [
    {
     "data": {
      "text/plain": [
       "origin\n",
       "Asia      23.76\n",
       "Europe    25.97\n",
       "USA       24.97\n",
       "Name: fuel_efficiency_mpg, dtype: float64"
      ]
     },
     "execution_count": 16,
     "metadata": {},
     "output_type": "execute_result"
    }
   ],
   "source": [
    "df.groupby('origin')['fuel_efficiency_mpg'].max().round(2)"
   ]
  },
  {
   "cell_type": "markdown",
   "id": "72d689c0-90c1-4567-beb5-66f879e9458a",
   "metadata": {},
   "source": [
    "**Q6: Median value of horsepower...does filling in missing data change it?** *Answer: yes, it increased (unsurprising since the most common value was more than the median and was used to fill more than 700 missing values)*"
   ]
  },
  {
   "cell_type": "code",
   "execution_count": 17,
   "id": "3a662217-8e81-42c3-82ff-2855cb18f465",
   "metadata": {},
   "outputs": [
    {
     "data": {
      "text/plain": [
       "np.float64(149.0)"
      ]
     },
     "execution_count": 17,
     "metadata": {},
     "output_type": "execute_result"
    }
   ],
   "source": [
    "df.horsepower.median()"
   ]
  },
  {
   "cell_type": "code",
   "execution_count": 21,
   "id": "95340434-57fd-4675-b74b-af2fe71b309c",
   "metadata": {},
   "outputs": [
    {
     "data": {
      "text/plain": [
       "horsepower\n",
       "152.0    142\n",
       "145.0    141\n",
       "151.0    134\n",
       "148.0    130\n",
       "141.0    130\n",
       "        ... \n",
       "40.0       1\n",
       "57.0       1\n",
       "245.0      1\n",
       "252.0      1\n",
       "61.0       1\n",
       "Name: count, Length: 192, dtype: int64"
      ]
     },
     "execution_count": 21,
     "metadata": {},
     "output_type": "execute_result"
    }
   ],
   "source": [
    "df.horsepower.value_counts()"
   ]
  },
  {
   "cell_type": "code",
   "execution_count": 22,
   "id": "980c8ecf-b84b-4c4a-83a6-46d8d58ba6ed",
   "metadata": {},
   "outputs": [],
   "source": [
    "df_filled = df.fillna({'horsepower':152})"
   ]
  },
  {
   "cell_type": "code",
   "execution_count": 25,
   "id": "bf39f95b-4737-4866-b16e-f4397167b769",
   "metadata": {},
   "outputs": [
    {
     "data": {
      "text/plain": [
       "np.float64(152.0)"
      ]
     },
     "execution_count": 25,
     "metadata": {},
     "output_type": "execute_result"
    }
   ],
   "source": [
    "df_filled.horsepower.median()"
   ]
  },
  {
   "cell_type": "markdown",
   "id": "02cebdbf-ecab-4e0f-9385-7ab43110850c",
   "metadata": {},
   "source": [
    "**Q7: Sum of weights...what is the sum?** *Answer:.51*"
   ]
  },
  {
   "cell_type": "code",
   "execution_count": 38,
   "id": "061394f2-a12f-4078-9396-ac05c1be5c6f",
   "metadata": {},
   "outputs": [
    {
     "data": {
      "text/plain": [
       "array([[2714.21930965, 2016.        ],\n",
       "       [2783.86897424, 2010.        ],\n",
       "       [3582.68736772, 2007.        ],\n",
       "       [2231.8081416 , 2011.        ],\n",
       "       [2659.43145076, 2016.        ],\n",
       "       [2844.22753389, 2014.        ],\n",
       "       [3761.99403819, 2019.        ]])"
      ]
     },
     "execution_count": 38,
     "metadata": {},
     "output_type": "execute_result"
    }
   ],
   "source": [
    "X = df[df.origin == 'Asia'][['vehicle_weight','model_year']].head(n=7).values\n",
    "X"
   ]
  },
  {
   "cell_type": "code",
   "execution_count": 47,
   "id": "3848c493-623c-43e2-9752-3ac496c9e5c9",
   "metadata": {},
   "outputs": [
    {
     "data": {
      "text/plain": [
       "array([[62248334.33150762, 41431216.5073268 ],\n",
       "       [41431216.5073268 , 28373339.        ]])"
      ]
     },
     "execution_count": 47,
     "metadata": {},
     "output_type": "execute_result"
    }
   ],
   "source": [
    "X_transpose = X.T\n",
    "XTX = X_transpose.dot(X)\n",
    "XTX"
   ]
  },
  {
   "cell_type": "code",
   "execution_count": 49,
   "id": "d1ee72dc-c5e5-472f-8af7-4f3b3c49ccce",
   "metadata": {},
   "outputs": [
    {
     "data": {
      "text/plain": [
       "array([[ 5.71497081e-07, -8.34509443e-07],\n",
       "       [-8.34509443e-07,  1.25380877e-06]])"
      ]
     },
     "execution_count": 49,
     "metadata": {},
     "output_type": "execute_result"
    }
   ],
   "source": [
    "XTX_inv = np.linalg.inv(XTX)\n",
    "XTX_inv"
   ]
  },
  {
   "cell_type": "code",
   "execution_count": 51,
   "id": "f750326f-3ea5-44af-a9a7-e4dd41257796",
   "metadata": {},
   "outputs": [
    {
     "data": {
      "text/plain": [
       "array([1100, 1300,  800,  900, 1000, 1100, 1200])"
      ]
     },
     "execution_count": 51,
     "metadata": {},
     "output_type": "execute_result"
    }
   ],
   "source": [
    "y = np.array([1100,1300,800,900,1000,1100,1200])\n",
    "y"
   ]
  },
  {
   "cell_type": "code",
   "execution_count": 58,
   "id": "838d165b-4c40-47ef-94d5-1291384dcd53",
   "metadata": {},
   "outputs": [
    {
     "data": {
      "text/plain": [
       "np.float64(0.5187709081074016)"
      ]
     },
     "execution_count": 58,
     "metadata": {},
     "output_type": "execute_result"
    }
   ],
   "source": [
    "w=XTX_inv.dot(X_transpose).dot(y)\n",
    "w.sum()"
   ]
  }
 ],
 "metadata": {
  "kernelspec": {
   "display_name": "Python 3 (ipykernel)",
   "language": "python",
   "name": "python3"
  },
  "language_info": {
   "codemirror_mode": {
    "name": "ipython",
    "version": 3
   },
   "file_extension": ".py",
   "mimetype": "text/x-python",
   "name": "python",
   "nbconvert_exporter": "python",
   "pygments_lexer": "ipython3",
   "version": "3.12.1"
  }
 },
 "nbformat": 4,
 "nbformat_minor": 5
}
