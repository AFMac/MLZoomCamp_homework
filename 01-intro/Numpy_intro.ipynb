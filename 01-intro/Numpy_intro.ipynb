{
 "cells": [
  {
   "cell_type": "code",
   "execution_count": 1,
   "id": "7ea6197e-d90b-41d7-8fbc-42940c167021",
   "metadata": {},
   "outputs": [],
   "source": [
    "import numpy as np"
   ]
  },
  {
   "cell_type": "code",
   "execution_count": 12,
   "id": "a8cd55a5-1152-4ebf-868e-45e14c8a8065",
   "metadata": {},
   "outputs": [],
   "source": [
    "def vect_vect_mult (u,v):\n",
    "    assert u.shape[0] == v.shape[0]\n",
    "\n",
    "    result = 0.0\n",
    "    for i in range(u.shape[0]):\n",
    "        result += u[i] * v[i]\n",
    "\n",
    "    return result\n"
   ]
  },
  {
   "cell_type": "code",
   "execution_count": 15,
   "id": "71b4de55-5197-4376-81ae-73d11bbabdef",
   "metadata": {},
   "outputs": [],
   "source": [
    "x = np.array([2,4,5])"
   ]
  },
  {
   "cell_type": "code",
   "execution_count": 16,
   "id": "8c29ee02-0ac3-4fb6-b6ab-799741c0a225",
   "metadata": {},
   "outputs": [
    {
     "ename": "AssertionError",
     "evalue": "",
     "output_type": "error",
     "traceback": [
      "\u001b[31m---------------------------------------------------------------------------\u001b[39m",
      "\u001b[31mAssertionError\u001b[39m                            Traceback (most recent call last)",
      "\u001b[36mCell\u001b[39m\u001b[36m \u001b[39m\u001b[32mIn[16]\u001b[39m\u001b[32m, line 1\u001b[39m\n\u001b[32m----> \u001b[39m\u001b[32m1\u001b[39m \u001b[43mvect_vect_mult\u001b[49m\u001b[43m(\u001b[49m\u001b[43mu\u001b[49m\u001b[43m,\u001b[49m\u001b[43mx\u001b[49m\u001b[43m)\u001b[49m\n",
      "\u001b[36mCell\u001b[39m\u001b[36m \u001b[39m\u001b[32mIn[12]\u001b[39m\u001b[32m, line 2\u001b[39m, in \u001b[36mvect_vect_mult\u001b[39m\u001b[34m(u, v)\u001b[39m\n\u001b[32m      1\u001b[39m \u001b[38;5;28;01mdef\u001b[39;00m\u001b[38;5;250m \u001b[39m\u001b[34mvect_vect_mult\u001b[39m (u,v):\n\u001b[32m----> \u001b[39m\u001b[32m2\u001b[39m     \u001b[38;5;28;01massert\u001b[39;00m u.shape[\u001b[32m0\u001b[39m] == v.shape[\u001b[32m0\u001b[39m]\n\u001b[32m      4\u001b[39m     result = \u001b[32m0.0\u001b[39m\n\u001b[32m      5\u001b[39m     \u001b[38;5;28;01mfor\u001b[39;00m i \u001b[38;5;129;01min\u001b[39;00m \u001b[38;5;28mrange\u001b[39m(u.shape[\u001b[32m0\u001b[39m]):\n",
      "\u001b[31mAssertionError\u001b[39m: "
     ]
    }
   ],
   "source": [
    "vect_vect_mult(u,x)"
   ]
  },
  {
   "cell_type": "code",
   "execution_count": 20,
   "id": "13e5be9b-1e8a-4674-8933-cda49e223f10",
   "metadata": {},
   "outputs": [],
   "source": [
    "U = np.array ([\n",
    "    [2,4,5,6],\n",
    "    [1,2,1,2],\n",
    "    [3,2,1,2]\n",
    "])"
   ]
  },
  {
   "cell_type": "code",
   "execution_count": 22,
   "id": "767e8b5f-d485-4347-84ee-9534295e66e6",
   "metadata": {},
   "outputs": [],
   "source": [
    "v = np.array ([1,.5,2,1])"
   ]
  },
  {
   "cell_type": "code",
   "execution_count": 26,
   "id": "37f15063-2c74-4e93-a0d1-0c3e129913e2",
   "metadata": {},
   "outputs": [
    {
     "data": {
      "text/plain": [
       "array([[1., 0., 0., 0.],\n",
       "       [0., 1., 0., 0.],\n",
       "       [0., 0., 1., 0.],\n",
       "       [0., 0., 0., 1.]])"
      ]
     },
     "execution_count": 26,
     "metadata": {},
     "output_type": "execute_result"
    }
   ],
   "source": [
    "np.eye(4)"
   ]
  },
  {
   "cell_type": "code",
   "execution_count": 3,
   "id": "f75e6eb2-8090-4839-a34b-a7b24f6daea9",
   "metadata": {},
   "outputs": [
    {
     "data": {
      "text/plain": [
       "array([ 0,  2,  4,  6,  8, 10, 12, 14, 16])"
      ]
     },
     "execution_count": 3,
     "metadata": {},
     "output_type": "execute_result"
    }
   ],
   "source": [
    "2 * vect"
   ]
  },
  {
   "cell_type": "code",
   "execution_count": 18,
   "id": "1c281f92-11d9-4456-9a41-13ae2f35c530",
   "metadata": {},
   "outputs": [],
   "source": [
    "u = np.array([2,4,5,6])\n",
    "v = np.array([1,0,0,2])"
   ]
  },
  {
   "cell_type": "code",
   "execution_count": 8,
   "id": "558c58ee-af48-4775-9b2f-6297dc421a70",
   "metadata": {},
   "outputs": [
    {
     "data": {
      "text/plain": [
       "array([ 2,  0,  0, 12])"
      ]
     },
     "execution_count": 8,
     "metadata": {},
     "output_type": "execute_result"
    }
   ],
   "source": [
    "v.transpose() * u"
   ]
  },
  {
   "cell_type": "code",
   "execution_count": 11,
   "id": "eb660792-b77d-4303-b17e-e450f1c21fe4",
   "metadata": {},
   "outputs": [
    {
     "data": {
      "text/plain": [
       "(4,)"
      ]
     },
     "execution_count": 11,
     "metadata": {},
     "output_type": "execute_result"
    }
   ],
   "source": [
    "v.transpose().shape"
   ]
  },
  {
   "cell_type": "code",
   "execution_count": 4,
   "id": "fd2b752e-735c-4ec6-bed4-46d23320802a",
   "metadata": {},
   "outputs": [],
   "source": [
    "zeros_array = np.zeros(10)\n",
    "ones_array = np.ones(10)\n",
    "constant_array = np.full(10,3)"
   ]
  },
  {
   "cell_type": "code",
   "execution_count": 7,
   "id": "9e1178aa-d2c3-4644-b37d-fcb3be6202cf",
   "metadata": {},
   "outputs": [
    {
     "data": {
      "text/plain": [
       "array([2, 3, 4])"
      ]
     },
     "execution_count": 7,
     "metadata": {},
     "output_type": "execute_result"
    }
   ],
   "source": [
    "my_list = [2,3,4]\n",
    "np.array(my_list)"
   ]
  },
  {
   "cell_type": "code",
   "execution_count": 8,
   "id": "3efa3152-17a7-4a96-816b-a6c51c49467b",
   "metadata": {},
   "outputs": [],
   "source": [
    "array_from_list = np.arange(9)"
   ]
  },
  {
   "cell_type": "code",
   "execution_count": 9,
   "id": "2119b636-19d3-4ef9-8e2d-a3e864f65fa1",
   "metadata": {},
   "outputs": [
    {
     "data": {
      "text/plain": [
       "array([0, 1, 2, 3, 4, 5, 6, 7, 8])"
      ]
     },
     "execution_count": 9,
     "metadata": {},
     "output_type": "execute_result"
    }
   ],
   "source": [
    "array_from_list"
   ]
  },
  {
   "cell_type": "code",
   "execution_count": 10,
   "id": "ab6e20d6-3e21-428f-b341-0d8f614a1c8a",
   "metadata": {},
   "outputs": [],
   "source": [
    "linspace_array = np.linspace(0,1,11)"
   ]
  },
  {
   "cell_type": "code",
   "execution_count": 11,
   "id": "cbd7ab5d-96be-4903-a729-49022e635c7a",
   "metadata": {},
   "outputs": [
    {
     "data": {
      "text/plain": [
       "array([0. , 0.1, 0.2, 0.3, 0.4, 0.5, 0.6, 0.7, 0.8, 0.9, 1. ])"
      ]
     },
     "execution_count": 11,
     "metadata": {},
     "output_type": "execute_result"
    }
   ],
   "source": [
    "linspace_array"
   ]
  },
  {
   "cell_type": "code",
   "execution_count": 12,
   "id": "d592b8aa-bb6f-4f41-bdf8-935dfe6151f2",
   "metadata": {},
   "outputs": [],
   "source": [
    "zeros_matrix = np.zeros((5,2))"
   ]
  },
  {
   "cell_type": "code",
   "execution_count": 13,
   "id": "01ba309c-119c-42e5-8079-03555b34e975",
   "metadata": {},
   "outputs": [
    {
     "data": {
      "text/plain": [
       "array([[0., 0.],\n",
       "       [0., 0.],\n",
       "       [0., 0.],\n",
       "       [0., 0.],\n",
       "       [0., 0.]])"
      ]
     },
     "execution_count": 13,
     "metadata": {},
     "output_type": "execute_result"
    }
   ],
   "source": [
    "zeros_matrix"
   ]
  },
  {
   "cell_type": "code",
   "execution_count": 14,
   "id": "a5dbdb60-55ad-4d9a-afdd-bd17b0e14070",
   "metadata": {},
   "outputs": [],
   "source": [
    "np.random.seed(2)\n",
    "rand_array = np.random.rand(5,2)"
   ]
  },
  {
   "cell_type": "code",
   "execution_count": 15,
   "id": "da4939cf-fa94-44cf-9c74-f226317a8a14",
   "metadata": {},
   "outputs": [
    {
     "data": {
      "text/plain": [
       "array([[0.4359949 , 0.02592623],\n",
       "       [0.54966248, 0.43532239],\n",
       "       [0.4203678 , 0.33033482],\n",
       "       [0.20464863, 0.61927097],\n",
       "       [0.29965467, 0.26682728]])"
      ]
     },
     "execution_count": 15,
     "metadata": {},
     "output_type": "execute_result"
    }
   ],
   "source": [
    "rand_array"
   ]
  },
  {
   "cell_type": "code",
   "execution_count": 16,
   "id": "27e9e75d-d5d9-4510-aefc-b365fe2a5e76",
   "metadata": {},
   "outputs": [],
   "source": [
    "zeros_matrix = zeros_matrix + 1"
   ]
  },
  {
   "cell_type": "code",
   "execution_count": 17,
   "id": "972ec317-f396-460f-97a8-bff386115765",
   "metadata": {},
   "outputs": [
    {
     "data": {
      "text/plain": [
       "array([[1., 1.],\n",
       "       [1., 1.],\n",
       "       [1., 1.],\n",
       "       [1., 1.],\n",
       "       [1., 1.]])"
      ]
     },
     "execution_count": 17,
     "metadata": {},
     "output_type": "execute_result"
    }
   ],
   "source": [
    "zeros_matrix"
   ]
  },
  {
   "cell_type": "code",
   "execution_count": 18,
   "id": "eb08362f-8892-4069-8a23-663eaedca8fa",
   "metadata": {},
   "outputs": [
    {
     "ename": "TypeError",
     "evalue": "randint() takes at least 1 positional argument (0 given)",
     "output_type": "error",
     "traceback": [
      "\u001b[31m---------------------------------------------------------------------------\u001b[39m",
      "\u001b[31mTypeError\u001b[39m                                 Traceback (most recent call last)",
      "\u001b[36mCell\u001b[39m\u001b[36m \u001b[39m\u001b[32mIn[18]\u001b[39m\u001b[32m, line 1\u001b[39m\n\u001b[32m----> \u001b[39m\u001b[32m1\u001b[39m zeros_matrix = zeros_matrix + \u001b[43mnp\u001b[49m\u001b[43m.\u001b[49m\u001b[43mrandom\u001b[49m\u001b[43m.\u001b[49m\u001b[43mrandint\u001b[49m\u001b[43m(\u001b[49m\u001b[43m)\u001b[49m\n",
      "\u001b[36mFile \u001b[39m\u001b[32mnumpy/random/mtrand.pyx:688\u001b[39m, in \u001b[36mnumpy.random.mtrand.RandomState.randint\u001b[39m\u001b[34m()\u001b[39m\n",
      "\u001b[31mTypeError\u001b[39m: randint() takes at least 1 positional argument (0 given)"
     ]
    }
   ],
   "source": [
    "zeros_matrix = zeros_matrix + np.random.randint()"
   ]
  },
  {
   "cell_type": "code",
   "execution_count": 19,
   "id": "bc2c8199-1053-414c-9163-903c93c1170a",
   "metadata": {},
   "outputs": [
    {
     "data": {
      "text/plain": [
       "37"
      ]
     },
     "execution_count": 19,
     "metadata": {},
     "output_type": "execute_result"
    }
   ],
   "source": [
    "np.random.randint(100)"
   ]
  },
  {
   "cell_type": "code",
   "execution_count": 20,
   "id": "6ab25af4-d38b-4774-86d7-ab7d57a46de6",
   "metadata": {},
   "outputs": [],
   "source": [
    "zeros_matrix = zeros_matrix + np.random.randint(100)"
   ]
  },
  {
   "cell_type": "code",
   "execution_count": 21,
   "id": "4e9e8176-1858-443d-9c22-9c84802faca9",
   "metadata": {},
   "outputs": [
    {
     "data": {
      "text/plain": [
       "array([[40., 40.],\n",
       "       [40., 40.],\n",
       "       [40., 40.],\n",
       "       [40., 40.],\n",
       "       [40., 40.]])"
      ]
     },
     "execution_count": 21,
     "metadata": {},
     "output_type": "execute_result"
    }
   ],
   "source": [
    "zeros_matrix"
   ]
  },
  {
   "cell_type": "code",
   "execution_count": null,
   "id": "03f6f4a2-bffe-4265-91b4-777055789878",
   "metadata": {},
   "outputs": [],
   "source": []
  }
 ],
 "metadata": {
  "kernelspec": {
   "display_name": "Python 3 (ipykernel)",
   "language": "python",
   "name": "python3"
  },
  "language_info": {
   "codemirror_mode": {
    "name": "ipython",
    "version": 3
   },
   "file_extension": ".py",
   "mimetype": "text/x-python",
   "name": "python",
   "nbconvert_exporter": "python",
   "pygments_lexer": "ipython3",
   "version": "3.12.1"
  }
 },
 "nbformat": 4,
 "nbformat_minor": 5
}
